{
 "cells": [
  {
   "cell_type": "code",
   "execution_count": 1,
   "id": "941bd5f1",
   "metadata": {
    "_cell_guid": "b1076dfc-b9ad-4769-8c92-a6c4dae69d19",
    "_uuid": "8f2839f25d086af736a60e9eeb907d3b93b6e0e5",
    "execution": {
     "iopub.execute_input": "2024-09-07T09:06:10.590063Z",
     "iopub.status.busy": "2024-09-07T09:06:10.589401Z",
     "iopub.status.idle": "2024-09-07T09:06:11.059565Z",
     "shell.execute_reply": "2024-09-07T09:06:11.057363Z"
    },
    "papermill": {
     "duration": 0.485482,
     "end_time": "2024-09-07T09:06:11.063284",
     "exception": false,
     "start_time": "2024-09-07T09:06:10.577802",
     "status": "completed"
    },
    "tags": []
   },
   "outputs": [
    {
     "name": "stdout",
     "output_type": "stream",
     "text": [
      "/kaggle/input/financial-news-headlines/guardian_headlines.csv\n",
      "/kaggle/input/financial-news-headlines/cnbc_headlines.csv\n",
      "/kaggle/input/financial-news-headlines/reuters_headlines.csv\n"
     ]
    }
   ],
   "source": [
    "# This Python 3 environment comes with many helpful analytics libraries installed\n",
    "# It is defined by the kaggle/python Docker image: https://github.com/kaggle/docker-python\n",
    "# For example, here's several helpful packages to load\n",
    "\n",
    "import numpy as np # linear algebra\n",
    "import pandas as pd # data processing, CSV file I/O (e.g. pd.read_csv)\n",
    "\n",
    "# Input data files are available in the read-only \"../input/\" directory\n",
    "# For example, running this (by clicking run or pressing Shift+Enter) will list all files under the input directory\n",
    "\n",
    "import os\n",
    "for dirname, _, filenames in os.walk('/kaggle/input'):\n",
    "    for filename in filenames:\n",
    "        print(os.path.join(dirname, filename))\n",
    "\n",
    "# You can write up to 20GB to the current directory (/kaggle/working/) that gets preserved as output when you create a version using \"Save & Run All\" \n",
    "# You can also write temporary files to /kaggle/temp/, but they won't be saved outside of the current session"
   ]
  },
  {
   "cell_type": "code",
   "execution_count": 2,
   "id": "dc3e021d",
   "metadata": {
    "execution": {
     "iopub.execute_input": "2024-09-07T09:06:11.081218Z",
     "iopub.status.busy": "2024-09-07T09:06:11.079589Z",
     "iopub.status.idle": "2024-09-07T09:06:30.574180Z",
     "shell.execute_reply": "2024-09-07T09:06:30.572371Z"
    },
    "papermill": {
     "duration": 19.506526,
     "end_time": "2024-09-07T09:06:30.577364",
     "exception": false,
     "start_time": "2024-09-07T09:06:11.070838",
     "status": "completed"
    },
    "tags": []
   },
   "outputs": [
    {
     "name": "stdout",
     "output_type": "stream",
     "text": [
      "Requirement already satisfied: nltk in /opt/conda/lib/python3.10/site-packages (3.2.4)\r\n",
      "Requirement already satisfied: six in /opt/conda/lib/python3.10/site-packages (from nltk) (1.16.0)\r\n",
      "[nltk_data] Downloading package punkt to /usr/share/nltk_data...\n",
      "[nltk_data]   Package punkt is already up-to-date!\n",
      "[nltk_data] Downloading package stopwords to /usr/share/nltk_data...\n",
      "[nltk_data]   Package stopwords is already up-to-date!\n",
      "[nltk_data] Downloading package vader_lexicon to\n",
      "[nltk_data]     /usr/share/nltk_data...\n",
      "[nltk_data]   Package vader_lexicon is already up-to-date!\n"
     ]
    },
    {
     "name": "stderr",
     "output_type": "stream",
     "text": [
      "/opt/conda/lib/python3.10/site-packages/nltk/twitter/__init__.py:20: UserWarning: The twython library has not been installed. Some functionality from the twitter package will not be available.\n",
      "  warnings.warn(\"The twython library has not been installed. \"\n"
     ]
    }
   ],
   "source": [
    "!pip install nltk\n",
    "import warnings\n",
    "# Import all the required libraries \n",
    "import nltk\n",
    "#import stopwords and text processing libraries\n",
    "from nltk.corpus import stopwords\n",
    "from nltk.tokenize import word_tokenize\n",
    "from nltk.sentiment.vader import SentimentIntensityAnalyzer\n",
    "# Download NLTK resources (only required once)\n",
    "nltk.download('punkt')\n",
    "nltk.download('stopwords')\n",
    "nltk.download('vader_lexicon')\n",
    "import pandas as pd\n",
    "import numpy as np\n",
    "\n",
    "from sklearn.model_selection import train_test_split\n",
    "from sklearn.feature_extraction.text import CountVectorizer, TfidfVectorizer\n",
    "from sklearn.naive_bayes import MultinomialNB\n",
    "from sklearn.svm import SVC\n",
    "from sklearn.metrics import accuracy_score, classification_report, confusion_matrix"
   ]
  },
  {
   "cell_type": "code",
   "execution_count": 3,
   "id": "a169f92b",
   "metadata": {
    "execution": {
     "iopub.execute_input": "2024-09-07T09:06:30.595274Z",
     "iopub.status.busy": "2024-09-07T09:06:30.594034Z",
     "iopub.status.idle": "2024-09-07T09:06:30.666197Z",
     "shell.execute_reply": "2024-09-07T09:06:30.664936Z"
    },
    "papermill": {
     "duration": 0.084061,
     "end_time": "2024-09-07T09:06:30.668992",
     "exception": false,
     "start_time": "2024-09-07T09:06:30.584931",
     "status": "completed"
    },
    "tags": []
   },
   "outputs": [
    {
     "data": {
      "text/html": [
       "<div>\n",
       "<style scoped>\n",
       "    .dataframe tbody tr th:only-of-type {\n",
       "        vertical-align: middle;\n",
       "    }\n",
       "\n",
       "    .dataframe tbody tr th {\n",
       "        vertical-align: top;\n",
       "    }\n",
       "\n",
       "    .dataframe thead th {\n",
       "        text-align: right;\n",
       "    }\n",
       "</style>\n",
       "<table border=\"1\" class=\"dataframe\">\n",
       "  <thead>\n",
       "    <tr style=\"text-align: right;\">\n",
       "      <th></th>\n",
       "      <th>Headlines</th>\n",
       "      <th>Time</th>\n",
       "      <th>Description</th>\n",
       "    </tr>\n",
       "  </thead>\n",
       "  <tbody>\n",
       "    <tr>\n",
       "      <th>0</th>\n",
       "      <td>Jim Cramer: A better way to invest in the Covi...</td>\n",
       "      <td>7:51  PM ET Fri, 17 July 2020</td>\n",
       "      <td>\"Mad Money\" host Jim Cramer recommended buying...</td>\n",
       "    </tr>\n",
       "    <tr>\n",
       "      <th>1</th>\n",
       "      <td>Cramer's lightning round: I would own Teradyne</td>\n",
       "      <td>7:33  PM ET Fri, 17 July 2020</td>\n",
       "      <td>\"Mad Money\" host Jim Cramer rings the lightnin...</td>\n",
       "    </tr>\n",
       "    <tr>\n",
       "      <th>2</th>\n",
       "      <td>NaN</td>\n",
       "      <td>NaN</td>\n",
       "      <td>NaN</td>\n",
       "    </tr>\n",
       "    <tr>\n",
       "      <th>3</th>\n",
       "      <td>Cramer's week ahead: Big week for earnings, ev...</td>\n",
       "      <td>7:25  PM ET Fri, 17 July 2020</td>\n",
       "      <td>\"We'll pay more for the earnings of the non-Co...</td>\n",
       "    </tr>\n",
       "    <tr>\n",
       "      <th>4</th>\n",
       "      <td>IQ Capital CEO Keith Bliss says tech and healt...</td>\n",
       "      <td>4:24  PM ET Fri, 17 July 2020</td>\n",
       "      <td>Keith Bliss, IQ Capital CEO, joins \"Closing Be...</td>\n",
       "    </tr>\n",
       "  </tbody>\n",
       "</table>\n",
       "</div>"
      ],
      "text/plain": [
       "                                           Headlines  \\\n",
       "0  Jim Cramer: A better way to invest in the Covi...   \n",
       "1     Cramer's lightning round: I would own Teradyne   \n",
       "2                                                NaN   \n",
       "3  Cramer's week ahead: Big week for earnings, ev...   \n",
       "4  IQ Capital CEO Keith Bliss says tech and healt...   \n",
       "\n",
       "                             Time  \\\n",
       "0   7:51  PM ET Fri, 17 July 2020   \n",
       "1   7:33  PM ET Fri, 17 July 2020   \n",
       "2                             NaN   \n",
       "3   7:25  PM ET Fri, 17 July 2020   \n",
       "4   4:24  PM ET Fri, 17 July 2020   \n",
       "\n",
       "                                         Description  \n",
       "0  \"Mad Money\" host Jim Cramer recommended buying...  \n",
       "1  \"Mad Money\" host Jim Cramer rings the lightnin...  \n",
       "2                                                NaN  \n",
       "3  \"We'll pay more for the earnings of the non-Co...  \n",
       "4  Keith Bliss, IQ Capital CEO, joins \"Closing Be...  "
      ]
     },
     "execution_count": 3,
     "metadata": {},
     "output_type": "execute_result"
    }
   ],
   "source": [
    "cnbc=pd.read_csv('/kaggle/input/financial-news-headlines/cnbc_headlines.csv')\n",
    "cnbc.head()"
   ]
  },
  {
   "cell_type": "code",
   "execution_count": 4,
   "id": "97cca276",
   "metadata": {
    "execution": {
     "iopub.execute_input": "2024-09-07T09:06:30.687818Z",
     "iopub.status.busy": "2024-09-07T09:06:30.686637Z",
     "iopub.status.idle": "2024-09-07T09:06:30.766801Z",
     "shell.execute_reply": "2024-09-07T09:06:30.765601Z"
    },
    "papermill": {
     "duration": 0.092249,
     "end_time": "2024-09-07T09:06:30.769424",
     "exception": false,
     "start_time": "2024-09-07T09:06:30.677175",
     "status": "completed"
    },
    "tags": []
   },
   "outputs": [
    {
     "data": {
      "text/html": [
       "<div>\n",
       "<style scoped>\n",
       "    .dataframe tbody tr th:only-of-type {\n",
       "        vertical-align: middle;\n",
       "    }\n",
       "\n",
       "    .dataframe tbody tr th {\n",
       "        vertical-align: top;\n",
       "    }\n",
       "\n",
       "    .dataframe thead th {\n",
       "        text-align: right;\n",
       "    }\n",
       "</style>\n",
       "<table border=\"1\" class=\"dataframe\">\n",
       "  <thead>\n",
       "    <tr style=\"text-align: right;\">\n",
       "      <th></th>\n",
       "      <th>Time</th>\n",
       "      <th>Headlines</th>\n",
       "    </tr>\n",
       "  </thead>\n",
       "  <tbody>\n",
       "    <tr>\n",
       "      <th>0</th>\n",
       "      <td>18-Jul-20</td>\n",
       "      <td>Johnson is asking Santa for a Christmas recovery</td>\n",
       "    </tr>\n",
       "    <tr>\n",
       "      <th>1</th>\n",
       "      <td>18-Jul-20</td>\n",
       "      <td>‘I now fear the worst’: four grim tales of wor...</td>\n",
       "    </tr>\n",
       "    <tr>\n",
       "      <th>2</th>\n",
       "      <td>18-Jul-20</td>\n",
       "      <td>Five key areas Sunak must tackle to serve up e...</td>\n",
       "    </tr>\n",
       "    <tr>\n",
       "      <th>3</th>\n",
       "      <td>18-Jul-20</td>\n",
       "      <td>Covid-19 leaves firms ‘fatally ill-prepared’ f...</td>\n",
       "    </tr>\n",
       "    <tr>\n",
       "      <th>4</th>\n",
       "      <td>18-Jul-20</td>\n",
       "      <td>The Week in Patriarchy  \\n\\n\\n  Bacardi's 'lad...</td>\n",
       "    </tr>\n",
       "  </tbody>\n",
       "</table>\n",
       "</div>"
      ],
      "text/plain": [
       "        Time                                          Headlines\n",
       "0  18-Jul-20   Johnson is asking Santa for a Christmas recovery\n",
       "1  18-Jul-20  ‘I now fear the worst’: four grim tales of wor...\n",
       "2  18-Jul-20  Five key areas Sunak must tackle to serve up e...\n",
       "3  18-Jul-20  Covid-19 leaves firms ‘fatally ill-prepared’ f...\n",
       "4  18-Jul-20  The Week in Patriarchy  \\n\\n\\n  Bacardi's 'lad..."
      ]
     },
     "execution_count": 4,
     "metadata": {},
     "output_type": "execute_result"
    }
   ],
   "source": [
    "guardian=pd.read_csv('/kaggle/input/financial-news-headlines/guardian_headlines.csv')\n",
    "guardian.head()"
   ]
  },
  {
   "cell_type": "code",
   "execution_count": 5,
   "id": "e9656cc9",
   "metadata": {
    "execution": {
     "iopub.execute_input": "2024-09-07T09:06:30.789134Z",
     "iopub.status.busy": "2024-09-07T09:06:30.788100Z",
     "iopub.status.idle": "2024-09-07T09:06:31.191522Z",
     "shell.execute_reply": "2024-09-07T09:06:31.190202Z"
    },
    "papermill": {
     "duration": 0.415983,
     "end_time": "2024-09-07T09:06:31.194127",
     "exception": false,
     "start_time": "2024-09-07T09:06:30.778144",
     "status": "completed"
    },
    "tags": []
   },
   "outputs": [
    {
     "data": {
      "text/html": [
       "<div>\n",
       "<style scoped>\n",
       "    .dataframe tbody tr th:only-of-type {\n",
       "        vertical-align: middle;\n",
       "    }\n",
       "\n",
       "    .dataframe tbody tr th {\n",
       "        vertical-align: top;\n",
       "    }\n",
       "\n",
       "    .dataframe thead th {\n",
       "        text-align: right;\n",
       "    }\n",
       "</style>\n",
       "<table border=\"1\" class=\"dataframe\">\n",
       "  <thead>\n",
       "    <tr style=\"text-align: right;\">\n",
       "      <th></th>\n",
       "      <th>Headlines</th>\n",
       "      <th>Time</th>\n",
       "      <th>Description</th>\n",
       "    </tr>\n",
       "  </thead>\n",
       "  <tbody>\n",
       "    <tr>\n",
       "      <th>0</th>\n",
       "      <td>TikTok considers London and other locations fo...</td>\n",
       "      <td>Jul 18 2020</td>\n",
       "      <td>TikTok has been in discussions with the UK gov...</td>\n",
       "    </tr>\n",
       "    <tr>\n",
       "      <th>1</th>\n",
       "      <td>Disney cuts ad spending on Facebook amid growi...</td>\n",
       "      <td>Jul 18 2020</td>\n",
       "      <td>Walt Disney  has become the latest company to ...</td>\n",
       "    </tr>\n",
       "    <tr>\n",
       "      <th>2</th>\n",
       "      <td>Trail of missing Wirecard executive leads to B...</td>\n",
       "      <td>Jul 18 2020</td>\n",
       "      <td>Former Wirecard  chief operating officer Jan M...</td>\n",
       "    </tr>\n",
       "    <tr>\n",
       "      <th>3</th>\n",
       "      <td>Twitter says attackers downloaded data from up...</td>\n",
       "      <td>Jul 18 2020</td>\n",
       "      <td>Twitter Inc said on Saturday that hackers were...</td>\n",
       "    </tr>\n",
       "    <tr>\n",
       "      <th>4</th>\n",
       "      <td>U.S. Republicans seek liability protections as...</td>\n",
       "      <td>Jul 17 2020</td>\n",
       "      <td>A battle in the U.S. Congress over a new coron...</td>\n",
       "    </tr>\n",
       "  </tbody>\n",
       "</table>\n",
       "</div>"
      ],
      "text/plain": [
       "                                           Headlines         Time  \\\n",
       "0  TikTok considers London and other locations fo...  Jul 18 2020   \n",
       "1  Disney cuts ad spending on Facebook amid growi...  Jul 18 2020   \n",
       "2  Trail of missing Wirecard executive leads to B...  Jul 18 2020   \n",
       "3  Twitter says attackers downloaded data from up...  Jul 18 2020   \n",
       "4  U.S. Republicans seek liability protections as...  Jul 17 2020   \n",
       "\n",
       "                                         Description  \n",
       "0  TikTok has been in discussions with the UK gov...  \n",
       "1  Walt Disney  has become the latest company to ...  \n",
       "2  Former Wirecard  chief operating officer Jan M...  \n",
       "3  Twitter Inc said on Saturday that hackers were...  \n",
       "4  A battle in the U.S. Congress over a new coron...  "
      ]
     },
     "execution_count": 5,
     "metadata": {},
     "output_type": "execute_result"
    }
   ],
   "source": [
    "reuters=pd.read_csv('/kaggle/input/financial-news-headlines/reuters_headlines.csv')\n",
    "reuters.head()"
   ]
  },
  {
   "cell_type": "code",
   "execution_count": 6,
   "id": "59512fe4",
   "metadata": {
    "execution": {
     "iopub.execute_input": "2024-09-07T09:06:31.213796Z",
     "iopub.status.busy": "2024-09-07T09:06:31.212638Z",
     "iopub.status.idle": "2024-09-07T09:06:31.253567Z",
     "shell.execute_reply": "2024-09-07T09:06:31.252255Z"
    },
    "papermill": {
     "duration": 0.054251,
     "end_time": "2024-09-07T09:06:31.256910",
     "exception": false,
     "start_time": "2024-09-07T09:06:31.202659",
     "status": "completed"
    },
    "tags": []
   },
   "outputs": [
    {
     "data": {
      "text/html": [
       "<div>\n",
       "<style scoped>\n",
       "    .dataframe tbody tr th:only-of-type {\n",
       "        vertical-align: middle;\n",
       "    }\n",
       "\n",
       "    .dataframe tbody tr th {\n",
       "        vertical-align: top;\n",
       "    }\n",
       "\n",
       "    .dataframe thead th {\n",
       "        text-align: right;\n",
       "    }\n",
       "</style>\n",
       "<table border=\"1\" class=\"dataframe\">\n",
       "  <thead>\n",
       "    <tr style=\"text-align: right;\">\n",
       "      <th></th>\n",
       "      <th>Headlines</th>\n",
       "      <th>Time</th>\n",
       "      <th>Description</th>\n",
       "    </tr>\n",
       "  </thead>\n",
       "  <tbody>\n",
       "    <tr>\n",
       "      <th>0</th>\n",
       "      <td>TikTok considers London and other locations fo...</td>\n",
       "      <td>Jul 18 2020</td>\n",
       "      <td>TikTok has been in discussions with the UK gov...</td>\n",
       "    </tr>\n",
       "    <tr>\n",
       "      <th>1</th>\n",
       "      <td>Disney cuts ad spending on Facebook amid growi...</td>\n",
       "      <td>Jul 18 2020</td>\n",
       "      <td>Walt Disney  has become the latest company to ...</td>\n",
       "    </tr>\n",
       "    <tr>\n",
       "      <th>2</th>\n",
       "      <td>Trail of missing Wirecard executive leads to B...</td>\n",
       "      <td>Jul 18 2020</td>\n",
       "      <td>Former Wirecard  chief operating officer Jan M...</td>\n",
       "    </tr>\n",
       "    <tr>\n",
       "      <th>3</th>\n",
       "      <td>Twitter says attackers downloaded data from up...</td>\n",
       "      <td>Jul 18 2020</td>\n",
       "      <td>Twitter Inc said on Saturday that hackers were...</td>\n",
       "    </tr>\n",
       "    <tr>\n",
       "      <th>4</th>\n",
       "      <td>U.S. Republicans seek liability protections as...</td>\n",
       "      <td>Jul 17 2020</td>\n",
       "      <td>A battle in the U.S. Congress over a new coron...</td>\n",
       "    </tr>\n",
       "    <tr>\n",
       "      <th>...</th>\n",
       "      <td>...</td>\n",
       "      <td>...</td>\n",
       "      <td>...</td>\n",
       "    </tr>\n",
       "    <tr>\n",
       "      <th>32765</th>\n",
       "      <td>Malaysia says never hired British data firm at...</td>\n",
       "      <td>Mar 20 2018</td>\n",
       "      <td>The Malaysian government and the ruling party ...</td>\n",
       "    </tr>\n",
       "    <tr>\n",
       "      <th>32766</th>\n",
       "      <td>Prosecutors search Volkswagen headquarters in ...</td>\n",
       "      <td>Mar 20 2018</td>\n",
       "      <td>German prosecutors said on Tuesday they had se...</td>\n",
       "    </tr>\n",
       "    <tr>\n",
       "      <th>32767</th>\n",
       "      <td>McDonald's sets greenhouse gas reduction targets</td>\n",
       "      <td>Mar 20 2018</td>\n",
       "      <td>McDonald's Corp on Tuesday announced an approv...</td>\n",
       "    </tr>\n",
       "    <tr>\n",
       "      <th>32768</th>\n",
       "      <td>Pratt &amp; Whitney to deliver spare A320neo engin...</td>\n",
       "      <td>Mar 20 2018</td>\n",
       "      <td>Pratt &amp; Whitney will soon begin deliveries of ...</td>\n",
       "    </tr>\n",
       "    <tr>\n",
       "      <th>32769</th>\n",
       "      <td>UK will always consider ways to improve data l...</td>\n",
       "      <td>Mar 20 2018</td>\n",
       "      <td>Britain will consider any suggestions to give ...</td>\n",
       "    </tr>\n",
       "  </tbody>\n",
       "</table>\n",
       "<p>32770 rows × 3 columns</p>\n",
       "</div>"
      ],
      "text/plain": [
       "                                               Headlines         Time  \\\n",
       "0      TikTok considers London and other locations fo...  Jul 18 2020   \n",
       "1      Disney cuts ad spending on Facebook amid growi...  Jul 18 2020   \n",
       "2      Trail of missing Wirecard executive leads to B...  Jul 18 2020   \n",
       "3      Twitter says attackers downloaded data from up...  Jul 18 2020   \n",
       "4      U.S. Republicans seek liability protections as...  Jul 17 2020   \n",
       "...                                                  ...          ...   \n",
       "32765  Malaysia says never hired British data firm at...  Mar 20 2018   \n",
       "32766  Prosecutors search Volkswagen headquarters in ...  Mar 20 2018   \n",
       "32767   McDonald's sets greenhouse gas reduction targets  Mar 20 2018   \n",
       "32768  Pratt & Whitney to deliver spare A320neo engin...  Mar 20 2018   \n",
       "32769  UK will always consider ways to improve data l...  Mar 20 2018   \n",
       "\n",
       "                                             Description  \n",
       "0      TikTok has been in discussions with the UK gov...  \n",
       "1      Walt Disney  has become the latest company to ...  \n",
       "2      Former Wirecard  chief operating officer Jan M...  \n",
       "3      Twitter Inc said on Saturday that hackers were...  \n",
       "4      A battle in the U.S. Congress over a new coron...  \n",
       "...                                                  ...  \n",
       "32765  The Malaysian government and the ruling party ...  \n",
       "32766  German prosecutors said on Tuesday they had se...  \n",
       "32767  McDonald's Corp on Tuesday announced an approv...  \n",
       "32768  Pratt & Whitney will soon begin deliveries of ...  \n",
       "32769  Britain will consider any suggestions to give ...  \n",
       "\n",
       "[32770 rows x 3 columns]"
      ]
     },
     "execution_count": 6,
     "metadata": {},
     "output_type": "execute_result"
    }
   ],
   "source": [
    "cnbc.dropna()\n",
    "guardian.dropna()\n",
    "reuters.dropna()"
   ]
  },
  {
   "cell_type": "code",
   "execution_count": 7,
   "id": "ba5889f4",
   "metadata": {
    "execution": {
     "iopub.execute_input": "2024-09-07T09:06:31.277636Z",
     "iopub.status.busy": "2024-09-07T09:06:31.277128Z",
     "iopub.status.idle": "2024-09-07T09:06:31.297436Z",
     "shell.execute_reply": "2024-09-07T09:06:31.295983Z"
    },
    "papermill": {
     "duration": 0.033621,
     "end_time": "2024-09-07T09:06:31.299962",
     "exception": false,
     "start_time": "2024-09-07T09:06:31.266341",
     "status": "completed"
    },
    "tags": []
   },
   "outputs": [
    {
     "data": {
      "text/html": [
       "<div>\n",
       "<style scoped>\n",
       "    .dataframe tbody tr th:only-of-type {\n",
       "        vertical-align: middle;\n",
       "    }\n",
       "\n",
       "    .dataframe tbody tr th {\n",
       "        vertical-align: top;\n",
       "    }\n",
       "\n",
       "    .dataframe thead th {\n",
       "        text-align: right;\n",
       "    }\n",
       "</style>\n",
       "<table border=\"1\" class=\"dataframe\">\n",
       "  <thead>\n",
       "    <tr style=\"text-align: right;\">\n",
       "      <th></th>\n",
       "      <th>Headlines</th>\n",
       "      <th>Time</th>\n",
       "      <th>Description</th>\n",
       "    </tr>\n",
       "  </thead>\n",
       "  <tbody>\n",
       "    <tr>\n",
       "      <th>0</th>\n",
       "      <td>Jim Cramer: A better way to invest in the Covi...</td>\n",
       "      <td>7:51  PM ET Fri, 17 July 2020</td>\n",
       "      <td>\"Mad Money\" host Jim Cramer recommended buying...</td>\n",
       "    </tr>\n",
       "    <tr>\n",
       "      <th>1</th>\n",
       "      <td>Cramer's lightning round: I would own Teradyne</td>\n",
       "      <td>7:33  PM ET Fri, 17 July 2020</td>\n",
       "      <td>\"Mad Money\" host Jim Cramer rings the lightnin...</td>\n",
       "    </tr>\n",
       "    <tr>\n",
       "      <th>2</th>\n",
       "      <td>NaN</td>\n",
       "      <td>NaN</td>\n",
       "      <td>NaN</td>\n",
       "    </tr>\n",
       "    <tr>\n",
       "      <th>3</th>\n",
       "      <td>Cramer's week ahead: Big week for earnings, ev...</td>\n",
       "      <td>7:25  PM ET Fri, 17 July 2020</td>\n",
       "      <td>\"We'll pay more for the earnings of the non-Co...</td>\n",
       "    </tr>\n",
       "    <tr>\n",
       "      <th>4</th>\n",
       "      <td>IQ Capital CEO Keith Bliss says tech and healt...</td>\n",
       "      <td>4:24  PM ET Fri, 17 July 2020</td>\n",
       "      <td>Keith Bliss, IQ Capital CEO, joins \"Closing Be...</td>\n",
       "    </tr>\n",
       "  </tbody>\n",
       "</table>\n",
       "</div>"
      ],
      "text/plain": [
       "                                           Headlines  \\\n",
       "0  Jim Cramer: A better way to invest in the Covi...   \n",
       "1     Cramer's lightning round: I would own Teradyne   \n",
       "2                                                NaN   \n",
       "3  Cramer's week ahead: Big week for earnings, ev...   \n",
       "4  IQ Capital CEO Keith Bliss says tech and healt...   \n",
       "\n",
       "                             Time  \\\n",
       "0   7:51  PM ET Fri, 17 July 2020   \n",
       "1   7:33  PM ET Fri, 17 July 2020   \n",
       "2                             NaN   \n",
       "3   7:25  PM ET Fri, 17 July 2020   \n",
       "4   4:24  PM ET Fri, 17 July 2020   \n",
       "\n",
       "                                         Description  \n",
       "0  \"Mad Money\" host Jim Cramer recommended buying...  \n",
       "1  \"Mad Money\" host Jim Cramer rings the lightnin...  \n",
       "2                                                NaN  \n",
       "3  \"We'll pay more for the earnings of the non-Co...  \n",
       "4  Keith Bliss, IQ Capital CEO, joins \"Closing Be...  "
      ]
     },
     "execution_count": 7,
     "metadata": {},
     "output_type": "execute_result"
    }
   ],
   "source": [
    "# Combine DataFrames\n",
    "df = pd.concat([cnbc, guardian, reuters], ignore_index=True)\n",
    "df.head()"
   ]
  },
  {
   "cell_type": "code",
   "execution_count": 8,
   "id": "06d38e5b",
   "metadata": {
    "execution": {
     "iopub.execute_input": "2024-09-07T09:06:31.320537Z",
     "iopub.status.busy": "2024-09-07T09:06:31.320023Z",
     "iopub.status.idle": "2024-09-07T09:06:31.467049Z",
     "shell.execute_reply": "2024-09-07T09:06:31.465894Z"
    },
    "papermill": {
     "duration": 0.161019,
     "end_time": "2024-09-07T09:06:31.469965",
     "exception": false,
     "start_time": "2024-09-07T09:06:31.308946",
     "status": "completed"
    },
    "tags": []
   },
   "outputs": [
    {
     "data": {
      "text/html": [
       "<div>\n",
       "<style scoped>\n",
       "    .dataframe tbody tr th:only-of-type {\n",
       "        vertical-align: middle;\n",
       "    }\n",
       "\n",
       "    .dataframe tbody tr th {\n",
       "        vertical-align: top;\n",
       "    }\n",
       "\n",
       "    .dataframe thead th {\n",
       "        text-align: right;\n",
       "    }\n",
       "</style>\n",
       "<table border=\"1\" class=\"dataframe\">\n",
       "  <thead>\n",
       "    <tr style=\"text-align: right;\">\n",
       "      <th></th>\n",
       "      <th>Headlines</th>\n",
       "      <th>Time</th>\n",
       "      <th>Description</th>\n",
       "    </tr>\n",
       "  </thead>\n",
       "  <tbody>\n",
       "    <tr>\n",
       "      <th>count</th>\n",
       "      <td>53370</td>\n",
       "      <td>53370</td>\n",
       "      <td>35570</td>\n",
       "    </tr>\n",
       "    <tr>\n",
       "      <th>unique</th>\n",
       "      <td>53158</td>\n",
       "      <td>4100</td>\n",
       "      <td>35191</td>\n",
       "    </tr>\n",
       "    <tr>\n",
       "      <th>top</th>\n",
       "      <td>Take Five: World markets themes for the week a...</td>\n",
       "      <td>Mar 19 2020</td>\n",
       "      <td>\"Mad Money\" host Jim Cramer rings the lightnin...</td>\n",
       "    </tr>\n",
       "    <tr>\n",
       "      <th>freq</th>\n",
       "      <td>12</td>\n",
       "      <td>126</td>\n",
       "      <td>147</td>\n",
       "    </tr>\n",
       "  </tbody>\n",
       "</table>\n",
       "</div>"
      ],
      "text/plain": [
       "                                                Headlines         Time  \\\n",
       "count                                               53370        53370   \n",
       "unique                                              53158         4100   \n",
       "top     Take Five: World markets themes for the week a...  Mar 19 2020   \n",
       "freq                                                   12          126   \n",
       "\n",
       "                                              Description  \n",
       "count                                               35570  \n",
       "unique                                              35191  \n",
       "top     \"Mad Money\" host Jim Cramer rings the lightnin...  \n",
       "freq                                                  147  "
      ]
     },
     "execution_count": 8,
     "metadata": {},
     "output_type": "execute_result"
    }
   ],
   "source": [
    "df.describe()"
   ]
  },
  {
   "cell_type": "code",
   "execution_count": 9,
   "id": "9061e504",
   "metadata": {
    "execution": {
     "iopub.execute_input": "2024-09-07T09:06:31.490648Z",
     "iopub.status.busy": "2024-09-07T09:06:31.490182Z",
     "iopub.status.idle": "2024-09-07T09:06:31.525624Z",
     "shell.execute_reply": "2024-09-07T09:06:31.524342Z"
    },
    "papermill": {
     "duration": 0.048994,
     "end_time": "2024-09-07T09:06:31.528320",
     "exception": false,
     "start_time": "2024-09-07T09:06:31.479326",
     "status": "completed"
    },
    "tags": []
   },
   "outputs": [
    {
     "name": "stdout",
     "output_type": "stream",
     "text": [
      "<class 'pandas.core.frame.DataFrame'>\n",
      "RangeIndex: 53650 entries, 0 to 53649\n",
      "Data columns (total 3 columns):\n",
      " #   Column       Non-Null Count  Dtype \n",
      "---  ------       --------------  ----- \n",
      " 0   Headlines    53370 non-null  object\n",
      " 1   Time         53370 non-null  object\n",
      " 2   Description  35570 non-null  object\n",
      "dtypes: object(3)\n",
      "memory usage: 1.2+ MB\n"
     ]
    }
   ],
   "source": [
    "df.info()"
   ]
  },
  {
   "cell_type": "code",
   "execution_count": 10,
   "id": "b1bb0555",
   "metadata": {
    "execution": {
     "iopub.execute_input": "2024-09-07T09:06:31.549652Z",
     "iopub.status.busy": "2024-09-07T09:06:31.548426Z",
     "iopub.status.idle": "2024-09-07T09:06:31.584515Z",
     "shell.execute_reply": "2024-09-07T09:06:31.583237Z"
    },
    "papermill": {
     "duration": 0.049601,
     "end_time": "2024-09-07T09:06:31.587257",
     "exception": false,
     "start_time": "2024-09-07T09:06:31.537656",
     "status": "completed"
    },
    "tags": []
   },
   "outputs": [
    {
     "data": {
      "text/html": [
       "<div>\n",
       "<style scoped>\n",
       "    .dataframe tbody tr th:only-of-type {\n",
       "        vertical-align: middle;\n",
       "    }\n",
       "\n",
       "    .dataframe tbody tr th {\n",
       "        vertical-align: top;\n",
       "    }\n",
       "\n",
       "    .dataframe thead th {\n",
       "        text-align: right;\n",
       "    }\n",
       "</style>\n",
       "<table border=\"1\" class=\"dataframe\">\n",
       "  <thead>\n",
       "    <tr style=\"text-align: right;\">\n",
       "      <th></th>\n",
       "      <th>Headlines</th>\n",
       "      <th>Time</th>\n",
       "      <th>Description</th>\n",
       "    </tr>\n",
       "  </thead>\n",
       "  <tbody>\n",
       "    <tr>\n",
       "      <th>0</th>\n",
       "      <td>Jim Cramer: A better way to invest in the Covi...</td>\n",
       "      <td>7:51  PM ET Fri, 17 July 2020</td>\n",
       "      <td>\"Mad Money\" host Jim Cramer recommended buying...</td>\n",
       "    </tr>\n",
       "    <tr>\n",
       "      <th>1</th>\n",
       "      <td>Cramer's lightning round: I would own Teradyne</td>\n",
       "      <td>7:33  PM ET Fri, 17 July 2020</td>\n",
       "      <td>\"Mad Money\" host Jim Cramer rings the lightnin...</td>\n",
       "    </tr>\n",
       "    <tr>\n",
       "      <th>3</th>\n",
       "      <td>Cramer's week ahead: Big week for earnings, ev...</td>\n",
       "      <td>7:25  PM ET Fri, 17 July 2020</td>\n",
       "      <td>\"We'll pay more for the earnings of the non-Co...</td>\n",
       "    </tr>\n",
       "    <tr>\n",
       "      <th>4</th>\n",
       "      <td>IQ Capital CEO Keith Bliss says tech and healt...</td>\n",
       "      <td>4:24  PM ET Fri, 17 July 2020</td>\n",
       "      <td>Keith Bliss, IQ Capital CEO, joins \"Closing Be...</td>\n",
       "    </tr>\n",
       "    <tr>\n",
       "      <th>5</th>\n",
       "      <td>Wall Street delivered the 'kind of pullback I'...</td>\n",
       "      <td>7:36  PM ET Thu, 16 July 2020</td>\n",
       "      <td>\"Look for the stocks of high-quality companies...</td>\n",
       "    </tr>\n",
       "  </tbody>\n",
       "</table>\n",
       "</div>"
      ],
      "text/plain": [
       "                                           Headlines  \\\n",
       "0  Jim Cramer: A better way to invest in the Covi...   \n",
       "1     Cramer's lightning round: I would own Teradyne   \n",
       "3  Cramer's week ahead: Big week for earnings, ev...   \n",
       "4  IQ Capital CEO Keith Bliss says tech and healt...   \n",
       "5  Wall Street delivered the 'kind of pullback I'...   \n",
       "\n",
       "                             Time  \\\n",
       "0   7:51  PM ET Fri, 17 July 2020   \n",
       "1   7:33  PM ET Fri, 17 July 2020   \n",
       "3   7:25  PM ET Fri, 17 July 2020   \n",
       "4   4:24  PM ET Fri, 17 July 2020   \n",
       "5   7:36  PM ET Thu, 16 July 2020   \n",
       "\n",
       "                                         Description  \n",
       "0  \"Mad Money\" host Jim Cramer recommended buying...  \n",
       "1  \"Mad Money\" host Jim Cramer rings the lightnin...  \n",
       "3  \"We'll pay more for the earnings of the non-Co...  \n",
       "4  Keith Bliss, IQ Capital CEO, joins \"Closing Be...  \n",
       "5  \"Look for the stocks of high-quality companies...  "
      ]
     },
     "execution_count": 10,
     "metadata": {},
     "output_type": "execute_result"
    }
   ],
   "source": [
    "df=df.dropna()\n",
    "df.head()"
   ]
  },
  {
   "cell_type": "code",
   "execution_count": 11,
   "id": "d730fdd3",
   "metadata": {
    "execution": {
     "iopub.execute_input": "2024-09-07T09:06:31.609149Z",
     "iopub.status.busy": "2024-09-07T09:06:31.607917Z",
     "iopub.status.idle": "2024-09-07T09:06:31.625137Z",
     "shell.execute_reply": "2024-09-07T09:06:31.623832Z"
    },
    "papermill": {
     "duration": 0.0306,
     "end_time": "2024-09-07T09:06:31.627622",
     "exception": false,
     "start_time": "2024-09-07T09:06:31.597022",
     "status": "completed"
    },
    "tags": []
   },
   "outputs": [
    {
     "data": {
      "text/html": [
       "<div>\n",
       "<style scoped>\n",
       "    .dataframe tbody tr th:only-of-type {\n",
       "        vertical-align: middle;\n",
       "    }\n",
       "\n",
       "    .dataframe tbody tr th {\n",
       "        vertical-align: top;\n",
       "    }\n",
       "\n",
       "    .dataframe thead th {\n",
       "        text-align: right;\n",
       "    }\n",
       "</style>\n",
       "<table border=\"1\" class=\"dataframe\">\n",
       "  <thead>\n",
       "    <tr style=\"text-align: right;\">\n",
       "      <th></th>\n",
       "      <th>Headlines</th>\n",
       "      <th>Description</th>\n",
       "    </tr>\n",
       "  </thead>\n",
       "  <tbody>\n",
       "    <tr>\n",
       "      <th>0</th>\n",
       "      <td>Jim Cramer: A better way to invest in the Covi...</td>\n",
       "      <td>\"Mad Money\" host Jim Cramer recommended buying...</td>\n",
       "    </tr>\n",
       "    <tr>\n",
       "      <th>1</th>\n",
       "      <td>Cramer's lightning round: I would own Teradyne</td>\n",
       "      <td>\"Mad Money\" host Jim Cramer rings the lightnin...</td>\n",
       "    </tr>\n",
       "    <tr>\n",
       "      <th>3</th>\n",
       "      <td>Cramer's week ahead: Big week for earnings, ev...</td>\n",
       "      <td>\"We'll pay more for the earnings of the non-Co...</td>\n",
       "    </tr>\n",
       "    <tr>\n",
       "      <th>4</th>\n",
       "      <td>IQ Capital CEO Keith Bliss says tech and healt...</td>\n",
       "      <td>Keith Bliss, IQ Capital CEO, joins \"Closing Be...</td>\n",
       "    </tr>\n",
       "    <tr>\n",
       "      <th>5</th>\n",
       "      <td>Wall Street delivered the 'kind of pullback I'...</td>\n",
       "      <td>\"Look for the stocks of high-quality companies...</td>\n",
       "    </tr>\n",
       "    <tr>\n",
       "      <th>...</th>\n",
       "      <td>...</td>\n",
       "      <td>...</td>\n",
       "    </tr>\n",
       "    <tr>\n",
       "      <th>53645</th>\n",
       "      <td>Malaysia says never hired British data firm at...</td>\n",
       "      <td>The Malaysian government and the ruling party ...</td>\n",
       "    </tr>\n",
       "    <tr>\n",
       "      <th>53646</th>\n",
       "      <td>Prosecutors search Volkswagen headquarters in ...</td>\n",
       "      <td>German prosecutors said on Tuesday they had se...</td>\n",
       "    </tr>\n",
       "    <tr>\n",
       "      <th>53647</th>\n",
       "      <td>McDonald's sets greenhouse gas reduction targets</td>\n",
       "      <td>McDonald's Corp on Tuesday announced an approv...</td>\n",
       "    </tr>\n",
       "    <tr>\n",
       "      <th>53648</th>\n",
       "      <td>Pratt &amp; Whitney to deliver spare A320neo engin...</td>\n",
       "      <td>Pratt &amp; Whitney will soon begin deliveries of ...</td>\n",
       "    </tr>\n",
       "    <tr>\n",
       "      <th>53649</th>\n",
       "      <td>UK will always consider ways to improve data l...</td>\n",
       "      <td>Britain will consider any suggestions to give ...</td>\n",
       "    </tr>\n",
       "  </tbody>\n",
       "</table>\n",
       "<p>35570 rows × 2 columns</p>\n",
       "</div>"
      ],
      "text/plain": [
       "                                               Headlines  \\\n",
       "0      Jim Cramer: A better way to invest in the Covi...   \n",
       "1         Cramer's lightning round: I would own Teradyne   \n",
       "3      Cramer's week ahead: Big week for earnings, ev...   \n",
       "4      IQ Capital CEO Keith Bliss says tech and healt...   \n",
       "5      Wall Street delivered the 'kind of pullback I'...   \n",
       "...                                                  ...   \n",
       "53645  Malaysia says never hired British data firm at...   \n",
       "53646  Prosecutors search Volkswagen headquarters in ...   \n",
       "53647   McDonald's sets greenhouse gas reduction targets   \n",
       "53648  Pratt & Whitney to deliver spare A320neo engin...   \n",
       "53649  UK will always consider ways to improve data l...   \n",
       "\n",
       "                                             Description  \n",
       "0      \"Mad Money\" host Jim Cramer recommended buying...  \n",
       "1      \"Mad Money\" host Jim Cramer rings the lightnin...  \n",
       "3      \"We'll pay more for the earnings of the non-Co...  \n",
       "4      Keith Bliss, IQ Capital CEO, joins \"Closing Be...  \n",
       "5      \"Look for the stocks of high-quality companies...  \n",
       "...                                                  ...  \n",
       "53645  The Malaysian government and the ruling party ...  \n",
       "53646  German prosecutors said on Tuesday they had se...  \n",
       "53647  McDonald's Corp on Tuesday announced an approv...  \n",
       "53648  Pratt & Whitney will soon begin deliveries of ...  \n",
       "53649  Britain will consider any suggestions to give ...  \n",
       "\n",
       "[35570 rows x 2 columns]"
      ]
     },
     "execution_count": 11,
     "metadata": {},
     "output_type": "execute_result"
    }
   ],
   "source": [
    "df=df[['Headlines','Description']]\n",
    "df"
   ]
  },
  {
   "cell_type": "code",
   "execution_count": 12,
   "id": "fd5b9db6",
   "metadata": {
    "execution": {
     "iopub.execute_input": "2024-09-07T09:06:31.649305Z",
     "iopub.status.busy": "2024-09-07T09:06:31.648890Z",
     "iopub.status.idle": "2024-09-07T09:07:00.704469Z",
     "shell.execute_reply": "2024-09-07T09:07:00.703202Z"
    },
    "papermill": {
     "duration": 29.069982,
     "end_time": "2024-09-07T09:07:00.707441",
     "exception": false,
     "start_time": "2024-09-07T09:06:31.637459",
     "status": "completed"
    },
    "tags": []
   },
   "outputs": [],
   "source": [
    "from nltk.sentiment import SentimentIntensityAnalyzer\n",
    "\n",
    "sia = SentimentIntensityAnalyzer()\n",
    "\n",
    "def classify_sentiment(text):\n",
    "    sentiment_score = sia.polarity_scores(text)['compound']\n",
    "    if sentiment_score >= 0.05:\n",
    "        return 'positive'\n",
    "    elif sentiment_score <= -0.05:\n",
    "        return 'negative'\n",
    "    else:\n",
    "        return 'neutral'\n",
    "\n",
    "    # Apply sentiment classification to both 'Headlines' and 'Description'\n",
    "df['Headline_Sentiment'] = df['Headlines'].apply(classify_sentiment)\n",
    "df['Description_Sentiment'] = df['Description'].apply(classify_sentiment)"
   ]
  },
  {
   "cell_type": "code",
   "execution_count": 13,
   "id": "dd2fdcda",
   "metadata": {
    "execution": {
     "iopub.execute_input": "2024-09-07T09:07:00.729756Z",
     "iopub.status.busy": "2024-09-07T09:07:00.729206Z",
     "iopub.status.idle": "2024-09-07T09:07:00.745384Z",
     "shell.execute_reply": "2024-09-07T09:07:00.744053Z"
    },
    "papermill": {
     "duration": 0.030104,
     "end_time": "2024-09-07T09:07:00.747632",
     "exception": false,
     "start_time": "2024-09-07T09:07:00.717528",
     "status": "completed"
    },
    "tags": []
   },
   "outputs": [
    {
     "data": {
      "text/html": [
       "<div>\n",
       "<style scoped>\n",
       "    .dataframe tbody tr th:only-of-type {\n",
       "        vertical-align: middle;\n",
       "    }\n",
       "\n",
       "    .dataframe tbody tr th {\n",
       "        vertical-align: top;\n",
       "    }\n",
       "\n",
       "    .dataframe thead th {\n",
       "        text-align: right;\n",
       "    }\n",
       "</style>\n",
       "<table border=\"1\" class=\"dataframe\">\n",
       "  <thead>\n",
       "    <tr style=\"text-align: right;\">\n",
       "      <th></th>\n",
       "      <th>Headlines</th>\n",
       "      <th>Description</th>\n",
       "      <th>Headline_Sentiment</th>\n",
       "      <th>Description_Sentiment</th>\n",
       "    </tr>\n",
       "  </thead>\n",
       "  <tbody>\n",
       "    <tr>\n",
       "      <th>0</th>\n",
       "      <td>Jim Cramer: A better way to invest in the Covi...</td>\n",
       "      <td>\"Mad Money\" host Jim Cramer recommended buying...</td>\n",
       "      <td>positive</td>\n",
       "      <td>positive</td>\n",
       "    </tr>\n",
       "    <tr>\n",
       "      <th>1</th>\n",
       "      <td>Cramer's lightning round: I would own Teradyne</td>\n",
       "      <td>\"Mad Money\" host Jim Cramer rings the lightnin...</td>\n",
       "      <td>neutral</td>\n",
       "      <td>negative</td>\n",
       "    </tr>\n",
       "    <tr>\n",
       "      <th>3</th>\n",
       "      <td>Cramer's week ahead: Big week for earnings, ev...</td>\n",
       "      <td>\"We'll pay more for the earnings of the non-Co...</td>\n",
       "      <td>neutral</td>\n",
       "      <td>positive</td>\n",
       "    </tr>\n",
       "    <tr>\n",
       "      <th>4</th>\n",
       "      <td>IQ Capital CEO Keith Bliss says tech and healt...</td>\n",
       "      <td>Keith Bliss, IQ Capital CEO, joins \"Closing Be...</td>\n",
       "      <td>positive</td>\n",
       "      <td>positive</td>\n",
       "    </tr>\n",
       "    <tr>\n",
       "      <th>5</th>\n",
       "      <td>Wall Street delivered the 'kind of pullback I'...</td>\n",
       "      <td>\"Look for the stocks of high-quality companies...</td>\n",
       "      <td>neutral</td>\n",
       "      <td>negative</td>\n",
       "    </tr>\n",
       "    <tr>\n",
       "      <th>...</th>\n",
       "      <td>...</td>\n",
       "      <td>...</td>\n",
       "      <td>...</td>\n",
       "      <td>...</td>\n",
       "    </tr>\n",
       "    <tr>\n",
       "      <th>53645</th>\n",
       "      <td>Malaysia says never hired British data firm at...</td>\n",
       "      <td>The Malaysian government and the ruling party ...</td>\n",
       "      <td>neutral</td>\n",
       "      <td>negative</td>\n",
       "    </tr>\n",
       "    <tr>\n",
       "      <th>53646</th>\n",
       "      <td>Prosecutors search Volkswagen headquarters in ...</td>\n",
       "      <td>German prosecutors said on Tuesday they had se...</td>\n",
       "      <td>neutral</td>\n",
       "      <td>positive</td>\n",
       "    </tr>\n",
       "    <tr>\n",
       "      <th>53647</th>\n",
       "      <td>McDonald's sets greenhouse gas reduction targets</td>\n",
       "      <td>McDonald's Corp on Tuesday announced an approv...</td>\n",
       "      <td>neutral</td>\n",
       "      <td>negative</td>\n",
       "    </tr>\n",
       "    <tr>\n",
       "      <th>53648</th>\n",
       "      <td>Pratt &amp; Whitney to deliver spare A320neo engin...</td>\n",
       "      <td>Pratt &amp; Whitney will soon begin deliveries of ...</td>\n",
       "      <td>neutral</td>\n",
       "      <td>negative</td>\n",
       "    </tr>\n",
       "    <tr>\n",
       "      <th>53649</th>\n",
       "      <td>UK will always consider ways to improve data l...</td>\n",
       "      <td>Britain will consider any suggestions to give ...</td>\n",
       "      <td>positive</td>\n",
       "      <td>positive</td>\n",
       "    </tr>\n",
       "  </tbody>\n",
       "</table>\n",
       "<p>35570 rows × 4 columns</p>\n",
       "</div>"
      ],
      "text/plain": [
       "                                               Headlines  \\\n",
       "0      Jim Cramer: A better way to invest in the Covi...   \n",
       "1         Cramer's lightning round: I would own Teradyne   \n",
       "3      Cramer's week ahead: Big week for earnings, ev...   \n",
       "4      IQ Capital CEO Keith Bliss says tech and healt...   \n",
       "5      Wall Street delivered the 'kind of pullback I'...   \n",
       "...                                                  ...   \n",
       "53645  Malaysia says never hired British data firm at...   \n",
       "53646  Prosecutors search Volkswagen headquarters in ...   \n",
       "53647   McDonald's sets greenhouse gas reduction targets   \n",
       "53648  Pratt & Whitney to deliver spare A320neo engin...   \n",
       "53649  UK will always consider ways to improve data l...   \n",
       "\n",
       "                                             Description Headline_Sentiment  \\\n",
       "0      \"Mad Money\" host Jim Cramer recommended buying...           positive   \n",
       "1      \"Mad Money\" host Jim Cramer rings the lightnin...            neutral   \n",
       "3      \"We'll pay more for the earnings of the non-Co...            neutral   \n",
       "4      Keith Bliss, IQ Capital CEO, joins \"Closing Be...           positive   \n",
       "5      \"Look for the stocks of high-quality companies...            neutral   \n",
       "...                                                  ...                ...   \n",
       "53645  The Malaysian government and the ruling party ...            neutral   \n",
       "53646  German prosecutors said on Tuesday they had se...            neutral   \n",
       "53647  McDonald's Corp on Tuesday announced an approv...            neutral   \n",
       "53648  Pratt & Whitney will soon begin deliveries of ...            neutral   \n",
       "53649  Britain will consider any suggestions to give ...           positive   \n",
       "\n",
       "      Description_Sentiment  \n",
       "0                  positive  \n",
       "1                  negative  \n",
       "3                  positive  \n",
       "4                  positive  \n",
       "5                  negative  \n",
       "...                     ...  \n",
       "53645              negative  \n",
       "53646              positive  \n",
       "53647              negative  \n",
       "53648              negative  \n",
       "53649              positive  \n",
       "\n",
       "[35570 rows x 4 columns]"
      ]
     },
     "execution_count": 13,
     "metadata": {},
     "output_type": "execute_result"
    }
   ],
   "source": [
    "df"
   ]
  },
  {
   "cell_type": "code",
   "execution_count": 14,
   "id": "b8f50fa8",
   "metadata": {
    "execution": {
     "iopub.execute_input": "2024-09-07T09:07:00.771265Z",
     "iopub.status.busy": "2024-09-07T09:07:00.770162Z",
     "iopub.status.idle": "2024-09-07T09:07:01.611666Z",
     "shell.execute_reply": "2024-09-07T09:07:01.610492Z"
    },
    "papermill": {
     "duration": 0.8565,
     "end_time": "2024-09-07T09:07:01.614435",
     "exception": false,
     "start_time": "2024-09-07T09:07:00.757935",
     "status": "completed"
    },
    "tags": []
   },
   "outputs": [
    {
     "data": {
      "image/png": "[encoded data removed]",
      "text/plain": [
       "<Figure size 500x300 with 1 Axes>"
      ]
     },
     "metadata": {},
     "output_type": "display_data"
    }
   ],
   "source": [
    "import seaborn as sns\n",
    "import matplotlib.pyplot as plt\n",
    "\n",
    "\n",
    "plt.figure(figsize=(5, 3))\n",
    "sns.countplot(data=df, x='Description_Sentiment')\n",
    "plt.title('Sentiment Label Count')\n",
    "plt.xlabel('Sentiment Label')\n",
    "plt.ylabel('Count')\n",
    "plt.show()"
   ]
  },
  {
   "cell_type": "code",
   "execution_count": 15,
   "id": "2aca724b",
   "metadata": {
    "execution": {
     "iopub.execute_input": "2024-09-07T09:07:01.639403Z",
     "iopub.status.busy": "2024-09-07T09:07:01.638766Z",
     "iopub.status.idle": "2024-09-07T09:07:01.646353Z",
     "shell.execute_reply": "2024-09-07T09:07:01.645139Z"
    },
    "papermill": {
     "duration": 0.022948,
     "end_time": "2024-09-07T09:07:01.648821",
     "exception": false,
     "start_time": "2024-09-07T09:07:01.625873",
     "status": "completed"
    },
    "tags": []
   },
   "outputs": [],
   "source": [
    "def remove_punct(text):\n",
    "    text=[x for x in text]\n",
    "    tags=[x for x in string.punctuation]\n",
    "    list1=[]\n",
    "    for i in text:\n",
    "        if i not in tags:\n",
    "            list1.append(i)\n",
    "    \n",
    "    return ''.join(list1)\n",
    "\n",
    "    "
   ]
  },
  {
   "cell_type": "code",
   "execution_count": 16,
   "id": "5b90c4b2",
   "metadata": {
    "execution": {
     "iopub.execute_input": "2024-09-07T09:07:01.673143Z",
     "iopub.status.busy": "2024-09-07T09:07:01.672650Z",
     "iopub.status.idle": "2024-09-07T09:07:01.679150Z",
     "shell.execute_reply": "2024-09-07T09:07:01.677801Z"
    },
    "papermill": {
     "duration": 0.02215,
     "end_time": "2024-09-07T09:07:01.682053",
     "exception": false,
     "start_time": "2024-09-07T09:07:01.659903",
     "status": "completed"
    },
    "tags": []
   },
   "outputs": [],
   "source": [
    "def remove_tags(text):\n",
    "    tags = ['\\n', '\\'']\n",
    "    for tag in tags:\n",
    "        text = text.replace(tag, '')\n",
    "    \n",
    "    return text"
   ]
  },
  {
   "cell_type": "code",
   "execution_count": 17,
   "id": "1db6ef26",
   "metadata": {
    "execution": {
     "iopub.execute_input": "2024-09-07T09:07:01.705571Z",
     "iopub.status.busy": "2024-09-07T09:07:01.705148Z",
     "iopub.status.idle": "2024-09-07T09:07:01.713299Z",
     "shell.execute_reply": "2024-09-07T09:07:01.712058Z"
    },
    "papermill": {
     "duration": 0.022683,
     "end_time": "2024-09-07T09:07:01.715654",
     "exception": false,
     "start_time": "2024-09-07T09:07:01.692971",
     "status": "completed"
    },
    "tags": []
   },
   "outputs": [
    {
     "name": "stdout",
     "output_type": "stream",
     "text": [
      "[nltk_data] Downloading package stopwords to /usr/share/nltk_data...\n",
      "[nltk_data]   Package stopwords is already up-to-date!\n"
     ]
    }
   ],
   "source": [
    "from nltk.corpus import stopwords\n",
    "nltk.download('stopwords')\n",
    "\n",
    "def remove_stopwords(text):\n",
    "    stop_words = set(stopwords.words('english'))\n",
    "    words = nltk.word_tokenize(text)\n",
    "    filtered_words = [word for word in words if word.lower() not in stop_words]\n",
    "    filtered_words= ' '.join(filtered_words)\n",
    "    return filtered_words\n",
    "\n"
   ]
  },
  {
   "cell_type": "code",
   "execution_count": 18,
   "id": "719a19b2",
   "metadata": {
    "execution": {
     "iopub.execute_input": "2024-09-07T09:07:01.740009Z",
     "iopub.status.busy": "2024-09-07T09:07:01.738720Z",
     "iopub.status.idle": "2024-09-07T09:07:01.757578Z",
     "shell.execute_reply": "2024-09-07T09:07:01.756045Z"
    },
    "papermill": {
     "duration": 0.034013,
     "end_time": "2024-09-07T09:07:01.760269",
     "exception": false,
     "start_time": "2024-09-07T09:07:01.726256",
     "status": "completed"
    },
    "tags": []
   },
   "outputs": [
    {
     "name": "stdout",
     "output_type": "stream",
     "text": [
      "X_train shape: (32013,)\n",
      "X_test shape: (3557,)\n",
      "y_train shape: (32013,)\n",
      "y_test shape: (3557,)\n"
     ]
    }
   ],
   "source": [
    "from sklearn.model_selection import train_test_split\n",
    "\n",
    "\n",
    "X = df['Description']\n",
    "y = df['Description_Sentiment'] \n",
    "\n",
    "\n",
    "X_train, X_test, y_train, y_test = train_test_split(X, y, test_size=0.10, random_state=212)\n",
    "\n",
    "\n",
    "print(\"X_train shape:\", X_train.shape)\n",
    "print(\"X_test shape:\", X_test.shape)\n",
    "print(\"y_train shape:\", y_train.shape)\n",
    "print(\"y_test shape:\", y_test.shape)"
   ]
  },
  {
   "cell_type": "code",
   "execution_count": 19,
   "id": "c7fd8ffa",
   "metadata": {
    "execution": {
     "iopub.execute_input": "2024-09-07T09:07:01.785873Z",
     "iopub.status.busy": "2024-09-07T09:07:01.784850Z",
     "iopub.status.idle": "2024-09-07T09:07:05.251371Z",
     "shell.execute_reply": "2024-09-07T09:07:05.250184Z"
    },
    "papermill": {
     "duration": 3.482203,
     "end_time": "2024-09-07T09:07:05.254301",
     "exception": false,
     "start_time": "2024-09-07T09:07:01.772098",
     "status": "completed"
    },
    "tags": []
   },
   "outputs": [
    {
     "name": "stdout",
     "output_type": "stream",
     "text": [
      "accuracy score: 81.53%\n",
      "Confusion Matrix:\n",
      " [[1091   59  140]\n",
      " [ 131  343  148]\n",
      " [ 112   67 1466]]\n",
      "Classification Report:\n",
      "               precision    recall  f1-score   support\n",
      "\n",
      "    negative       0.82      0.85      0.83      1290\n",
      "     neutral       0.73      0.55      0.63       622\n",
      "    positive       0.84      0.89      0.86      1645\n",
      "\n",
      "    accuracy                           0.82      3557\n",
      "   macro avg       0.79      0.76      0.77      3557\n",
      "weighted avg       0.81      0.82      0.81      3557\n",
      "\n"
     ]
    }
   ],
   "source": [
    "from sklearn.pipeline import Pipeline\n",
    "from sklearn.feature_extraction.text import TfidfVectorizer\n",
    "from sklearn.svm import LinearSVC\n",
    "from sklearn.metrics import accuracy_score, confusion_matrix, classification_report\n",
    "\n",
    "\n",
    "# Create a pipeline with TfidfVectorizer and LinearSVC\n",
    "pipeline = Pipeline([\n",
    "    ('tfidf', TfidfVectorizer()),\n",
    "    ('model', LinearSVC())\n",
    "])\n",
    "\n",
    "\n",
    "pipeline.fit(X_train, y_train)\n",
    "\n",
    "\n",
    "y_pred = pipeline.predict(X_test)\n",
    "\n",
    "\n",
    "accuracy = accuracy_score(y_test, y_pred)\n",
    "print(\"accuracy score: {:.2f}%\".format(accuracy * 100))\n",
    "print(\"Confusion Matrix:\\n\", confusion_matrix(y_test, y_pred))\n",
    "print(\"Classification Report:\\n\", classification_report(y_test, y_pred))"
   ]
  },
  {
   "metadata": {
    "ExecuteTime": {
     "end_time": "2025-06-18T06:01:58.557548Z",
     "start_time": "2025-06-18T06:01:48.513216Z"
    }
   },
   "cell_type": "code",
   "source": "pip install pandadoc",
   "id": "371b3cd608d404ed",
   "outputs": [
    {
     "name": "stdout",
     "output_type": "stream",
     "text": [
      "Defaulting to user installation because normal site-packages is not writeable\n",
      "Collecting pandadoc\n",
      "  Downloading pandadoc-0.1.0-py3-none-any.whl.metadata (7.1 kB)\n",
      "Downloading pandadoc-0.1.0-py3-none-any.whl (7.1 kB)\n",
      "Installing collected packages: pandadoc\n",
      "Successfully installed pandadoc-0.1.0\n",
      "Note: you may need to restart the kernel to use updated packages.\n"
     ]
    }
   ],
   "execution_count": 1
  },
  {
   "metadata": {},
   "cell_type": "code",
   "outputs": [],
   "execution_count": null,
   "source": "",
   "id": "17d125dd5e458887"
  }
 ],
 "metadata": {
  "kaggle": {
   "accelerator": "none",
   "dataSources": [
    {
     "datasetId": 786286,
     "sourceId": 1351005,
     "sourceType": "datasetVersion"
    }
   ],
   "dockerImageVersionId": 30761,
   "isGpuEnabled": false,
   "isInternetEnabled": true,
   "language": "python",
   "sourceType": "notebook"
  },
  "kernelspec": {
   "display_name": "Python 3",
   "language": "python",
   "name": "python3"
  },
  "language_info": {
   "codemirror_mode": {
    "name": "ipython",
    "version": 3
   },
   "file_extension": ".py",
   "mimetype": "text/x-python",
   "name": "python",
   "nbconvert_exporter": "python",
   "pygments_lexer": "ipython3",
   "version": "3.10.14"
  },
  "papermill": {
   "default_parameters": {},
   "duration": 58.72692,
   "end_time": "2024-09-07T09:07:06.190669",
   "environment_variables": {},
   "exception": null,
   "input_path": "__notebook__.ipynb",
   "output_path": "__notebook__.ipynb",
   "parameters": {},
   "start_time": "2024-09-07T09:06:07.463749",
   "version": "2.6.0"
  }
 },
 "nbformat": 4,
 "nbformat_minor": 5
}
