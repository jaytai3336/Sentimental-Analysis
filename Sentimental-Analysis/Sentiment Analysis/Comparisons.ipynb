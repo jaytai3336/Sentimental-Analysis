{
 "cells": [
  {
   "metadata": {
    "ExecuteTime": {
     "end_time": "2025-06-30T06:05:02.966278Z",
     "start_time": "2025-06-30T06:05:02.958389Z"
    }
   },
   "cell_type": "code",
   "source": [
    "import warnings\n",
    "warnings.filterwarnings('ignore')"
   ],
   "id": "ecbb243fbde8386e",
   "outputs": [],
   "execution_count": 147
  },
  {
   "metadata": {
    "ExecuteTime": {
     "end_time": "2025-06-30T06:05:04.107576Z",
     "start_time": "2025-06-30T06:05:04.095575Z"
    }
   },
   "cell_type": "code",
   "source": [
    "# Load data\n",
    "import pandas as pd\n",
    "\n",
    "df = pd.read_csv('data/News Articles/Amy/Testing.csv')\n",
    "df.head()"
   ],
   "id": "dead6a3cf28019bc",
   "outputs": [
    {
     "data": {
      "text/plain": [
       "   Unnamed: 0                                              Title  \\\n",
       "0           0  Europe Races to Craft Plan to Save Zelenskiy a...   \n",
       "1           1  European Leaders Seek ??Coalition of Willing?�...   \n",
       "2           2  Trump Sees Zelenskiy as the Problem, But Ukrai...   \n",
       "3           3  Trump Heads Toward Tariff Barrage on Canada, M...   \n",
       "4           4  Bessent Says He Sees Inflation Reaching Fed?�?...   \n",
       "\n",
       "                                              Author  \\\n",
       "0  By Alex Wickham, Andrea Palasciano, and Irina ...   \n",
       "1                   By Alex Wickham and Irina Anghel   \n",
       "2  By Daryna Krasnolutska, Olesia Safronova, and ...   \n",
       "3                                   By Josh Wingrove   \n",
       "4                                    By Tony Czuczka   \n",
       "\n",
       "                                                Date  \\\n",
       "0  2025.3.3 at GMT+8 07:02 Updated on 2025.3.3 at...   \n",
       "1  2025.3.2 at GMT+8 17:26 Updated on 2025.3.3 at...   \n",
       "2                            2025.3.2 at GMT+8 15:14   \n",
       "3  2025.3.3 at GMT+8 03:18 Updated on 2025.3.3 at...   \n",
       "4                            2025.3.3 at GMT+8 00:21   \n",
       "\n",
       "                                                Desc Sentiment  \n",
       "0  The Polish zloty recently hit its strongest le...       NEU  \n",
       "1  European leaders are working to form a \"coalit...       NEU  \n",
       "2  Tensions between US President Donald Trump and...       NEU  \n",
       "3  President Trump plans to impose 25% tariffs on...       NEG  \n",
       "4  Treasury Secretary Scott Bessent expressed con...       NEG  "
      ],
      "text/html": [
       "<div>\n",
       "<style scoped>\n",
       "    .dataframe tbody tr th:only-of-type {\n",
       "        vertical-align: middle;\n",
       "    }\n",
       "\n",
       "    .dataframe tbody tr th {\n",
       "        vertical-align: top;\n",
       "    }\n",
       "\n",
       "    .dataframe thead th {\n",
       "        text-align: right;\n",
       "    }\n",
       "</style>\n",
       "<table border=\"1\" class=\"dataframe\">\n",
       "  <thead>\n",
       "    <tr style=\"text-align: right;\">\n",
       "      <th></th>\n",
       "      <th>Unnamed: 0</th>\n",
       "      <th>Title</th>\n",
       "      <th>Author</th>\n",
       "      <th>Date</th>\n",
       "      <th>Desc</th>\n",
       "      <th>Sentiment</th>\n",
       "    </tr>\n",
       "  </thead>\n",
       "  <tbody>\n",
       "    <tr>\n",
       "      <th>0</th>\n",
       "      <td>0</td>\n",
       "      <td>Europe Races to Craft Plan to Save Zelenskiy a...</td>\n",
       "      <td>By Alex Wickham, Andrea Palasciano, and Irina ...</td>\n",
       "      <td>2025.3.3 at GMT+8 07:02 Updated on 2025.3.3 at...</td>\n",
       "      <td>The Polish zloty recently hit its strongest le...</td>\n",
       "      <td>NEU</td>\n",
       "    </tr>\n",
       "    <tr>\n",
       "      <th>1</th>\n",
       "      <td>1</td>\n",
       "      <td>European Leaders Seek ??Coalition of Willing?�...</td>\n",
       "      <td>By Alex Wickham and Irina Anghel</td>\n",
       "      <td>2025.3.2 at GMT+8 17:26 Updated on 2025.3.3 at...</td>\n",
       "      <td>European leaders are working to form a \"coalit...</td>\n",
       "      <td>NEU</td>\n",
       "    </tr>\n",
       "    <tr>\n",
       "      <th>2</th>\n",
       "      <td>2</td>\n",
       "      <td>Trump Sees Zelenskiy as the Problem, But Ukrai...</td>\n",
       "      <td>By Daryna Krasnolutska, Olesia Safronova, and ...</td>\n",
       "      <td>2025.3.2 at GMT+8 15:14</td>\n",
       "      <td>Tensions between US President Donald Trump and...</td>\n",
       "      <td>NEU</td>\n",
       "    </tr>\n",
       "    <tr>\n",
       "      <th>3</th>\n",
       "      <td>3</td>\n",
       "      <td>Trump Heads Toward Tariff Barrage on Canada, M...</td>\n",
       "      <td>By Josh Wingrove</td>\n",
       "      <td>2025.3.3 at GMT+8 03:18 Updated on 2025.3.3 at...</td>\n",
       "      <td>President Trump plans to impose 25% tariffs on...</td>\n",
       "      <td>NEG</td>\n",
       "    </tr>\n",
       "    <tr>\n",
       "      <th>4</th>\n",
       "      <td>4</td>\n",
       "      <td>Bessent Says He Sees Inflation Reaching Fed?�?...</td>\n",
       "      <td>By Tony Czuczka</td>\n",
       "      <td>2025.3.3 at GMT+8 00:21</td>\n",
       "      <td>Treasury Secretary Scott Bessent expressed con...</td>\n",
       "      <td>NEG</td>\n",
       "    </tr>\n",
       "  </tbody>\n",
       "</table>\n",
       "</div>"
      ]
     },
     "execution_count": 148,
     "metadata": {},
     "output_type": "execute_result"
    }
   ],
   "execution_count": 148
  },
  {
   "metadata": {
    "ExecuteTime": {
     "end_time": "2025-06-30T06:05:13.139841Z",
     "start_time": "2025-06-30T06:05:13.058212Z"
    }
   },
   "cell_type": "code",
   "source": [
    "# Preprocess data\n",
    "\n",
    "import nltk\n",
    "nltk.download('wordnet')\n",
    "nltk.download('stopwords')\n",
    "nltk.download('punkt_tab')\n",
    "from nltk.tokenize import word_tokenize\n",
    "from nltk.corpus import stopwords\n",
    "from nltk.stem import WordNetLemmatizer\n",
    "\n",
    "stop_words = set(stopwords.words('english'))\n",
    "lemmatizer = WordNetLemmatizer()\n",
    "\n",
    "def preprocess(text):\n",
    "    if not isinstance(text, str) or text is None:\n",
    "        return \"\"\n",
    "    # Remove extra spaces and normalize\n",
    "    text = ' '.join(text.split())\n",
    "    tokens = word_tokenize(text.lower())\n",
    "    # Retain alphanumeric tokens to keep numbers (e.g., \"20%\")\n",
    "    cleaned_tokens = [lemmatizer.lemmatize(token) for token in tokens if token.isalnum() and token not in stop_words]\n",
    "    return ' '.join(cleaned_tokens)\n",
    "\n",
    "df['Title_processed'] = df['Title'].apply(preprocess)\n",
    "df['Desc_processed'] = df['Desc'].apply(preprocess)"
   ],
   "id": "14a91c3948d6ba2f",
   "outputs": [
    {
     "name": "stderr",
     "output_type": "stream",
     "text": [
      "[nltk_data] Downloading package wordnet to C:\\Users\\Jay\n",
      "[nltk_data]     Tai\\AppData\\Roaming\\nltk_data...\n",
      "[nltk_data]   Package wordnet is already up-to-date!\n",
      "[nltk_data] Downloading package stopwords to C:\\Users\\Jay\n",
      "[nltk_data]     Tai\\AppData\\Roaming\\nltk_data...\n",
      "[nltk_data]   Package stopwords is already up-to-date!\n",
      "[nltk_data] Downloading package punkt_tab to C:\\Users\\Jay\n",
      "[nltk_data]     Tai\\AppData\\Roaming\\nltk_data...\n",
      "[nltk_data]   Package punkt_tab is already up-to-date!\n"
     ]
    }
   ],
   "execution_count": 149
  },
  {
   "metadata": {
    "ExecuteTime": {
     "end_time": "2025-06-30T06:05:22.960678Z",
     "start_time": "2025-06-30T06:05:18.493176Z"
    }
   },
   "cell_type": "code",
   "source": [
    "# Python libraries\n",
    "\n",
    "# 1.DistilBERT\n",
    "from transformers import pipeline\n",
    "classifier = pipeline('sentiment-analysis', model='distilbert-base-uncased-finetuned-sst-2-english')\n",
    "\n",
    "def DistilBERT(sentence):\n",
    "    cl = classifier(sentence)\n",
    "    t = cl[0]['label']\n",
    "    score = cl[0]['score']\n",
    "    label = 'NEU'\n",
    "    if t == 'POSITIVE':\n",
    "        label = 'POS'\n",
    "    elif t == 'NEGATIVE':\n",
    "        label = 'NEG'\n",
    "    return (label, score)\n",
    "\n",
    "# 2.Flair\n",
    "from flair.data import Sentence\n",
    "from flair.nn import Classifier\n",
    "tagger = Classifier.load('sentiment')\n",
    "\n",
    "def Flair(sentence):\n",
    "    sentence = Sentence(sentence)\n",
    "    tagger.predict(sentence)\n",
    "    cl = sentence.labels[0]\n",
    "    t = cl.value\n",
    "    label = 'NEU'\n",
    "    if t == 'POSITIVE':\n",
    "        label = 'POS'\n",
    "    elif t == 'NEGATIVE':\n",
    "        label = 'NEG'\n",
    "    score = cl.score\n",
    "    return (label, score)\n",
    "\n",
    "# 3.FinBERT\n",
    "classifier1 = pipeline(\"sentiment-analysis\", model=\"ProsusAI/finbert\")\n",
    "\n",
    "def FinBERT(sentence):\n",
    "    cl = classifier(sentence)\n",
    "    t = cl[0]['label']\n",
    "    score = cl[0]['score']\n",
    "    label = 'NEU'\n",
    "    if t == 'positive':\n",
    "        label = 'POS'\n",
    "    elif t == 'negative':\n",
    "        label = 'NEG'\n",
    "    return (label, score)\n",
    "\n",
    "print(DistilBERT('Hello'))\n",
    "print(Flair('Hello'))\n",
    "print(FinBERT('Hello'))\n"
   ],
   "id": "a5acd1575a208ac6",
   "outputs": [
    {
     "name": "stdout",
     "output_type": "stream",
     "text": [
      "('POS', 0.9995185136795044)\n",
      "('POS', 0.8004733920097351)\n",
      "('NEU', 0.9995185136795044)\n"
     ]
    }
   ],
   "execution_count": 150
  },
  {
   "metadata": {
    "ExecuteTime": {
     "end_time": "2025-06-30T06:05:24.532607Z",
     "start_time": "2025-06-30T06:05:23.003442Z"
    }
   },
   "cell_type": "code",
   "source": [
    "# Simple ML models\n",
    "\n",
    "# data which they were trained on\n",
    "df1 = pd.read_csv(\"data/News Articles/headlines_with_sentiment (grok).csv\")\n",
    "df1['Headline'] = df1['Headline'].apply(preprocess)\n",
    "X = df1['Headline']\n",
    "y = df1['Sentiment_label']\n",
    "\n",
    "# 1.SVM\n",
    "from sklearn.pipeline import Pipeline\n",
    "from sklearn.feature_extraction.text import CountVectorizer, TfidfTransformer, TfidfVectorizer\n",
    "from sklearn.svm import LinearSVC\n",
    "\n",
    "pipeline_svc = Pipeline([\n",
    "    ('tfidf', TfidfVectorizer()),\n",
    "    ('model', LinearSVC())\n",
    "])\n",
    "pipeline_svc.fit(X, y)\n",
    "\n",
    "def SVC(sentence):\n",
    "    return pipeline_svc.predict(sentence)\n",
    "\n",
    "# 2.KNN\n",
    "# KNN\n",
    "from sklearn.neighbors import KNeighborsClassifier\n",
    "\n",
    "pipeline_knn = Pipeline([\n",
    "    ('vect', CountVectorizer()),\n",
    "    ('tfidf', TfidfTransformer()),\n",
    "    ('model', KNeighborsClassifier())\n",
    "])\n",
    "pipeline_knn.fit(X, y)\n",
    "\n",
    "def KNN(sentence):\n",
    "    return pipeline_knn.predict(sentence)\n",
    "\n",
    "# 3.GBDT\n",
    "from sklearn.ensemble import GradientBoostingClassifier\n",
    "\n",
    "pipeline_GBDT = Pipeline([\n",
    "    ('vect', CountVectorizer()),\n",
    "    ('tfidf', TfidfTransformer()),\n",
    "    ('model', GradientBoostingClassifier())\n",
    "])\n",
    "\n",
    "pipeline_GBDT.fit(X, y)\n",
    "\n",
    "def GBDT(sentence):\n",
    "    return pipeline_GBDT.predict(sentence)\n",
    "\n",
    "print(SVC(['Herllo i am good']))\n",
    "print(KNN(['Herllo i am bad']))\n",
    "print(GBDT(['Herllo i am bad']))"
   ],
   "id": "833ca57c061da617",
   "outputs": [
    {
     "name": "stdout",
     "output_type": "stream",
     "text": [
      "['POS']\n",
      "['NEG']\n",
      "['NEG']\n"
     ]
    }
   ],
   "execution_count": 151
  },
  {
   "metadata": {
    "ExecuteTime": {
     "end_time": "2025-06-30T09:30:22.713424Z",
     "start_time": "2025-06-30T09:30:15.911481Z"
    }
   },
   "cell_type": "code",
   "source": [
    "df['DistilBERT'] = df['Title_processed'].apply(DistilBERT).apply(lambda x:x[0] )\n",
    "df['Flair'] = df['Title_processed'].apply(Flair).apply(lambda x:x[0] )\n",
    "df['FinBERT'] = df['Title_processed'].apply(FinBERT).apply(lambda x:x[0] )\n",
    "df['SVC'] = pipeline_svc.predict(df['Title_processed'])\n",
    "df['KNN'] = pipeline_knn.predict(df['Title_processed'])\n",
    "df['GBDT'] = pipeline_GBDT.predict(df['Title_processed'])"
   ],
   "id": "23eb640b84f4eec8",
   "outputs": [],
   "execution_count": 172
  },
  {
   "metadata": {
    "ExecuteTime": {
     "end_time": "2025-06-30T06:20:27.165140Z",
     "start_time": "2025-06-30T06:20:27.153810Z"
    }
   },
   "cell_type": "code",
   "source": [
    "from sklearn.metrics import accuracy_score, confusion_matrix, classification_report\n",
    "\n",
    "print(accuracy_score(df['Sentiment'], df['DistilBERT']))\n",
    "print(accuracy_score(df['Sentiment'], df['Flair']))\n",
    "print(accuracy_score(df['Sentiment'], df['FinBERT']))\n",
    "print(accuracy_score(df['Sentiment'], df['SVC']))\n",
    "print(accuracy_score(df['Sentiment'], df['KNN']))\n",
    "print(accuracy_score(df['Sentiment'], df['GBDT']))"
   ],
   "id": "cfd75b9ec9c2c91d",
   "outputs": [
    {
     "name": "stdout",
     "output_type": "stream",
     "text": [
      "0.43902439024390244\n",
      "0.4634146341463415\n",
      "0.3780487804878049\n",
      "0.4268292682926829\n",
      "0.4024390243902439\n",
      "0.3902439024390244\n"
     ]
    }
   ],
   "execution_count": 169
  },
  {
   "metadata": {
    "ExecuteTime": {
     "end_time": "2025-06-30T06:26:10.429777Z",
     "start_time": "2025-06-30T06:26:10.410597Z"
    }
   },
   "cell_type": "code",
   "source": "print(classification_report(df['Sentiment'], df['DistilBERT']))",
   "id": "1e44cc1d987c7f89",
   "outputs": [
    {
     "name": "stdout",
     "output_type": "stream",
     "text": [
      "              precision    recall  f1-score   support\n",
      "\n",
      "         NEG       0.44      0.90      0.59        31\n",
      "         NEU       0.00      0.00      0.00        31\n",
      "         POS       0.44      0.40      0.42        20\n",
      "\n",
      "    accuracy                           0.44        82\n",
      "   macro avg       0.29      0.43      0.34        82\n",
      "weighted avg       0.27      0.44      0.33        82\n",
      "\n"
     ]
    }
   ],
   "execution_count": 171
  },
  {
   "metadata": {},
   "cell_type": "code",
   "outputs": [],
   "execution_count": null,
   "source": "",
   "id": "3657992ca0db1949"
  }
 ],
 "metadata": {
  "kernelspec": {
   "display_name": "Python 3",
   "language": "python",
   "name": "python3"
  },
  "language_info": {
   "codemirror_mode": {
    "name": "ipython",
    "version": 2
   },
   "file_extension": ".py",
   "mimetype": "text/x-python",
   "name": "python",
   "nbconvert_exporter": "python",
   "pygments_lexer": "ipython2",
   "version": "2.7.6"
  }
 },
 "nbformat": 4,
 "nbformat_minor": 5
}
