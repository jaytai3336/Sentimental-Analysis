{
 "cells": [
  {
   "cell_type": "code",
   "execution_count": 1,
   "id": "c44a31e4",
   "metadata": {},
   "outputs": [
    {
     "data": {
      "text/plain": [
       "[\"We're going to pass a massive infrastructure bill that will create millions of jobs and rebuild America.\",\n",
       " \"If China doesn't make a better trade deal, we're going to impose new tariffs on their imports.\",\n",
       " 'Our economy is strong and the stock market continues to break records—unbelievable success!',\n",
       " 'The Federal Reserve has been doing great work supporting the markets—I commend their patience and action.',\n",
       " 'THIS IS A GREAT TIME TO BUY!!! DJT',\n",
       " \"Record low unemployment, rising wages—America's on the move!\",\n",
       " 'U.S. manufacturing is growing strong—just look at these numbers!',\n",
       " 'We must cut corporate tax rates to help American businesses flourish.',\n",
       " \"Feeling optimistic about progress in trade talks—we're getting close!\",\n",
       " \"The Fed's interest rate hikes are hurting workers and businesses—time to rethink policy.\"]"
      ]
     },
     "execution_count": 1,
     "metadata": {},
     "output_type": "execute_result"
    }
   ],
   "source": [
    "tweets = [\n",
    "    \"We're going to pass a massive infrastructure bill that will create millions of jobs and rebuild America.\",\n",
    "    \"If China doesn't make a better trade deal, we're going to impose new tariffs on their imports.\",\n",
    "    \"Our economy is strong and the stock market continues to break records—unbelievable success!\",\n",
    "    \"The Federal Reserve has been doing great work supporting the markets—I commend their patience and action.\",\n",
    "    \"THIS IS A GREAT TIME TO BUY!!! DJT\",\n",
    "    \"Record low unemployment, rising wages—America's on the move!\",\n",
    "    \"U.S. manufacturing is growing strong—just look at these numbers!\",\n",
    "    \"We must cut corporate tax rates to help American businesses flourish.\",\n",
    "    \"Feeling optimistic about progress in trade talks—we're getting close!\",\n",
    "    \"The Fed's interest rate hikes are hurting workers and businesses—time to rethink policy.\"\n",
    "]\n",
    "\n",
    "tweets"
   ]
  },
  {
   "cell_type": "code",
   "execution_count": 2,
   "id": "958003e2",
   "metadata": {},
   "outputs": [
    {
     "name": "stderr",
     "output_type": "stream",
     "text": [
      "[nltk_data] Downloading package wordnet to C:\\Users\\Jay\n",
      "[nltk_data]     Tai\\AppData\\Roaming\\nltk_data...\n",
      "[nltk_data]   Package wordnet is already up-to-date!\n",
      "[nltk_data] Downloading package stopwords to C:\\Users\\Jay\n",
      "[nltk_data]     Tai\\AppData\\Roaming\\nltk_data...\n",
      "[nltk_data]   Package stopwords is already up-to-date!\n",
      "[nltk_data] Downloading package punkt_tab to C:\\Users\\Jay\n",
      "[nltk_data]     Tai\\AppData\\Roaming\\nltk_data...\n",
      "[nltk_data]   Package punkt_tab is already up-to-date!\n"
     ]
    },
    {
     "data": {
      "text/plain": [
       "['going pas massive infrastructure bill create million job rebuild america',\n",
       " 'china make better trade deal going impose new tariff import',\n",
       " 'economy strong stock market continues break success',\n",
       " 'federal reserve great work supporting commend patience action',\n",
       " 'great time buy djt',\n",
       " 'record low unemployment rising move',\n",
       " 'manufacturing growing look number',\n",
       " 'must cut corporate tax rate help american business flourish',\n",
       " 'feeling optimistic progress trade getting close',\n",
       " 'fed interest rate hike hurting worker rethink policy']"
      ]
     },
     "execution_count": 2,
     "metadata": {},
     "output_type": "execute_result"
    }
   ],
   "source": [
    "import nltk\n",
    "nltk.download('wordnet')\n",
    "nltk.download('stopwords')\n",
    "nltk.download('punkt_tab')\n",
    "from nltk.tokenize import word_tokenize\n",
    "from nltk.corpus import stopwords\n",
    "from nltk.stem import WordNetLemmatizer\n",
    "\n",
    "stop_words = set(stopwords.words('english'))\n",
    "lemmatizer = WordNetLemmatizer()\n",
    "\n",
    "def preprocess(text):\n",
    "    if not isinstance(text, str) or text is None:\n",
    "        return \"\"\n",
    "    tokens = word_tokenize(text.lower())  # Tokenize and lowercase\n",
    "    cleaned_tokens = [lemmatizer.lemmatize(token) for token in tokens if token.isalpha() and token not in stop_words]\n",
    "    test_sentence = \" \".join(cleaned_tokens)\n",
    "    return test_sentence\n",
    "\n",
    "processed_tweets = list(map(preprocess, tweets))\n",
    "processed_tweets"
   ]
  },
  {
   "cell_type": "code",
   "execution_count": 3,
   "id": "01c607e5",
   "metadata": {},
   "outputs": [],
   "source": [
    "FINANCIAL_GROUPS = {\n",
    "    \"Financial Markets\": [\n",
    "        \"stocks\", \"oil\", \"dollar\", \"shares\", \"bonds\", \n",
    "        \"future\", \"forecast\", \"trading\", \"investment\",\n",
    "        \"equities\", \"crude\", \"currency\", \"yield\"\n",
    "    ],\n",
    "    \"Corporate Sector\": [\n",
    "        \"sales\", \"tech\", \"pharma\", \"steel\", \"manufacturing\",\n",
    "        \"earnings\", \"company\", \"revenue\", \"production\",\n",
    "        \"biotech\", \"automotive\", \"industrial\"\n",
    "    ],\n",
    "    \"Macro Finance\": [\n",
    "        \"fx\", \"rates\", \"commodities\", \"solar\", \"wind\",\n",
    "        \"gas\", \"bank\", \"credit\", \"debt\", \"fed\", \"fund\",\n",
    "        \"interest\", \"inflation\", \"energy\", \"renewables\"\n",
    "    ]\n",
    "}"
   ]
  },
  {
   "cell_type": "code",
   "execution_count": 5,
   "id": "5a481018",
   "metadata": {},
   "outputs": [
    {
     "name": "stderr",
     "output_type": "stream",
     "text": [
      "c:\\Users\\Jay Tai\\Documents\\Sentimental-Analysis\\Sentimental-Analysis\\.venv\\Lib\\site-packages\\huggingface_hub\\file_download.py:143: UserWarning: `huggingface_hub` cache-system uses symlinks by default to efficiently store duplicated files but your machine does not support them in C:\\Users\\Jay Tai\\.cache\\huggingface\\hub\\models--MoritzLaurer--deberta-v3-base-zeroshot-v1.1-all-33. Caching files will still work but in a degraded version that might require more space on your disk. This warning can be disabled by setting the `HF_HUB_DISABLE_SYMLINKS_WARNING` environment variable. For more details, see https://huggingface.co/docs/huggingface_hub/how-to-cache#limitations.\n",
      "To support symlinks on Windows, you either need to activate Developer Mode or to run Python as an administrator. In order to activate developer mode, see this article: https://docs.microsoft.com/en-us/windows/apps/get-started/enable-your-device-for-development\n",
      "  warnings.warn(message)\n",
      "Device set to use cpu\n",
      "Device set to use cpu\n",
      "Analyzing tweets:   0%|          | 0/10 [00:00<?, ?it/s]Asking to truncate to max_length but no maximum length is provided and the model has no predefined maximum length. Default to no truncation.\n",
      "Analyzing tweets: 100%|██████████| 10/10 [00:38<00:00,  3.85s/it]"
     ]
    },
    {
     "name": "stdout",
     "output_type": "stream",
     "text": [
      "\n",
      "=== Analysis Summary ===\n",
      "Processed 10/10 tweets successfully\n",
      "\n",
      "Topic Distribution:\n",
      "topic\n",
      "Financial Markets    90.0%\n",
      "Corporate Sector     10.0%\n",
      "Name: proportion, dtype: object\n",
      "\n",
      "Sentiment Distribution:\n",
      "sentiment\n",
      "POSITIVE    60.0%\n",
      "NEGATIVE    40.0%\n",
      "Name: proportion, dtype: object\n",
      "\n",
      "Sentiment by Topic:\n",
      "sentiment          NEGATIVE  POSITIVE  Total\n",
      "topic                                       \n",
      "Corporate Sector          0         1      1\n",
      "Financial Markets         4         5      9\n",
      "Total                     4         6     10\n"
     ]
    },
    {
     "name": "stderr",
     "output_type": "stream",
     "text": [
      "\n"
     ]
    }
   ],
   "source": [
    "import pandas as pd\n",
    "from transformers import pipeline, set_seed\n",
    "import torch\n",
    "\n",
    "# Set seed for reproducibility\n",
    "set_seed(42)\n",
    "\n",
    "# 1. Define your financial groups (expanded for better coverage)\n",
    "FINANCIAL_GROUPS = {\n",
    "    \"Financial Markets\": [\n",
    "        \"stocks\", \"oil\", \"dollar\", \"shares\", \"bonds\", \n",
    "        \"future\", \"forecast\", \"trading\", \"investment\",\n",
    "        \"equities\", \"crude\", \"currency\", \"yield\", \"portfolio\",\n",
    "        \"derivatives\", \"commodity\", \"index\"\n",
    "    ],\n",
    "    \"Corporate Sector\": [\n",
    "        \"sales\", \"tech\", \"pharma\", \"steel\", \"manufacturing\",\n",
    "        \"earnings\", \"company\", \"revenue\", \"production\",\n",
    "        \"biotech\", \"automotive\", \"industrial\", \"profit\",\n",
    "        \"merger\", \"acquisition\", \"dividend\"\n",
    "    ],\n",
    "    \"Macro Finance\": [\n",
    "        \"fx\", \"rates\", \"commodities\", \"solar\", \"wind\",\n",
    "        \"gas\", \"bank\", \"credit\", \"debt\", \"fed\", \"fund\",\n",
    "        \"interest\", \"inflation\", \"energy\", \"renewables\",\n",
    "        \"policy\", \"regulation\", \"liquidity\"\n",
    "    ]\n",
    "}\n",
    "\n",
    "# 2. Load models with error handling\n",
    "try:\n",
    "    classifier = pipeline(\n",
    "        \"zero-shot-classification\",\n",
    "        model=\"MoritzLaurer/deberta-v3-base-zeroshot-v1.1-all-33\",\n",
    "        device=0 if torch.cuda.is_available() else -1\n",
    "    )\n",
    "    \n",
    "    sentiment = pipeline(\"sentiment-analysis\", model=\"distilbert-base-uncased-finetuned-sst-2-english\")\n",
    "except Exception as e:\n",
    "    print(f\"Error loading models: {e}\")\n",
    "    print(\"Try: pip install --upgrade transformers torch\")\n",
    "    exit()\n",
    "\n",
    "# 3. Process tweets with progress tracking\n",
    "from tqdm import tqdm\n",
    "\n",
    "results = []\n",
    "for sentence in tqdm(processed_tweets, desc=\"Analyzing tweets\"):\n",
    "    try:\n",
    "        # Topic Classification\n",
    "        topic_result = classifier(\n",
    "            sentence,\n",
    "            candidate_labels=list(FINANCIAL_GROUPS.keys()),\n",
    "            hypothesis_template=\"This financial news concerns {}.\"\n",
    "        )\n",
    "        top_topic = topic_result['labels'][0]\n",
    "        \n",
    "        # Sentiment Analysis\n",
    "        sentiment_result = sentiment(sentence)[0]\n",
    "        \n",
    "        # Find matched keywords\n",
    "        matched_keywords = [\n",
    "            kw for kw in FINANCIAL_GROUPS[top_topic] \n",
    "            if kw.lower() in sentence.lower()\n",
    "        ]\n",
    "        \n",
    "        results.append({\n",
    "            \"text\": sentence,\n",
    "            \"topic\": top_topic,\n",
    "            \"topic_confidence\": round(topic_result['scores'][0], 4),\n",
    "            \"matched_keywords\": \", \".join(matched_keywords[:3]) if matched_keywords else \"None\",\n",
    "            \"sentiment\": sentiment_result['label'].upper(),\n",
    "            \"sentiment_score\": round(sentiment_result['score'], 4)\n",
    "        })\n",
    "    except Exception as e:\n",
    "        print(f\"Error processing: '{sentence[:50]}...' - {str(e)}\")\n",
    "        continue\n",
    "\n",
    "# 4. Create DataFrame with type optimization\n",
    "results_df = pd.DataFrame(results).astype({\n",
    "    'topic': 'category',\n",
    "    'sentiment': 'category'\n",
    "})\n",
    "\n",
    "# 5. Enhanced analysis\n",
    "print(\"\\n=== Analysis Summary ===\")\n",
    "print(f\"Processed {len(results_df)}/{len(processed_tweets)} tweets successfully\")\n",
    "print(\"\\nTopic Distribution:\")\n",
    "print(results_df['topic'].value_counts(normalize=True).mul(100).round(1).astype(str) + '%')\n",
    "\n",
    "print(\"\\nSentiment Distribution:\")\n",
    "print(results_df['sentiment'].value_counts(normalize=True).mul(100).round(1).astype(str) + '%')\n",
    "\n",
    "print(\"\\nSentiment by Topic:\")\n",
    "print(pd.crosstab(\n",
    "    results_df['topic'], \n",
    "    results_df['sentiment'],\n",
    "    margins=True,\n",
    "    margins_name=\"Total\"\n",
    "))"
   ]
  },
  {
   "cell_type": "code",
   "execution_count": null,
   "id": "7af48620",
   "metadata": {},
   "outputs": [],
   "source": []
  }
 ],
 "metadata": {
  "kernelspec": {
   "display_name": ".venv",
   "language": "python",
   "name": "python3"
  },
  "language_info": {
   "codemirror_mode": {
    "name": "ipython",
    "version": 3
   },
   "file_extension": ".py",
   "mimetype": "text/x-python",
   "name": "python",
   "nbconvert_exporter": "python",
   "pygments_lexer": "ipython3",
   "version": "3.11.9"
  }
 },
 "nbformat": 4,
 "nbformat_minor": 5
}
