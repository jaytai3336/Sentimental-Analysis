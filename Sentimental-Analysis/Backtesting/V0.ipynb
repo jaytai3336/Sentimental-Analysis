{
 "cells": [
  {
   "cell_type": "code",
   "execution_count": null,
   "id": "initial_id",
   "metadata": {
    "collapsed": true
   },
   "outputs": [],
   "source": [
    "import pandas as pd\n",
    "df = pd.read_csv('data/', index_col='Date'); df.index = pd.to_datetime(df.index)\n",
    "# df1 = pd.read_csv('data/', index_col='Date'); df1.index = pd.to_datetime(df1.index)"
   ]
  },
  {
   "metadata": {},
   "cell_type": "code",
   "outputs": [],
   "execution_count": null,
   "source": [
    "# BT strat funciton\n",
    "\n",
    "import backtrader as bt\n",
    "\n",
    "class DebugStrategy(bt.Strategy):\n",
    "    params = ()\n",
    "\n",
    "    def __init__(self):\n",
    "        pass\n",
    "\n",
    "    def next(self):\n",
    "        pass\n",
    "\n",
    "def run(Strategy = DebugStrategy, initial_cash = 10000, commission = 0.001):\n",
    "    cerebro = bt.Cerebro()\n",
    "\n",
    "    data = bt.feeds.PandasData(dataname=df, plot=True)\n",
    "    cerebro.adddata(data, name='price')\n",
    "    # data1 = bt.feeds.PandasData(dataname=df1, plot=True)\n",
    "    # cerebro.adddata(data1, name='')\n",
    "\n",
    "    cerebro.addstrategy(Strategy)\n",
    "\n",
    "    cerebro.broker.setcash(initial_cash)\n",
    "    cerebro.broker.setcommission(commission=commission)\n",
    "\n",
    "    cerebro.addanalyzer(bt.analyzers.SharpeRatio, _name='sharpe')\n",
    "    cerebro.addanalyzer(bt.analyzers.Returns, _name='returns')\n",
    "    cerebro.addanalyzer(bt.analyzers.TradeAnalyzer, _name='trades')\n",
    "\n",
    "    results = cerebro.run()\n",
    "    strategy = results[0]\n",
    "\n",
    "    print(f'Initial Portfolio Value: {initial_cash}, commission: {commission}')\n",
    "    print('Final Portfolio Value: %.2f' % cerebro.broker.getvalue())\n",
    "    print('Sharpe Ratio:', strategy.analyzers.sharpe.get_analysis()['sharperatio'])\n",
    "    print('Total Return:', strategy.analyzers.returns.get_analysis()['rtot'])\n",
    "    print('Total Trades:', strategy.analyzers.trades.get_analysis()['total']['total'])\n",
    "\n",
    "    # Plot result\n",
    "    fig = cerebro.plot(style=\"candlestick\")[0][0]\n",
    "    fig.savefig('data/.png')"
   ],
   "id": "5b76b7f0a39b98a4"
  },
  {
   "metadata": {},
   "cell_type": "code",
   "outputs": [],
   "execution_count": null,
   "source": [
    "class Strategy1(bt.Strategy):\n",
    "    params = ()\n",
    "\n",
    "    def __init__(self):\n",
    "        pass\n",
    "\n",
    "    def next(self):\n",
    "        pass\n",
    "\n",
    "run(Strategy1)"
   ],
   "id": "200f03ea533abd06"
  },
  {
   "metadata": {},
   "cell_type": "code",
   "outputs": [],
   "execution_count": null,
   "source": [
    "from IPython.display import Image\n",
    "Image('data/.png')"
   ],
   "id": "41ffa9178777b966"
  }
 ],
 "metadata": {
  "kernelspec": {
   "display_name": "Python 3",
   "language": "python",
   "name": "python3"
  },
  "language_info": {
   "codemirror_mode": {
    "name": "ipython",
    "version": 2
   },
   "file_extension": ".py",
   "mimetype": "text/x-python",
   "name": "python",
   "nbconvert_exporter": "python",
   "pygments_lexer": "ipython2",
   "version": "2.7.6"
  }
 },
 "nbformat": 4,
 "nbformat_minor": 5
}
