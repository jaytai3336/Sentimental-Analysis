{
 "cells": [
  {
   "metadata": {
    "ExecuteTime": {
     "end_time": "2025-06-25T08:39:44.437101Z",
     "start_time": "2025-06-25T08:39:29.435820Z"
    }
   },
   "cell_type": "code",
   "source": [
    "import pandas as pd\n",
    "import numpy as np\n",
    "import nltk\n",
    "from nltk.corpus import stopwords\n",
    "from nltk.tokenize import word_tokenize\n",
    "import gensim\n",
    "from gensim import corpora\n",
    "from gensim.models.ldamodel import LdaModel\n",
    "import pyLDAvis.gensim_models as gensimvis\n",
    "import pyLDAvis\n",
    "import matplotlib.pyplot as plt\n",
    "import ipywidgets\n",
    "nltk.download('punkt')\n",
    "nltk.download('stopwords')\n",
    "\n",
    "\n",
    "# Load the dataset\n",
    "df = pd.read_csv('data/News Tagging/BloombergNews.csv')  # Ensure your CSV file has columns like 'title' and 'content'\n",
    "\n",
    "# Print first few rows of the dataset\n",
    "df.head()"
   ],
   "id": "75e8c02b57eb0abd",
   "outputs": [
    {
     "name": "stderr",
     "output_type": "stream",
     "text": [
      "[nltk_data] Downloading package punkt to C:\\Users\\Jay\n",
      "[nltk_data]     Tai\\AppData\\Roaming\\nltk_data...\n",
      "[nltk_data]   Package punkt is already up-to-date!\n",
      "[nltk_data] Downloading package stopwords to C:\\Users\\Jay\n",
      "[nltk_data]     Tai\\AppData\\Roaming\\nltk_data...\n",
      "[nltk_data]   Package stopwords is already up-to-date!\n"
     ]
    },
    {
     "data": {
      "text/plain": [
       "   Unnamed: 0                                           Headline  \\\n",
       "0           0  Ivory Coast Keeps Cocoa Export Tax Below 22%, ...   \n",
       "1           1  USDA Boxed Beef Cutout Closing Prices for Octo...   \n",
       "2           2         U.S. September Small Business Jobs Summary   \n",
       "3           3  Greece’s GSEE Says Won’t Meet For Talks With T...   \n",
       "4           4  Clean-Tech Companies Should Get 10-Year Tax Br...   \n",
       "\n",
       "           Journalists                 Date  \\\n",
       "0  ['Baudelaire Mieu']  2011-10-06 15:14:20   \n",
       "1   ['Michael Carone']  2011-10-06 20:22:42   \n",
       "2       ['Alex Tanzi']  2011-10-06 19:00:00   \n",
       "3    ['Natalie Weeks']  2011-10-06 14:45:34   \n",
       "4         ['Ari Levy']  2011-10-06 18:34:41   \n",
       "\n",
       "                                                Link  \\\n",
       "0  http://www.bloomberg.com/news/2011-10-06/ivory...   \n",
       "1  http://www.bloomberg.com/news/2011-10-06/usda-...   \n",
       "2  http://www.bloomberg.com/news/2011-10-06/u-s-s...   \n",
       "3  http://www.bloomberg.com/news/2011-10-06/greec...   \n",
       "4  http://www.bloomberg.com/news/2011-10-06/clean...   \n",
       "\n",
       "                                             Article  \n",
       "0  Export taxes on cocoa beans from Ivory Coast ,...  \n",
       "1  October 6 (Bloomberg) -- This table details bo...  \n",
       "2  U.S. small business plans to hire declined in ...  \n",
       "3  Greece ’s biggest private sector union group, ...  \n",
       "4  Reed Hundt, head of the Coalition for Green Ca...  "
      ],
      "text/html": [
       "<div>\n",
       "<style scoped>\n",
       "    .dataframe tbody tr th:only-of-type {\n",
       "        vertical-align: middle;\n",
       "    }\n",
       "\n",
       "    .dataframe tbody tr th {\n",
       "        vertical-align: top;\n",
       "    }\n",
       "\n",
       "    .dataframe thead th {\n",
       "        text-align: right;\n",
       "    }\n",
       "</style>\n",
       "<table border=\"1\" class=\"dataframe\">\n",
       "  <thead>\n",
       "    <tr style=\"text-align: right;\">\n",
       "      <th></th>\n",
       "      <th>Unnamed: 0</th>\n",
       "      <th>Headline</th>\n",
       "      <th>Journalists</th>\n",
       "      <th>Date</th>\n",
       "      <th>Link</th>\n",
       "      <th>Article</th>\n",
       "    </tr>\n",
       "  </thead>\n",
       "  <tbody>\n",
       "    <tr>\n",
       "      <th>0</th>\n",
       "      <td>0</td>\n",
       "      <td>Ivory Coast Keeps Cocoa Export Tax Below 22%, ...</td>\n",
       "      <td>['Baudelaire Mieu']</td>\n",
       "      <td>2011-10-06 15:14:20</td>\n",
       "      <td>http://www.bloomberg.com/news/2011-10-06/ivory...</td>\n",
       "      <td>Export taxes on cocoa beans from Ivory Coast ,...</td>\n",
       "    </tr>\n",
       "    <tr>\n",
       "      <th>1</th>\n",
       "      <td>1</td>\n",
       "      <td>USDA Boxed Beef Cutout Closing Prices for Octo...</td>\n",
       "      <td>['Michael Carone']</td>\n",
       "      <td>2011-10-06 20:22:42</td>\n",
       "      <td>http://www.bloomberg.com/news/2011-10-06/usda-...</td>\n",
       "      <td>October 6 (Bloomberg) -- This table details bo...</td>\n",
       "    </tr>\n",
       "    <tr>\n",
       "      <th>2</th>\n",
       "      <td>2</td>\n",
       "      <td>U.S. September Small Business Jobs Summary</td>\n",
       "      <td>['Alex Tanzi']</td>\n",
       "      <td>2011-10-06 19:00:00</td>\n",
       "      <td>http://www.bloomberg.com/news/2011-10-06/u-s-s...</td>\n",
       "      <td>U.S. small business plans to hire declined in ...</td>\n",
       "    </tr>\n",
       "    <tr>\n",
       "      <th>3</th>\n",
       "      <td>3</td>\n",
       "      <td>Greece’s GSEE Says Won’t Meet For Talks With T...</td>\n",
       "      <td>['Natalie Weeks']</td>\n",
       "      <td>2011-10-06 14:45:34</td>\n",
       "      <td>http://www.bloomberg.com/news/2011-10-06/greec...</td>\n",
       "      <td>Greece ’s biggest private sector union group, ...</td>\n",
       "    </tr>\n",
       "    <tr>\n",
       "      <th>4</th>\n",
       "      <td>4</td>\n",
       "      <td>Clean-Tech Companies Should Get 10-Year Tax Br...</td>\n",
       "      <td>['Ari Levy']</td>\n",
       "      <td>2011-10-06 18:34:41</td>\n",
       "      <td>http://www.bloomberg.com/news/2011-10-06/clean...</td>\n",
       "      <td>Reed Hundt, head of the Coalition for Green Ca...</td>\n",
       "    </tr>\n",
       "  </tbody>\n",
       "</table>\n",
       "</div>"
      ]
     },
     "execution_count": 10,
     "metadata": {},
     "output_type": "execute_result"
    }
   ],
   "execution_count": 10
  },
  {
   "metadata": {
    "ExecuteTime": {
     "end_time": "2025-06-25T08:44:12.459588Z",
     "start_time": "2025-06-25T08:39:44.515380Z"
    }
   },
   "cell_type": "code",
   "source": [
    "df = df.dropna(subset=['Headline'])\n",
    "\n",
    "# Define a function to preprocess the text\n",
    "def preprocess_text(text):\n",
    "    stop_words = set(stopwords.words('english'))\n",
    "    tokens = word_tokenize(text.lower())  # Tokenize and convert to lowercase\n",
    "    tokens = [word for word in tokens if word.isalpha()]  # Remove non-alphabetic characters\n",
    "    tokens = [word for word in tokens if word not in stop_words]  # Remove stopwords\n",
    "    return tokens\n",
    "\n",
    "# Apply the function to preprocess the 'data' column\n",
    "df['processed_content'] = df['Headline'].apply(preprocess_text)\n",
    "\n",
    "# Preview the preprocessed text\n",
    "df['processed_content'].head()"
   ],
   "id": "76a4f2b0c9cd62f5",
   "outputs": [
    {
     "data": {
      "text/plain": [
       "0    [ivory, coast, keeps, cocoa, export, tax, docu...\n",
       "1    [usda, boxed, beef, cutout, closing, prices, o...\n",
       "2          [september, small, business, jobs, summary]\n",
       "3    [greece, gsee, says, meet, talks, troika, athens]\n",
       "4           [companies, get, tax, breaks, hundt, says]\n",
       "Name: processed_content, dtype: object"
      ]
     },
     "execution_count": 11,
     "metadata": {},
     "output_type": "execute_result"
    }
   ],
   "execution_count": 11
  },
  {
   "metadata": {
    "ExecuteTime": {
     "end_time": "2025-06-25T08:44:35.777223Z",
     "start_time": "2025-06-25T08:44:30.139562Z"
    }
   },
   "cell_type": "code",
   "source": [
    "# Create a dictionary and corpus for LDA\n",
    "dictionary = corpora.Dictionary(df['processed_content'])\n",
    "corpus = [dictionary.doc2bow(text) for text in df['processed_content']]\n",
    "\n",
    "# Preview the corpus\n",
    "print(corpus[:2])  # List of tuples (term_id, term_frequency)"
   ],
   "id": "82cd4d39eb4c18e0",
   "outputs": [
    {
     "name": "stdout",
     "output_type": "stream",
     "text": [
      "[[(0, 1), (1, 1), (2, 1), (3, 1), (4, 1), (5, 1), (6, 1), (7, 1)], [(8, 1), (9, 1), (10, 1), (11, 1), (12, 1), (13, 1), (14, 1)]]\n"
     ]
    }
   ],
   "execution_count": 12
  },
  {
   "metadata": {
    "ExecuteTime": {
     "end_time": "2025-06-25T08:53:13.001747Z",
     "start_time": "2025-06-25T08:44:36.864841Z"
    }
   },
   "cell_type": "code",
   "source": [
    "# Train the LDA model\n",
    "lda_model = LdaModel(corpus=corpus, num_topics=10, id2word=dictionary, passes=10)\n",
    "\n",
    "# Print the topics with top words\n",
    "for idx, topic in lda_model.print_topics(-1):\n",
    "    print(f\"Topic {idx}: {topic}\")"
   ],
   "id": "f08af02e0f5b1b5",
   "outputs": [
    {
     "name": "stdout",
     "output_type": "stream",
     "text": [
      "Topic 0: 0.049*\"bank\" + 0.041*\"million\" + 0.030*\"says\" + 0.017*\"central\" + 0.014*\"billion\" + 0.011*\"fund\" + 0.011*\"wins\" + 0.009*\"seeks\" + 0.009*\"may\" + 0.009*\"raise\"\n",
      "Topic 1: 0.037*\"june\" + 0.029*\"says\" + 0.025*\"debt\" + 0.017*\"first\" + 0.013*\"concern\" + 0.013*\"europe\" + 0.013*\"two\" + 0.013*\"euro\" + 0.012*\"earnings\" + 0.012*\"crisis\"\n",
      "Topic 2: 0.039*\"says\" + 0.016*\"said\" + 0.016*\"obama\" + 0.014*\"billion\" + 0.014*\"buy\" + 0.012*\"hong\" + 0.012*\"kong\" + 0.012*\"million\" + 0.011*\"chief\" + 0.010*\"end\"\n",
      "Topic 3: 0.036*\"india\" + 0.035*\"new\" + 0.024*\"credit\" + 0.023*\"market\" + 0.017*\"money\" + 0.017*\"bond\" + 0.016*\"bank\" + 0.015*\"markets\" + 0.015*\"billion\" + 0.014*\"york\"\n",
      "Topic 4: 0.026*\"south\" + 0.022*\"prices\" + 0.018*\"gain\" + 0.017*\"fed\" + 0.017*\"world\" + 0.016*\"africa\" + 0.012*\"copper\" + 0.012*\"quarter\" + 0.010*\"african\" + 0.010*\"september\"\n",
      "Topic 5: 0.060*\"says\" + 0.022*\"may\" + 0.019*\"reports\" + 0.016*\"sell\" + 0.012*\"group\" + 0.011*\"unit\" + 0.010*\"stake\" + 0.009*\"next\" + 0.009*\"top\" + 0.009*\"business\"\n",
      "Topic 6: 0.043*\"profit\" + 0.024*\"record\" + 0.021*\"estimates\" + 0.018*\"forecast\" + 0.015*\"mover\" + 0.014*\"rises\" + 0.014*\"capital\" + 0.011*\"london\" + 0.011*\"new\" + 0.009*\"shares\"\n",
      "Topic 7: 0.031*\"stocks\" + 0.026*\"oil\" + 0.017*\"china\" + 0.016*\"drop\" + 0.015*\"rise\" + 0.014*\"high\" + 0.014*\"dollar\" + 0.014*\"decline\" + 0.014*\"gains\" + 0.013*\"low\"\n",
      "Topic 8: 0.106*\"sales\" + 0.070*\"table\" + 0.069*\"tt\" + 0.047*\"rise\" + 0.043*\"fall\" + 0.023*\"february\" + 0.017*\"equity\" + 0.016*\"preview\" + 0.011*\"may\" + 0.008*\"stocks\"\n",
      "Topic 9: 0.064*\"says\" + 0.017*\"may\" + 0.015*\"inflation\" + 0.012*\"companies\" + 0.009*\"trade\" + 0.009*\"rules\" + 0.009*\"yield\" + 0.008*\"reports\" + 0.008*\"consumer\" + 0.008*\"rose\"\n"
     ]
    }
   ],
   "execution_count": 13
  },
  {
   "metadata": {
    "ExecuteTime": {
     "end_time": "2025-06-25T06:26:19.147270Z",
     "start_time": "2025-06-25T06:25:56.005954Z"
    }
   },
   "cell_type": "code",
   "source": [
    "from gensim.models.coherencemodel import CoherenceModel\n",
    "\n",
    "# Calculate Coherence Score\n",
    "coherence_model_lda = CoherenceModel(model=lda_model, texts=df['processed_content'], dictionary=dictionary, coherence='c_v')\n",
    "coherence_lda = coherence_model_lda.get_coherence()\n",
    "print(f'Coherence Score: {coherence_lda}')"
   ],
   "id": "941e856470e92577",
   "outputs": [
    {
     "name": "stdout",
     "output_type": "stream",
     "text": [
      "Coherence Score: 0.2867346163486801\n"
     ]
    }
   ],
   "execution_count": 8
  },
  {
   "metadata": {
    "ExecuteTime": {
     "end_time": "2025-06-25T06:25:04.749638Z",
     "start_time": "2025-06-25T06:24:31.751512Z"
    }
   },
   "cell_type": "code",
   "source": [
    "# Visualize the topics using pyLDAvis\n",
    "vis = gensimvis.prepare(lda_model, corpus, dictionary)\n",
    "pyLDAvis.save_html(vis, 'data/LDA bloomberg.html')"
   ],
   "id": "e0cda0a36eaab6cc",
   "outputs": [],
   "execution_count": 6
  }
 ],
 "metadata": {
  "kernelspec": {
   "display_name": "Python 3",
   "language": "python",
   "name": "python3"
  },
  "language_info": {
   "codemirror_mode": {
    "name": "ipython",
    "version": 2
   },
   "file_extension": ".py",
   "mimetype": "text/x-python",
   "name": "python",
   "nbconvert_exporter": "python",
   "pygments_lexer": "ipython2",
   "version": "2.7.6"
  }
 },
 "nbformat": 4,
 "nbformat_minor": 5
}
