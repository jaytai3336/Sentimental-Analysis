{
 "cells": [
  {
   "cell_type": "markdown",
   "id": "e666ce75eabec9af",
   "metadata": {},
   "source": [
    "# Downloading Bloomberg Financial News"
   ]
  },
  {
   "cell_type": "code",
   "execution_count": 2,
   "id": "4d1ac9393f0af131",
   "metadata": {},
   "outputs": [
    {
     "name": "stderr",
     "output_type": "stream",
     "text": [
      "c:\\Users\\Jay Tai\\Documents\\Sentimental-Analysis\\.venv\\Lib\\site-packages\\tqdm\\auto.py:21: TqdmWarning: IProgress not found. Please update jupyter and ipywidgets. See https://ipywidgets.readthedocs.io/en/stable/user_install.html\n",
      "  from .autonotebook import tqdm as notebook_tqdm\n"
     ]
    }
   ],
   "source": [
    "import pandas as pd\n",
    "\n",
    "df = pd.read_parquet(\"hf://datasets/danidanou/Bloomberg_Financial_News/bloomberg_financial_data.parquet.gzip\")"
   ]
  },
  {
   "cell_type": "code",
   "execution_count": 3,
   "id": "49841f62a637d34",
   "metadata": {},
   "outputs": [],
   "source": [
    "df1 = pd.DataFrame({\n",
    "    'Date' : df['Date'],\n",
    "    'Headline' : df['Headline']\n",
    "})"
   ]
  },
  {
   "cell_type": "code",
   "execution_count": 4,
   "id": "7afd8129",
   "metadata": {},
   "outputs": [
    {
     "name": "stdout",
     "output_type": "stream",
     "text": [
      "2006-10-20 20:16:16 2013-11-26 04:51:52\n"
     ]
    }
   ],
   "source": [
    "import pandas as pd\n",
    "\n",
    "df = pd.read_csv('../data/News Articles/Bloomberg/BloombergNews.csv')\n",
    "df = df.sort_values(by='Date')\n",
    "print(df['Date'].iloc[0], df['Date'].iloc[-1])"
   ]
  },
  {
   "cell_type": "code",
   "execution_count": 3,
   "id": "4c03398130ba2fa8",
   "metadata": {},
   "outputs": [
    {
     "name": "stderr",
     "output_type": "stream",
     "text": [
      "C:\\Users\\Jay Tai\\AppData\\Local\\Temp\\ipykernel_24620\\573997768.py:9: FutureWarning: YF.download() has changed argument auto_adjust default to True\n",
      "  spy_data = yf.download(ticker, start=start_date, end=end_date, interval='1d')\n",
      "[*********************100%***********************]  1 of 1 completed"
     ]
    },
    {
     "name": "stdout",
     "output_type": "stream",
     "text": [
      "                  Close         High          Low         Open      Volume\n",
      "Date                                                                      \n",
      "2006-10-19  1366.959961  1368.089966  1362.060059  1365.949951  2619830000\n",
      "2006-10-20  1368.599976  1368.660034  1362.099976  1366.939941  2526410000\n",
      "2006-10-23  1377.020020  1377.400024  1363.939941  1368.579956  2480430000\n",
      "2006-10-24  1377.380005  1377.780029  1372.420044  1377.020020  2876890000\n",
      "2006-10-25  1382.219971  1383.609985  1376.000000  1377.359985  2953540000\n"
     ]
    },
    {
     "name": "stderr",
     "output_type": "stream",
     "text": [
      "\n"
     ]
    }
   ],
   "source": [
    "import yfinance as yf\n",
    "\n",
    "# Define the ticker and date range\n",
    "ticker = '^SPX'\n",
    "start_date = '2006-10-19'\n",
    "end_date = '2014-12-31'\n",
    "\n",
    "# Download daily SPY data\n",
    "spy_data = yf.download(ticker, start=start_date, end=end_date, interval='1d')\n",
    "\n",
    "spy_data.columns = [col[0] for col in spy_data.columns]\n",
    "spy_data.columns\n",
    "\n",
    "# Show the first few rows\n",
    "print(spy_data.head())\n",
    "\n",
    "# Optionally save to CSV\n",
    "spy_data.to_csv(\"../data/Stock Data/SPY_2006_2013_daily.csv\")\n"
   ]
  },
  {
   "cell_type": "code",
   "execution_count": 9,
   "id": "3c20e289",
   "metadata": {},
   "outputs": [
    {
     "data": {
      "text/plain": [
       "DatetimeIndex(['2006-10-19', '2006-10-20', '2006-10-23', '2006-10-24',\n",
       "               '2006-10-25', '2006-10-26', '2006-10-27', '2006-10-30',\n",
       "               '2006-10-31', '2006-11-01',\n",
       "               ...\n",
       "               '2013-12-16', '2013-12-17', '2013-12-18', '2013-12-19',\n",
       "               '2013-12-20', '2013-12-23', '2013-12-24', '2013-12-26',\n",
       "               '2013-12-27', '2013-12-30'],\n",
       "              dtype='datetime64[ns]', name='Date', length=1811, freq=None)"
      ]
     },
     "execution_count": 9,
     "metadata": {},
     "output_type": "execute_result"
    }
   ],
   "source": [
    "spy_data.index"
   ]
  },
  {
   "cell_type": "code",
   "execution_count": null,
   "id": "23f3d25b",
   "metadata": {},
   "outputs": [],
   "source": []
  }
 ],
 "metadata": {
  "kernelspec": {
   "display_name": ".venv",
   "language": "python",
   "name": "python3"
  },
  "language_info": {
   "codemirror_mode": {
    "name": "ipython",
    "version": 3
   },
   "file_extension": ".py",
   "mimetype": "text/x-python",
   "name": "python",
   "nbconvert_exporter": "python",
   "pygments_lexer": "ipython3",
   "version": "3.11.9"
  }
 },
 "nbformat": 4,
 "nbformat_minor": 5
}
