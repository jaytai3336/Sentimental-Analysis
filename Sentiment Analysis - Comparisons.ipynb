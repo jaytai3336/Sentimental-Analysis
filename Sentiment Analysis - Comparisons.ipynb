{
 "cells": [
  {
   "cell_type": "code",
   "id": "initial_id",
   "metadata": {
    "collapsed": true,
    "ExecuteTime": {
     "end_time": "2025-06-27T09:26:53.527009Z",
     "start_time": "2025-06-27T09:26:53.522534Z"
    }
   },
   "source": [
    "import tensorflow as tf\n",
    "from tensorflow.keras.models import load_model\n",
    "import tensorflow_addons as tfa\n",
    "import pickle\n",
    "import numpy as np\n",
    "from nltk.tokenize import word_tokenize\n",
    "from nltk.corpus import stopwords\n",
    "import re\n",
    "\n",
    "import warnings\n",
    "warnings.filterwarnings('ignore')"
   ],
   "outputs": [],
   "execution_count": 44
  },
  {
   "metadata": {
    "ExecuteTime": {
     "end_time": "2025-06-27T09:19:46.000476Z",
     "start_time": "2025-06-27T09:19:44.892218Z"
    }
   },
   "cell_type": "code",
   "source": [
    "# Load model and preprocessing artifacts\n",
    "optimized_lstm = load_model('data/Results Charts Models/Models/Optimized_LSTM (0.77 Acc).keras',\n",
    "                  custom_objects={\n",
    "                      'AdamW': tfa.optimizers.AdamW,\n",
    "                      'Lookahead': tfa.optimizers.Lookahead,\n",
    "                  })\n",
    "\n",
    "with open('data/Results Charts Models/Models/optimised_lstm_tokenizer.pkl', 'rb') as f:\n",
    "    tokenizer = pickle.load(f)\n",
    "\n",
    "with open('data/Results Charts Models/Models/optimised_lstm_label_dict.pkl', 'rb') as f:\n",
    "    le = pickle.load(f)"
   ],
   "id": "4230df1b2b6d9280",
   "outputs": [],
   "execution_count": 40
  },
  {
   "metadata": {
    "ExecuteTime": {
     "end_time": "2025-06-27T09:32:13.131324Z",
     "start_time": "2025-06-27T09:32:13.123918Z"
    }
   },
   "cell_type": "code",
   "source": [
    "def preprocess_text(text):\n",
    "    stop_words = set(stopwords.words('english'))\n",
    "    tokens = word_tokenize(text.lower())  # Tokenize and convert to lowercase\n",
    "    tokens = [word for word in tokens if word.isalpha()]  # Remove non-alphabetic characters\n",
    "    tokens = [word for word in tokens if word not in stop_words]  # Remove stopwords\n",
    "    return tokens\n",
    "\n",
    "sentence = \"Xi Prepares to Unveil China Stimulus Plan as Trade War Heats Up\"\n",
    "processed_sentence = preprocess_text(sentence)"
   ],
   "id": "5627ca9eb49f668e",
   "outputs": [],
   "execution_count": 82
  },
  {
   "metadata": {
    "ExecuteTime": {
     "end_time": "2025-06-27T09:32:13.495456Z",
     "start_time": "2025-06-27T09:32:13.490059Z"
    }
   },
   "cell_type": "code",
   "source": [
    "# Convert to sequence and pad\n",
    "max_len = 100  # Should match your training sequence length\n",
    "sequence = tokenizer.texts_to_sequences([' '.join(processed_sentence)])\n",
    "padded_sequence = tf.keras.preprocessing.sequence.pad_sequences(sequence, maxlen=max_len, padding='post')"
   ],
   "id": "34bed8d10d232699",
   "outputs": [],
   "execution_count": 83
  },
  {
   "metadata": {
    "ExecuteTime": {
     "end_time": "2025-06-27T09:32:13.986826Z",
     "start_time": "2025-06-27T09:32:13.922534Z"
    }
   },
   "cell_type": "code",
   "source": "prediction = optimized_lstm.predict(padded_sequence)",
   "id": "c36cedd9830a0161",
   "outputs": [
    {
     "name": "stdout",
     "output_type": "stream",
     "text": [
      "1/1 [==============================] - 0s 25ms/step\n"
     ]
    }
   ],
   "execution_count": 84
  },
  {
   "metadata": {
    "ExecuteTime": {
     "end_time": "2025-06-27T09:32:14.523445Z",
     "start_time": "2025-06-27T09:32:14.518456Z"
    }
   },
   "cell_type": "code",
   "source": "prediction",
   "id": "15b49e4a5f9a1738",
   "outputs": [
    {
     "data": {
      "text/plain": [
       "array([[0.24784388, 0.53749734, 0.21465884]], dtype=float32)"
      ]
     },
     "execution_count": 85,
     "metadata": {},
     "output_type": "execute_result"
    }
   ],
   "execution_count": 85
  },
  {
   "metadata": {
    "ExecuteTime": {
     "end_time": "2025-06-27T08:42:08.171646Z",
     "start_time": "2025-06-27T08:42:08.168801Z"
    }
   },
   "cell_type": "code",
   "source": "",
   "id": "dead6a3cf28019bc",
   "outputs": [],
   "execution_count": null
  },
  {
   "metadata": {
    "ExecuteTime": {
     "end_time": "2025-06-27T08:42:08.512724Z",
     "start_time": "2025-06-27T08:42:08.509419Z"
    }
   },
   "cell_type": "code",
   "source": "",
   "id": "14a91c3948d6ba2f",
   "outputs": [],
   "execution_count": null
  },
  {
   "metadata": {},
   "cell_type": "code",
   "outputs": [],
   "execution_count": null,
   "source": "",
   "id": "a5acd1575a208ac6"
  }
 ],
 "metadata": {
  "kernelspec": {
   "display_name": "Python 3",
   "language": "python",
   "name": "python3"
  },
  "language_info": {
   "codemirror_mode": {
    "name": "ipython",
    "version": 2
   },
   "file_extension": ".py",
   "mimetype": "text/x-python",
   "name": "python",
   "nbconvert_exporter": "python",
   "pygments_lexer": "ipython2",
   "version": "2.7.6"
  }
 },
 "nbformat": 4,
 "nbformat_minor": 5
}
