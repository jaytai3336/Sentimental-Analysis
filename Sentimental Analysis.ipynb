{
 "cells": [
  {
   "metadata": {},
   "cell_type": "markdown",
   "source": [
    "# Sentimental Analysis\n",
    "\n",
    "Goal: Scrape data from a website like bloomberg, separate the news into categories, then assign a sentimental value\n",
    "\n",
    "spaCY was used to do preprocessing\n",
    "\n",
    "The following library are to be explored:\n",
    "\n",
    "1. VADER\n",
    "2. TextBlob\n",
    "3. Flair\n",
    "4. LLM\n",
    "5. Models\n",
    "- RoBERTA (HuggingFace)\n",
    "- DistilliBERT (HuggingFace)\n",
    "- spaCY (spaCY pipeline)"
   ],
   "id": "2193c22260401624"
  },
  {
   "metadata": {
    "ExecuteTime": {
     "end_time": "2025-06-17T05:37:55.849415Z",
     "start_time": "2025-06-17T05:37:55.738115Z"
    }
   },
   "cell_type": "code",
   "source": [
    "# setup\n",
    "test_sentence = \"Trump to Leave G-7 Tonight Due to Middle East Crisis\""
   ],
   "id": "9fac6435f5ff0170",
   "outputs": [],
   "execution_count": 7
  },
  {
   "metadata": {},
   "cell_type": "markdown",
   "source": "### 1. VADER",
   "id": "7a7d37fc0c0f14fc"
  },
  {
   "cell_type": "code",
   "id": "initial_id",
   "metadata": {
    "collapsed": true,
    "ExecuteTime": {
     "end_time": "2025-06-17T05:37:58.547393Z",
     "start_time": "2025-06-17T05:37:58.447033Z"
    }
   },
   "source": [
    "# Prebuilt Vader sentiment package\n",
    "\n",
    "from vaderSentiment.vaderSentiment import SentimentIntensityAnalyzer\n",
    "analyzer = SentimentIntensityAnalyzer()\n",
    "scores = analyzer.polarity_scores(test_sentence)\n",
    "print(scores)"
   ],
   "outputs": [
    {
     "name": "stdout",
     "output_type": "stream",
     "text": [
      "{'neg': 0.398, 'neu': 0.602, 'pos': 0.0, 'compound': -0.6486}\n"
     ]
    }
   ],
   "execution_count": 8
  },
  {
   "metadata": {},
   "cell_type": "markdown",
   "source": "### 2. TextBlob",
   "id": "119bdd34da09b06a"
  },
  {
   "metadata": {
    "ExecuteTime": {
     "end_time": "2025-06-17T05:38:03.648752Z",
     "start_time": "2025-06-17T05:38:01.222909Z"
    }
   },
   "cell_type": "code",
   "source": [
    "# Prebuilt Textblob sentiment package\n",
    "\n",
    "from textblob import TextBlob\n",
    "text = TextBlob(test_sentence)\n",
    "score = text.sentiment\n",
    "print(score)"
   ],
   "id": "91d3e6559d45db91",
   "outputs": [
    {
     "name": "stdout",
     "output_type": "stream",
     "text": [
      "Sentiment(polarity=-0.0625, subjectivity=0.1875)\n"
     ]
    }
   ],
   "execution_count": 9
  },
  {
   "metadata": {},
   "cell_type": "markdown",
   "source": [
    "### 3. Flair\n",
    "\n",
    "Is optimized for sequence labeling but also has prebuild sentiment classification"
   ],
   "id": "5c513bc60f546da9"
  },
  {
   "metadata": {
    "ExecuteTime": {
     "end_time": "2025-06-17T06:02:24.191663Z",
     "start_time": "2025-06-17T05:46:06.030566Z"
    }
   },
   "cell_type": "code",
   "source": [
    "from flair.data import Sentence\n",
    "from flair.nn import Classifier\n",
    "\n",
    "sentence = Sentence(test_sentence)\n",
    "tagger = Classifier.load('sentiment')\n",
    "tagger.predict(sentence)\n",
    "print(sentence)"
   ],
   "id": "3a17b17ba7907748",
   "outputs": [
    {
     "name": "stdout",
     "output_type": "stream",
     "text": [
      "2025-06-17 13:46:09,148 https://nlp.informatik.hu-berlin.de/resources/models/sentiment-curated-distilbert/sentiment-en-mix-distillbert_4.pt not found in cache, downloading to /var/folders/fb/jy_jt7nj1xj16d7j33smgbrw0000gn/T/tmp91z0jyqg\n"
     ]
    },
    {
     "name": "stderr",
     "output_type": "stream",
     "text": [
      "100%|██████████| 253M/253M [15:50<00:00, 279kB/s]    "
     ]
    },
    {
     "name": "stdout",
     "output_type": "stream",
     "text": [
      "2025-06-17 14:02:01,838 copying /var/folders/fb/jy_jt7nj1xj16d7j33smgbrw0000gn/T/tmp91z0jyqg to cache at /Users/jaytai/.flair/models/sentiment-en-mix-distillbert_4.pt\n"
     ]
    },
    {
     "name": "stderr",
     "output_type": "stream",
     "text": [
      "\n"
     ]
    },
    {
     "name": "stdout",
     "output_type": "stream",
     "text": [
      "2025-06-17 14:02:02,039 removing temp file /var/folders/fb/jy_jt7nj1xj16d7j33smgbrw0000gn/T/tmp91z0jyqg\n"
     ]
    },
    {
     "data": {
      "text/plain": [
       "tokenizer_config.json:   0%|          | 0.00/48.0 [00:00<?, ?B/s]"
      ],
      "application/vnd.jupyter.widget-view+json": {
       "version_major": 2,
       "version_minor": 0,
       "model_id": "809b9062c0a342e6bf903409e15b3e66"
      }
     },
     "metadata": {},
     "output_type": "display_data"
    },
    {
     "data": {
      "text/plain": [
       "config.json:   0%|          | 0.00/483 [00:00<?, ?B/s]"
      ],
      "application/vnd.jupyter.widget-view+json": {
       "version_major": 2,
       "version_minor": 0,
       "model_id": "caba7c5c23a14f0399e43b364abaf2f7"
      }
     },
     "metadata": {},
     "output_type": "display_data"
    },
    {
     "data": {
      "text/plain": [
       "vocab.txt:   0%|          | 0.00/232k [00:00<?, ?B/s]"
      ],
      "application/vnd.jupyter.widget-view+json": {
       "version_major": 2,
       "version_minor": 0,
       "model_id": "3623f970c32846e79b2355099a64bcb9"
      }
     },
     "metadata": {},
     "output_type": "display_data"
    },
    {
     "data": {
      "text/plain": [
       "tokenizer.json:   0%|          | 0.00/466k [00:00<?, ?B/s]"
      ],
      "application/vnd.jupyter.widget-view+json": {
       "version_major": 2,
       "version_minor": 0,
       "model_id": "52999dd70d1849cbb097ebb3a938f96a"
      }
     },
     "metadata": {},
     "output_type": "display_data"
    },
    {
     "name": "stdout",
     "output_type": "stream",
     "text": [
      "Sentence[10]: \"Trump to Leave G-7 Tonight Due to Middle East Crisis\" → NEGATIVE (0.9858)\n"
     ]
    }
   ],
   "execution_count": 16
  },
  {
   "metadata": {},
   "cell_type": "markdown",
   "source": "",
   "id": "6c65802d8d6e583e"
  },
  {
   "metadata": {},
   "cell_type": "markdown",
   "source": "### 4. HuggingFace Transformers",
   "id": "17218a63e9f9044c"
  },
  {
   "metadata": {
    "ExecuteTime": {
     "end_time": "2025-06-17T06:18:19.747289Z",
     "start_time": "2025-06-17T06:18:19.740713Z"
    }
   },
   "cell_type": "code",
   "source": "python -m spacy download en_core_web_trf",
   "id": "eed00242b4c5c19a",
   "outputs": [
    {
     "ename": "SyntaxError",
     "evalue": "invalid syntax (1553972540.py, line 1)",
     "output_type": "error",
     "traceback": [
      "  \u001B[36mCell\u001B[39m\u001B[36m \u001B[39m\u001B[32mIn[4]\u001B[39m\u001B[32m, line 1\u001B[39m\n\u001B[31m    \u001B[39m\u001B[31mpython -m spacy download en_core_web_sm\u001B[39m\n              ^\n\u001B[31mSyntaxError\u001B[39m\u001B[31m:\u001B[39m invalid syntax\n"
     ]
    }
   ],
   "execution_count": 4
  },
  {
   "metadata": {
    "ExecuteTime": {
     "end_time": "2025-06-17T06:16:52.791264Z",
     "start_time": "2025-06-17T06:16:24.222132Z"
    }
   },
   "cell_type": "code",
   "source": [
    "from transformers import pipeline\n",
    "import spacy\n",
    "nlp = spacy.load('en_core_web_trf')"
   ],
   "id": "87c16e128c2783db",
   "outputs": [
    {
     "ename": "OSError",
     "evalue": "[E050] Can't find model 'en_core_web_trf'. It doesn't seem to be a Python package or a valid path to a data directory.",
     "output_type": "error",
     "traceback": [
      "\u001B[31m---------------------------------------------------------------------------\u001B[39m",
      "\u001B[31mOSError\u001B[39m                                   Traceback (most recent call last)",
      "\u001B[36mCell\u001B[39m\u001B[36m \u001B[39m\u001B[32mIn[3]\u001B[39m\u001B[32m, line 3\u001B[39m\n\u001B[32m      1\u001B[39m \u001B[38;5;28;01mfrom\u001B[39;00m\u001B[38;5;250m \u001B[39m\u001B[34;01mtransformers\u001B[39;00m\u001B[38;5;250m \u001B[39m\u001B[38;5;28;01mimport\u001B[39;00m pipeline\n\u001B[32m      2\u001B[39m \u001B[38;5;28;01mimport\u001B[39;00m\u001B[38;5;250m \u001B[39m\u001B[34;01mspacy\u001B[39;00m\n\u001B[32m----> \u001B[39m\u001B[32m3\u001B[39m nlp = spacy.load(\u001B[33m'\u001B[39m\u001B[33men_core_web_trf\u001B[39m\u001B[33m'\u001B[39m)\n",
      "\u001B[36mFile \u001B[39m\u001B[32m~/miniconda3/lib/python3.12/site-packages/spacy/__init__.py:52\u001B[39m, in \u001B[36mload\u001B[39m\u001B[34m(name, vocab, disable, enable, exclude, config)\u001B[39m\n\u001B[32m     28\u001B[39m \u001B[38;5;28;01mdef\u001B[39;00m\u001B[38;5;250m \u001B[39m\u001B[34mload\u001B[39m(\n\u001B[32m     29\u001B[39m     name: Union[\u001B[38;5;28mstr\u001B[39m, Path],\n\u001B[32m     30\u001B[39m     *,\n\u001B[32m   (...)\u001B[39m\u001B[32m     35\u001B[39m     config: Union[Dict[\u001B[38;5;28mstr\u001B[39m, Any], Config] = util.SimpleFrozenDict(),\n\u001B[32m     36\u001B[39m ) -> Language:\n\u001B[32m     37\u001B[39m \u001B[38;5;250m    \u001B[39m\u001B[33;03m\"\"\"Load a spaCy model from an installed package or a local path.\u001B[39;00m\n\u001B[32m     38\u001B[39m \n\u001B[32m     39\u001B[39m \u001B[33;03m    name (str): Package name or model path.\u001B[39;00m\n\u001B[32m   (...)\u001B[39m\u001B[32m     50\u001B[39m \u001B[33;03m    RETURNS (Language): The loaded nlp object.\u001B[39;00m\n\u001B[32m     51\u001B[39m \u001B[33;03m    \"\"\"\u001B[39;00m\n\u001B[32m---> \u001B[39m\u001B[32m52\u001B[39m     \u001B[38;5;28;01mreturn\u001B[39;00m util.load_model(\n\u001B[32m     53\u001B[39m         name,\n\u001B[32m     54\u001B[39m         vocab=vocab,\n\u001B[32m     55\u001B[39m         disable=disable,\n\u001B[32m     56\u001B[39m         enable=enable,\n\u001B[32m     57\u001B[39m         exclude=exclude,\n\u001B[32m     58\u001B[39m         config=config,\n\u001B[32m     59\u001B[39m     )\n",
      "\u001B[36mFile \u001B[39m\u001B[32m~/miniconda3/lib/python3.12/site-packages/spacy/util.py:484\u001B[39m, in \u001B[36mload_model\u001B[39m\u001B[34m(name, vocab, disable, enable, exclude, config)\u001B[39m\n\u001B[32m    482\u001B[39m \u001B[38;5;28;01mif\u001B[39;00m name \u001B[38;5;129;01min\u001B[39;00m OLD_MODEL_SHORTCUTS:\n\u001B[32m    483\u001B[39m     \u001B[38;5;28;01mraise\u001B[39;00m \u001B[38;5;167;01mIOError\u001B[39;00m(Errors.E941.format(name=name, full=OLD_MODEL_SHORTCUTS[name]))  \u001B[38;5;66;03m# type: ignore[index]\u001B[39;00m\n\u001B[32m--> \u001B[39m\u001B[32m484\u001B[39m \u001B[38;5;28;01mraise\u001B[39;00m \u001B[38;5;167;01mIOError\u001B[39;00m(Errors.E050.format(name=name))\n",
      "\u001B[31mOSError\u001B[39m: [E050] Can't find model 'en_core_web_trf'. It doesn't seem to be a Python package or a valid path to a data directory."
     ]
    }
   ],
   "execution_count": 3
  },
  {
   "metadata": {},
   "cell_type": "markdown",
   "source": "#### - RoBERTa",
   "id": "cb40705550143cc0"
  },
  {
   "metadata": {},
   "cell_type": "code",
   "outputs": [],
   "execution_count": null,
   "source": [
    "classifier = pipeline('sentiment-analysis', model='cardiffnlp/twitter-roberta-base-sentiment')\n",
    "result = classifier(test_sentence)\n",
    "print(result)"
   ],
   "id": "abcf26e6644caaef"
  },
  {
   "metadata": {},
   "cell_type": "markdown",
   "source": "#### - DistilBERT",
   "id": "4acdd1f0a2de7930"
  },
  {
   "metadata": {},
   "cell_type": "code",
   "outputs": [],
   "execution_count": null,
   "source": [
    "classifier = pipeline('sentiment-analysis', model='distilbert-base-uncased-finetuned-sst-2-english')\n",
    "result = classifier(test_sentence)\n",
    "print(result)"
   ],
   "id": "68f02a1362c85665"
  },
  {
   "metadata": {},
   "cell_type": "markdown",
   "source": "#### - spaCY",
   "id": "870eed7729a15398"
  },
  {
   "metadata": {},
   "cell_type": "code",
   "outputs": [],
   "execution_count": null,
   "source": [
    "import en_core_web_trf\n",
    "nlp = en_core_web_trf.load()\n",
    "doc = nlp(test_sentence)\n",
    "print(doc)"
   ],
   "id": "b9d753858b3cbe42"
  }
 ],
 "metadata": {
  "kernelspec": {
   "display_name": "Python 3",
   "language": "python",
   "name": "python3"
  },
  "language_info": {
   "codemirror_mode": {
    "name": "ipython",
    "version": 2
   },
   "file_extension": ".py",
   "mimetype": "text/x-python",
   "name": "python",
   "nbconvert_exporter": "python",
   "pygments_lexer": "ipython2",
   "version": "2.7.6"
  }
 },
 "nbformat": 4,
 "nbformat_minor": 5
}
