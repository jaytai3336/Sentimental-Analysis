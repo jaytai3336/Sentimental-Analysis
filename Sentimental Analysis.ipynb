{
 "cells": [
  {
   "metadata": {},
   "cell_type": "markdown",
   "source": [
    "# Sentimental Analysis\n",
    "\n",
    "spaCY was used to do preprocessing\n",
    "\n",
    "The following library are to be explored:\n",
    "\n",
    "1. VADER\n",
    "2. TextBlob\n",
    "3. Flair\n",
    "4. LLM\n",
    "5. HuggingFace/NLTK (models)\n",
    "- RoBERTA\n",
    "- DistilliBERT"
   ],
   "id": "2193c22260401624"
  },
  {
   "metadata": {
    "ExecuteTime": {
     "end_time": "2025-06-17T04:15:16.993683Z",
     "start_time": "2025-06-17T04:15:16.988516Z"
    }
   },
   "cell_type": "code",
   "source": [
    "# setup\n",
    "test_sentence = \"Trump to Leave G-7 Tonight Due to Middle East Crisis\""
   ],
   "id": "9fac6435f5ff0170",
   "outputs": [],
   "execution_count": 4
  },
  {
   "metadata": {},
   "cell_type": "markdown",
   "source": "### 1. VADER",
   "id": "7a7d37fc0c0f14fc"
  },
  {
   "metadata": {},
   "cell_type": "code",
   "source": "pip install vadersentiment",
   "id": "40a70fa58bfb8833",
   "outputs": [],
   "execution_count": null
  },
  {
   "cell_type": "code",
   "id": "initial_id",
   "metadata": {
    "collapsed": true,
    "ExecuteTime": {
     "end_time": "2025-06-17T04:15:18.450964Z",
     "start_time": "2025-06-17T04:15:18.433281Z"
    }
   },
   "source": [
    "# Prebuilt Vader sentiment package\n",
    "\n",
    "from vaderSentiment.vaderSentiment import SentimentIntensityAnalyzer\n",
    "analyzer = SentimentIntensityAnalyzer()\n",
    "scores = analyzer.polarity_scores(test_sentence)\n",
    "print(scores)"
   ],
   "outputs": [
    {
     "name": "stdout",
     "output_type": "stream",
     "text": [
      "{'neg': 0.398, 'neu': 0.602, 'pos': 0.0, 'compound': -0.6486}\n"
     ]
    }
   ],
   "execution_count": 5
  },
  {
   "metadata": {},
   "cell_type": "markdown",
   "source": "### 2. TextBlob",
   "id": "119bdd34da09b06a"
  },
  {
   "metadata": {},
   "cell_type": "code",
   "source": "pip install textblob",
   "id": "3bec268f3d571d3c",
   "outputs": [],
   "execution_count": null
  },
  {
   "metadata": {},
   "cell_type": "code",
   "source": [
    "# Prebuilt Textblob sentiment package\n",
    "\n",
    "from textblob import TextBlob\n",
    "text = TextBlob(test_sentence)\n",
    "score = text.sentiment\n",
    "print(score)"
   ],
   "id": "91d3e6559d45db91",
   "outputs": [],
   "execution_count": null
  },
  {
   "metadata": {},
   "cell_type": "markdown",
   "source": [
    "### HuggingFace Transformers (RoBERTa - a pretrained model)\n",
    "\n",
    "RoBERTa (using a Pretrained Model via HuggingFace Transformers)"
   ],
   "id": "22dd8b09433c87a"
  },
  {
   "metadata": {},
   "cell_type": "code",
   "source": "# pip install transformers",
   "id": "c64b8550f7da22b1",
   "outputs": [],
   "execution_count": null
  },
  {
   "metadata": {},
   "cell_type": "code",
   "source": [
    "from transformers import pipeline\n",
    "classifier = pipeline(\"sentiment-analysis\", model=\"cardiffnlp/twitter-roberta-base-sentiment\")\n",
    "text = \"This movie is great!\"\n",
    "result = classifier(text)\n",
    "print(result)"
   ],
   "id": "95e7c7643a772f80",
   "outputs": [],
   "execution_count": null
  },
  {
   "metadata": {},
   "cell_type": "markdown",
   "source": [
    "### Flair\n",
    "\n",
    "Is optimized for sequence labeling but also has prebuild sentiment classification\n",
    "\n",
    "(*ideas*) use to create tags"
   ],
   "id": "5c513bc60f546da9"
  },
  {
   "metadata": {
    "ExecuteTime": {
     "end_time": "2025-06-17T05:25:29.598433Z",
     "start_time": "2025-06-17T05:25:28.683864Z"
    }
   },
   "cell_type": "code",
   "source": [
    "from flair.data import Sentence\n",
    "from flair.nn import classiifer\n",
    "\n",
    "sentence = Sentence(test_sentence)\n",
    "tagger = classiifer.load(sentence)\n",
    "print(sentence)"
   ],
   "id": "3a17b17ba7907748",
   "outputs": [
    {
     "name": "stdout",
     "output_type": "stream",
     "text": [
      "Microsoft Visual C++ Redistributable is not installed, this may lead to the DLL load failure.\n",
      "It can be downloaded at https://aka.ms/vs/16/release/vc_redist.x64.exe\n"
     ]
    },
    {
     "ename": "OSError",
     "evalue": "[WinError 126] The specified module could not be found. Error loading \"C:\\Users\\Jay Tai\\AppData\\Local\\Packages\\PythonSoftwareFoundation.Python.3.11_qbz5n2kfra8p0\\LocalCache\\local-packages\\Python311\\site-packages\\torch\\lib\\c10.dll\" or one of its dependencies.",
     "output_type": "error",
     "traceback": [
      "\u001B[31m---------------------------------------------------------------------------\u001B[39m",
      "\u001B[31mOSError\u001B[39m                                   Traceback (most recent call last)",
      "\u001B[36mCell\u001B[39m\u001B[36m \u001B[39m\u001B[32mIn[1]\u001B[39m\u001B[32m, line 1\u001B[39m\n\u001B[32m----> \u001B[39m\u001B[32m1\u001B[39m \u001B[38;5;28;01mfrom\u001B[39;00m\u001B[38;5;250m \u001B[39m\u001B[34;01mflair\u001B[39;00m\u001B[34;01m.\u001B[39;00m\u001B[34;01mdata\u001B[39;00m\u001B[38;5;250m \u001B[39m\u001B[38;5;28;01mimport\u001B[39;00m Sentence\n\u001B[32m      2\u001B[39m \u001B[38;5;28;01mfrom\u001B[39;00m\u001B[38;5;250m \u001B[39m\u001B[34;01mflair\u001B[39;00m\u001B[34;01m.\u001B[39;00m\u001B[34;01mnn\u001B[39;00m\u001B[38;5;250m \u001B[39m\u001B[38;5;28;01mimport\u001B[39;00m classiifer\n\u001B[32m      4\u001B[39m sentence = Sentence(test_sentence)\n",
      "\u001B[36mFile \u001B[39m\u001B[32m~\\AppData\\Local\\Packages\\PythonSoftwareFoundation.Python.3.11_qbz5n2kfra8p0\\LocalCache\\local-packages\\Python311\\site-packages\\flair\\__init__.py:5\u001B[39m\n\u001B[32m      2\u001B[39m \u001B[38;5;28;01mimport\u001B[39;00m\u001B[38;5;250m \u001B[39m\u001B[34;01mos\u001B[39;00m\n\u001B[32m      3\u001B[39m \u001B[38;5;28;01mfrom\u001B[39;00m\u001B[38;5;250m \u001B[39m\u001B[34;01mpathlib\u001B[39;00m\u001B[38;5;250m \u001B[39m\u001B[38;5;28;01mimport\u001B[39;00m Path\n\u001B[32m----> \u001B[39m\u001B[32m5\u001B[39m \u001B[38;5;28;01mimport\u001B[39;00m\u001B[38;5;250m \u001B[39m\u001B[34;01mtorch\u001B[39;00m\n\u001B[32m      6\u001B[39m \u001B[38;5;28;01mfrom\u001B[39;00m\u001B[38;5;250m \u001B[39m\u001B[34;01mtransformers\u001B[39;00m\u001B[38;5;250m \u001B[39m\u001B[38;5;28;01mimport\u001B[39;00m set_seed \u001B[38;5;28;01mas\u001B[39;00m hf_set_seed\n\u001B[32m      8\u001B[39m \u001B[38;5;66;03m# global variable: cache_root\u001B[39;00m\n",
      "\u001B[36mFile \u001B[39m\u001B[32m~\\AppData\\Local\\Packages\\PythonSoftwareFoundation.Python.3.11_qbz5n2kfra8p0\\LocalCache\\local-packages\\Python311\\site-packages\\torch\\__init__.py:274\u001B[39m\n\u001B[32m    270\u001B[39m                     \u001B[38;5;28;01mraise\u001B[39;00m err\n\u001B[32m    272\u001B[39m         kernel32.SetErrorMode(prev_error_mode)\n\u001B[32m--> \u001B[39m\u001B[32m274\u001B[39m     \u001B[43m_load_dll_libraries\u001B[49m\u001B[43m(\u001B[49m\u001B[43m)\u001B[49m\n\u001B[32m    275\u001B[39m     \u001B[38;5;28;01mdel\u001B[39;00m _load_dll_libraries\n\u001B[32m    278\u001B[39m \u001B[38;5;28;01mdef\u001B[39;00m\u001B[38;5;250m \u001B[39m\u001B[34m_preload_cuda_deps\u001B[39m(lib_folder: \u001B[38;5;28mstr\u001B[39m, lib_name: \u001B[38;5;28mstr\u001B[39m) -> \u001B[38;5;28;01mNone\u001B[39;00m:\n",
      "\u001B[36mFile \u001B[39m\u001B[32m~\\AppData\\Local\\Packages\\PythonSoftwareFoundation.Python.3.11_qbz5n2kfra8p0\\LocalCache\\local-packages\\Python311\\site-packages\\torch\\__init__.py:270\u001B[39m, in \u001B[36m_load_dll_libraries\u001B[39m\u001B[34m()\u001B[39m\n\u001B[32m    266\u001B[39m             err = ctypes.WinError(ctypes.get_last_error())\n\u001B[32m    267\u001B[39m             err.strerror += (\n\u001B[32m    268\u001B[39m                 \u001B[33mf\u001B[39m\u001B[33m'\u001B[39m\u001B[33m Error loading \u001B[39m\u001B[33m\"\u001B[39m\u001B[38;5;132;01m{\u001B[39;00mdll\u001B[38;5;132;01m}\u001B[39;00m\u001B[33m\"\u001B[39m\u001B[33m or one of its dependencies.\u001B[39m\u001B[33m'\u001B[39m\n\u001B[32m    269\u001B[39m             )\n\u001B[32m--> \u001B[39m\u001B[32m270\u001B[39m             \u001B[38;5;28;01mraise\u001B[39;00m err\n\u001B[32m    272\u001B[39m kernel32.SetErrorMode(prev_error_mode)\n",
      "\u001B[31mOSError\u001B[39m: [WinError 126] The specified module could not be found. Error loading \"C:\\Users\\Jay Tai\\AppData\\Local\\Packages\\PythonSoftwareFoundation.Python.3.11_qbz5n2kfra8p0\\LocalCache\\local-packages\\Python311\\site-packages\\torch\\lib\\c10.dll\" or one of its dependencies."
     ]
    }
   ],
   "execution_count": 1
  },
  {
   "metadata": {},
   "cell_type": "markdown",
   "source": "",
   "id": "6c65802d8d6e583e"
  }
 ],
 "metadata": {
  "kernelspec": {
   "display_name": "Python 3",
   "language": "python",
   "name": "python3"
  },
  "language_info": {
   "codemirror_mode": {
    "name": "ipython",
    "version": 2
   },
   "file_extension": ".py",
   "mimetype": "text/x-python",
   "name": "python",
   "nbconvert_exporter": "python",
   "pygments_lexer": "ipython2",
   "version": "2.7.6"
  }
 },
 "nbformat": 4,
 "nbformat_minor": 5
}
