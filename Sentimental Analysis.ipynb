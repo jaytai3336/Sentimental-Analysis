{
 "cells": [
  {
   "metadata": {},
   "cell_type": "markdown",
   "source": [
    "# Sentimental Analysis\n",
    "\n",
    "The following library are to be explored:\n",
    "\n",
    "1. VADER\n",
    "2. Hugging Face Transformers (Roberta - pretrained model)\n",
    "3. TextBlob\n",
    "4. Ntlk\n",
    "5. spaCY\n",
    "6. HuggingFace Transformers\n",
    "7. API LLM/GPT\n",
    "8. Flair\n",
    "9. DistilBERT"
   ],
   "id": "2193c22260401624"
  },
  {
   "metadata": {},
   "cell_type": "code",
   "source": [
    "# setup\n",
    "test_sentence = \"Trump to Leave G-7 Tonight Due to Middle East Crisis\""
   ],
   "id": "9fac6435f5ff0170",
   "outputs": [],
   "execution_count": null
  },
  {
   "metadata": {},
   "cell_type": "markdown",
   "source": "### VADER",
   "id": "7a7d37fc0c0f14fc"
  },
  {
   "metadata": {},
   "cell_type": "code",
   "source": "# pip install vadersentiment",
   "id": "40a70fa58bfb8833",
   "outputs": [],
   "execution_count": null
  },
  {
   "cell_type": "code",
   "id": "initial_id",
   "metadata": {
    "collapsed": true
   },
   "source": [
    "# Prebuilt Vader sentiment package\n",
    "\n",
    "from vaderSentiment.vaderSentiment import SentimentIntensityAnalyzer\n",
    "analyzer = SentimentIntensityAnalyzer()\n",
    "scores = analyzer.polarity_scores(test_sentence)\n",
    "print(scores)"
   ],
   "outputs": [],
   "execution_count": null
  },
  {
   "metadata": {},
   "cell_type": "markdown",
   "source": "### TextBlob",
   "id": "119bdd34da09b06a"
  },
  {
   "metadata": {},
   "cell_type": "code",
   "source": "# pip install textblob",
   "id": "3bec268f3d571d3c",
   "outputs": [],
   "execution_count": null
  },
  {
   "metadata": {},
   "cell_type": "code",
   "source": [
    "# Prebuilt Textblob sentiment package\n",
    "\n",
    "from textblob import TextBlob\n",
    "text = TextBlob(test_sentence)\n",
    "score = text.sentiment\n",
    "print(score)"
   ],
   "id": "91d3e6559d45db91",
   "outputs": [],
   "execution_count": null
  },
  {
   "metadata": {},
   "cell_type": "markdown",
   "source": [
    "### HuggingFace Transformers (RoBERTa - a pretrained model)\n",
    "\n",
    "RoBERTa (using a Pretrained Model via HuggingFace Transformers)"
   ],
   "id": "22dd8b09433c87a"
  },
  {
   "metadata": {},
   "cell_type": "code",
   "source": "# pip install transformers",
   "id": "c64b8550f7da22b1",
   "outputs": [],
   "execution_count": null
  },
  {
   "metadata": {
    "ExecuteTime": {
     "end_time": "2025-06-17T03:55:40.075269Z",
     "start_time": "2025-06-17T03:55:38.363722Z"
    }
   },
   "cell_type": "code",
   "source": [
    "from transformers import pipeline\n",
    "classifier = pipeline(\"sentiment-analysis\", model=\"cardiffnlp/twitter-roberta-base-sentiment\")\n",
    "text = \"This movie is great!\"\n",
    "result = classifier(text)\n",
    "print(result)"
   ],
   "id": "95e7c7643a772f80",
   "outputs": [
    {
     "name": "stderr",
     "output_type": "stream",
     "text": [
      "C:\\Users\\Jay Tai\\AppData\\Local\\Packages\\PythonSoftwareFoundation.Python.3.11_qbz5n2kfra8p0\\LocalCache\\local-packages\\Python311\\site-packages\\tqdm\\auto.py:21: TqdmWarning: IProgress not found. Please update jupyter and ipywidgets. See https://ipywidgets.readthedocs.io/en/stable/user_install.html\n",
      "  from .autonotebook import tqdm as notebook_tqdm\n"
     ]
    },
    {
     "name": "stdout",
     "output_type": "stream",
     "text": [
      "Microsoft Visual C++ Redistributable is not installed, this may lead to the DLL load failure.\n",
      "It can be downloaded at https://aka.ms/vs/16/release/vc_redist.x64.exe\n"
     ]
    },
    {
     "ename": "OSError",
     "evalue": "[WinError 126] The specified module could not be found. Error loading \"C:\\Users\\Jay Tai\\AppData\\Local\\Packages\\PythonSoftwareFoundation.Python.3.11_qbz5n2kfra8p0\\LocalCache\\local-packages\\Python311\\site-packages\\torch\\lib\\c10.dll\" or one of its dependencies.",
     "output_type": "error",
     "traceback": [
      "\u001B[31m---------------------------------------------------------------------------\u001B[39m",
      "\u001B[31mOSError\u001B[39m                                   Traceback (most recent call last)",
      "\u001B[36mCell\u001B[39m\u001B[36m \u001B[39m\u001B[32mIn[1]\u001B[39m\u001B[32m, line 1\u001B[39m\n\u001B[32m----> \u001B[39m\u001B[32m1\u001B[39m \u001B[38;5;28;01mfrom\u001B[39;00m\u001B[38;5;250m \u001B[39m\u001B[34;01mtransformers\u001B[39;00m\u001B[38;5;250m \u001B[39m\u001B[38;5;28;01mimport\u001B[39;00m pipeline\n\u001B[32m      2\u001B[39m classifier = pipeline(\u001B[33m\"\u001B[39m\u001B[33msentiment-analysis\u001B[39m\u001B[33m\"\u001B[39m, model=\u001B[33m\"\u001B[39m\u001B[33mcardiffnlp/twitter-roberta-base-sentiment\u001B[39m\u001B[33m\"\u001B[39m)\n\u001B[32m      3\u001B[39m text = \u001B[33m\"\u001B[39m\u001B[33mThis movie is great!\u001B[39m\u001B[33m\"\u001B[39m\n",
      "\u001B[36mFile \u001B[39m\u001B[32m~\\AppData\\Local\\Packages\\PythonSoftwareFoundation.Python.3.11_qbz5n2kfra8p0\\LocalCache\\local-packages\\Python311\\site-packages\\transformers\\__init__.py:27\u001B[39m\n\u001B[32m     24\u001B[39m \u001B[38;5;28;01mfrom\u001B[39;00m\u001B[38;5;250m \u001B[39m\u001B[34;01mtyping\u001B[39;00m\u001B[38;5;250m \u001B[39m\u001B[38;5;28;01mimport\u001B[39;00m TYPE_CHECKING\n\u001B[32m     26\u001B[39m \u001B[38;5;66;03m# Check the dependencies satisfy the minimal versions required.\u001B[39;00m\n\u001B[32m---> \u001B[39m\u001B[32m27\u001B[39m \u001B[38;5;28;01mfrom\u001B[39;00m\u001B[38;5;250m \u001B[39m\u001B[34;01m.\u001B[39;00m\u001B[38;5;250m \u001B[39m\u001B[38;5;28;01mimport\u001B[39;00m dependency_versions_check\n\u001B[32m     28\u001B[39m \u001B[38;5;28;01mfrom\u001B[39;00m\u001B[38;5;250m \u001B[39m\u001B[34;01m.\u001B[39;00m\u001B[34;01mutils\u001B[39;00m\u001B[38;5;250m \u001B[39m\u001B[38;5;28;01mimport\u001B[39;00m (\n\u001B[32m     29\u001B[39m     OptionalDependencyNotAvailable,\n\u001B[32m     30\u001B[39m     _LazyModule,\n\u001B[32m   (...)\u001B[39m\u001B[32m     49\u001B[39m     logging,\n\u001B[32m     50\u001B[39m )\n\u001B[32m     51\u001B[39m \u001B[38;5;28;01mfrom\u001B[39;00m\u001B[38;5;250m \u001B[39m\u001B[34;01m.\u001B[39;00m\u001B[34;01mutils\u001B[39;00m\u001B[34;01m.\u001B[39;00m\u001B[34;01mimport_utils\u001B[39;00m\u001B[38;5;250m \u001B[39m\u001B[38;5;28;01mimport\u001B[39;00m define_import_structure\n",
      "\u001B[36mFile \u001B[39m\u001B[32m~\\AppData\\Local\\Packages\\PythonSoftwareFoundation.Python.3.11_qbz5n2kfra8p0\\LocalCache\\local-packages\\Python311\\site-packages\\transformers\\dependency_versions_check.py:16\u001B[39m\n\u001B[32m      1\u001B[39m \u001B[38;5;66;03m# Copyright 2020 The HuggingFace Team. All rights reserved.\u001B[39;00m\n\u001B[32m      2\u001B[39m \u001B[38;5;66;03m#\u001B[39;00m\n\u001B[32m      3\u001B[39m \u001B[38;5;66;03m# Licensed under the Apache License, Version 2.0 (the \"License\");\u001B[39;00m\n\u001B[32m   (...)\u001B[39m\u001B[32m     12\u001B[39m \u001B[38;5;66;03m# See the License for the specific language governing permissions and\u001B[39;00m\n\u001B[32m     13\u001B[39m \u001B[38;5;66;03m# limitations under the License.\u001B[39;00m\n\u001B[32m     15\u001B[39m \u001B[38;5;28;01mfrom\u001B[39;00m\u001B[38;5;250m \u001B[39m\u001B[34;01m.\u001B[39;00m\u001B[34;01mdependency_versions_table\u001B[39;00m\u001B[38;5;250m \u001B[39m\u001B[38;5;28;01mimport\u001B[39;00m deps\n\u001B[32m---> \u001B[39m\u001B[32m16\u001B[39m \u001B[38;5;28;01mfrom\u001B[39;00m\u001B[38;5;250m \u001B[39m\u001B[34;01m.\u001B[39;00m\u001B[34;01mutils\u001B[39;00m\u001B[34;01m.\u001B[39;00m\u001B[34;01mversions\u001B[39;00m\u001B[38;5;250m \u001B[39m\u001B[38;5;28;01mimport\u001B[39;00m require_version, require_version_core\n\u001B[32m     19\u001B[39m \u001B[38;5;66;03m# define which module versions we always want to check at run time\u001B[39;00m\n\u001B[32m     20\u001B[39m \u001B[38;5;66;03m# (usually the ones defined in `install_requires` in setup.py)\u001B[39;00m\n\u001B[32m     21\u001B[39m \u001B[38;5;66;03m#\u001B[39;00m\n\u001B[32m     22\u001B[39m \u001B[38;5;66;03m# order specific notes:\u001B[39;00m\n\u001B[32m     23\u001B[39m \u001B[38;5;66;03m# - tqdm must be checked before tokenizers\u001B[39;00m\n\u001B[32m     25\u001B[39m pkgs_to_check_at_runtime = [\n\u001B[32m     26\u001B[39m     \u001B[33m\"\u001B[39m\u001B[33mpython\u001B[39m\u001B[33m\"\u001B[39m,\n\u001B[32m     27\u001B[39m     \u001B[33m\"\u001B[39m\u001B[33mtqdm\u001B[39m\u001B[33m\"\u001B[39m,\n\u001B[32m   (...)\u001B[39m\u001B[32m     37\u001B[39m     \u001B[33m\"\u001B[39m\u001B[33mpyyaml\u001B[39m\u001B[33m\"\u001B[39m,\n\u001B[32m     38\u001B[39m ]\n",
      "\u001B[36mFile \u001B[39m\u001B[32m~\\AppData\\Local\\Packages\\PythonSoftwareFoundation.Python.3.11_qbz5n2kfra8p0\\LocalCache\\local-packages\\Python311\\site-packages\\transformers\\utils\\__init__.py:24\u001B[39m\n\u001B[32m     21\u001B[39m \u001B[38;5;28;01mfrom\u001B[39;00m\u001B[38;5;250m \u001B[39m\u001B[34;01mpackaging\u001B[39;00m\u001B[38;5;250m \u001B[39m\u001B[38;5;28;01mimport\u001B[39;00m version\n\u001B[32m     23\u001B[39m \u001B[38;5;28;01mfrom\u001B[39;00m\u001B[38;5;250m \u001B[39m\u001B[34;01m.\u001B[39;00m\u001B[34;01m.\u001B[39;00m\u001B[38;5;250m \u001B[39m\u001B[38;5;28;01mimport\u001B[39;00m __version__\n\u001B[32m---> \u001B[39m\u001B[32m24\u001B[39m \u001B[38;5;28;01mfrom\u001B[39;00m\u001B[38;5;250m \u001B[39m\u001B[34;01m.\u001B[39;00m\u001B[34;01margs_doc\u001B[39;00m\u001B[38;5;250m \u001B[39m\u001B[38;5;28;01mimport\u001B[39;00m (\n\u001B[32m     25\u001B[39m     ClassAttrs,\n\u001B[32m     26\u001B[39m     ClassDocstring,\n\u001B[32m     27\u001B[39m     ImageProcessorArgs,\n\u001B[32m     28\u001B[39m     ModelArgs,\n\u001B[32m     29\u001B[39m     auto_class_docstring,\n\u001B[32m     30\u001B[39m     auto_docstring,\n\u001B[32m     31\u001B[39m     parse_docstring,\n\u001B[32m     32\u001B[39m     set_min_indent,\n\u001B[32m     33\u001B[39m     source_args_doc,\n\u001B[32m     34\u001B[39m )\n\u001B[32m     35\u001B[39m \u001B[38;5;28;01mfrom\u001B[39;00m\u001B[38;5;250m \u001B[39m\u001B[34;01m.\u001B[39;00m\u001B[34;01mbackbone_utils\u001B[39;00m\u001B[38;5;250m \u001B[39m\u001B[38;5;28;01mimport\u001B[39;00m BackboneConfigMixin, BackboneMixin\n\u001B[32m     36\u001B[39m \u001B[38;5;28;01mfrom\u001B[39;00m\u001B[38;5;250m \u001B[39m\u001B[34;01m.\u001B[39;00m\u001B[34;01mchat_template_utils\u001B[39;00m\u001B[38;5;250m \u001B[39m\u001B[38;5;28;01mimport\u001B[39;00m DocstringParsingException, TypeHintParsingException, get_json_schema\n",
      "\u001B[36mFile \u001B[39m\u001B[32m~\\AppData\\Local\\Packages\\PythonSoftwareFoundation.Python.3.11_qbz5n2kfra8p0\\LocalCache\\local-packages\\Python311\\site-packages\\transformers\\utils\\args_doc.py:30\u001B[39m\n\u001B[32m     22\u001B[39m \u001B[38;5;28;01mimport\u001B[39;00m\u001B[38;5;250m \u001B[39m\u001B[34;01mregex\u001B[39;00m\u001B[38;5;250m \u001B[39m\u001B[38;5;28;01mas\u001B[39;00m\u001B[38;5;250m \u001B[39m\u001B[34;01mre\u001B[39;00m\n\u001B[32m     24\u001B[39m \u001B[38;5;28;01mfrom\u001B[39;00m\u001B[38;5;250m \u001B[39m\u001B[34;01m.\u001B[39;00m\u001B[34;01mdoc\u001B[39;00m\u001B[38;5;250m \u001B[39m\u001B[38;5;28;01mimport\u001B[39;00m (\n\u001B[32m     25\u001B[39m     MODELS_TO_PIPELINE,\n\u001B[32m     26\u001B[39m     PIPELINE_TASKS_TO_SAMPLE_DOCSTRINGS,\n\u001B[32m     27\u001B[39m     PT_SAMPLE_DOCSTRINGS,\n\u001B[32m     28\u001B[39m     _prepare_output_docstrings,\n\u001B[32m     29\u001B[39m )\n\u001B[32m---> \u001B[39m\u001B[32m30\u001B[39m \u001B[38;5;28;01mfrom\u001B[39;00m\u001B[38;5;250m \u001B[39m\u001B[34;01m.\u001B[39;00m\u001B[34;01mgeneric\u001B[39;00m\u001B[38;5;250m \u001B[39m\u001B[38;5;28;01mimport\u001B[39;00m ModelOutput\n\u001B[32m     33\u001B[39m PATH_TO_TRANSFORMERS = Path(\u001B[33m\"\u001B[39m\u001B[33msrc\u001B[39m\u001B[33m\"\u001B[39m).resolve() / \u001B[33m\"\u001B[39m\u001B[33mtransformers\u001B[39m\u001B[33m\"\u001B[39m\n\u001B[32m     36\u001B[39m AUTODOC_FILES = [\n\u001B[32m     37\u001B[39m     \u001B[33m\"\u001B[39m\u001B[33mconfiguration_*.py\u001B[39m\u001B[33m\"\u001B[39m,\n\u001B[32m     38\u001B[39m     \u001B[33m\"\u001B[39m\u001B[33mmodeling_*.py\u001B[39m\u001B[33m\"\u001B[39m,\n\u001B[32m   (...)\u001B[39m\u001B[32m     43\u001B[39m     \u001B[33m\"\u001B[39m\u001B[33mfeature_extractor_*.py\u001B[39m\u001B[33m\"\u001B[39m,\n\u001B[32m     44\u001B[39m ]\n",
      "\u001B[36mFile \u001B[39m\u001B[32m~\\AppData\\Local\\Packages\\PythonSoftwareFoundation.Python.3.11_qbz5n2kfra8p0\\LocalCache\\local-packages\\Python311\\site-packages\\transformers\\utils\\generic.py:46\u001B[39m\n\u001B[32m     34\u001B[39m \u001B[38;5;28;01mfrom\u001B[39;00m\u001B[38;5;250m \u001B[39m\u001B[34;01m.\u001B[39;00m\u001B[34;01mimport_utils\u001B[39;00m\u001B[38;5;250m \u001B[39m\u001B[38;5;28;01mimport\u001B[39;00m (\n\u001B[32m     35\u001B[39m     get_torch_version,\n\u001B[32m     36\u001B[39m     is_flax_available,\n\u001B[32m   (...)\u001B[39m\u001B[32m     40\u001B[39m     is_torch_fx_proxy,\n\u001B[32m     41\u001B[39m )\n\u001B[32m     44\u001B[39m \u001B[38;5;28;01mif\u001B[39;00m is_torch_available():\n\u001B[32m     45\u001B[39m     \u001B[38;5;66;03m# required for @can_return_tuple decorator to work with torchdynamo\u001B[39;00m\n\u001B[32m---> \u001B[39m\u001B[32m46\u001B[39m     \u001B[38;5;28;01mimport\u001B[39;00m\u001B[38;5;250m \u001B[39m\u001B[34;01mtorch\u001B[39;00m  \u001B[38;5;66;03m# noqa: F401\u001B[39;00m\n\u001B[32m     49\u001B[39m \u001B[38;5;28;01mclass\u001B[39;00m\u001B[38;5;250m \u001B[39m\u001B[34;01mcached_property\u001B[39;00m(\u001B[38;5;28mproperty\u001B[39m):\n\u001B[32m     50\u001B[39m \u001B[38;5;250m    \u001B[39m\u001B[33;03m\"\"\"\u001B[39;00m\n\u001B[32m     51\u001B[39m \u001B[33;03m    Descriptor that mimics @property but caches output in member variable.\u001B[39;00m\n\u001B[32m     52\u001B[39m \n\u001B[32m   (...)\u001B[39m\u001B[32m     55\u001B[39m \u001B[33;03m    Built-in in functools from Python 3.8.\u001B[39;00m\n\u001B[32m     56\u001B[39m \u001B[33;03m    \"\"\"\u001B[39;00m\n",
      "\u001B[36mFile \u001B[39m\u001B[32m~\\AppData\\Local\\Packages\\PythonSoftwareFoundation.Python.3.11_qbz5n2kfra8p0\\LocalCache\\local-packages\\Python311\\site-packages\\torch\\__init__.py:270\u001B[39m\n\u001B[32m    266\u001B[39m                     \u001B[38;5;28;01mraise\u001B[39;00m err\n\u001B[32m    268\u001B[39m         kernel32.SetErrorMode(prev_error_mode)\n\u001B[32m--> \u001B[39m\u001B[32m270\u001B[39m     \u001B[43m_load_dll_libraries\u001B[49m\u001B[43m(\u001B[49m\u001B[43m)\u001B[49m\n\u001B[32m    271\u001B[39m     \u001B[38;5;28;01mdel\u001B[39;00m _load_dll_libraries\n\u001B[32m    274\u001B[39m \u001B[38;5;28;01mdef\u001B[39;00m\u001B[38;5;250m \u001B[39m\u001B[34m_get_cuda_dep_paths\u001B[39m(path: \u001B[38;5;28mstr\u001B[39m, lib_folder: \u001B[38;5;28mstr\u001B[39m, lib_name: \u001B[38;5;28mstr\u001B[39m) -> \u001B[38;5;28mlist\u001B[39m[\u001B[38;5;28mstr\u001B[39m]:\n\u001B[32m    275\u001B[39m     \u001B[38;5;66;03m# Libraries can either be in path/nvidia/lib_folder/lib or path/lib_folder/lib\u001B[39;00m\n",
      "\u001B[36mFile \u001B[39m\u001B[32m~\\AppData\\Local\\Packages\\PythonSoftwareFoundation.Python.3.11_qbz5n2kfra8p0\\LocalCache\\local-packages\\Python311\\site-packages\\torch\\__init__.py:266\u001B[39m, in \u001B[36m_load_dll_libraries\u001B[39m\u001B[34m()\u001B[39m\n\u001B[32m    262\u001B[39m             err = ctypes.WinError(ctypes.get_last_error())\n\u001B[32m    263\u001B[39m             err.strerror += (\n\u001B[32m    264\u001B[39m                 \u001B[33mf\u001B[39m\u001B[33m'\u001B[39m\u001B[33m Error loading \u001B[39m\u001B[33m\"\u001B[39m\u001B[38;5;132;01m{\u001B[39;00mdll\u001B[38;5;132;01m}\u001B[39;00m\u001B[33m\"\u001B[39m\u001B[33m or one of its dependencies.\u001B[39m\u001B[33m'\u001B[39m\n\u001B[32m    265\u001B[39m             )\n\u001B[32m--> \u001B[39m\u001B[32m266\u001B[39m             \u001B[38;5;28;01mraise\u001B[39;00m err\n\u001B[32m    268\u001B[39m kernel32.SetErrorMode(prev_error_mode)\n",
      "\u001B[31mOSError\u001B[39m: [WinError 126] The specified module could not be found. Error loading \"C:\\Users\\Jay Tai\\AppData\\Local\\Packages\\PythonSoftwareFoundation.Python.3.11_qbz5n2kfra8p0\\LocalCache\\local-packages\\Python311\\site-packages\\torch\\lib\\c10.dll\" or one of its dependencies."
     ]
    }
   ],
   "execution_count": 1
  },
  {
   "metadata": {
    "ExecuteTime": {
     "end_time": "2025-06-17T03:59:24.824291Z",
     "start_time": "2025-06-17T03:58:22.137999Z"
    }
   },
   "cell_type": "code",
   "source": "pip uninstall torch torchvision torchaudio",
   "id": "14bdc756aacfb24e",
   "outputs": [
    {
     "name": "stdout",
     "output_type": "stream",
     "text": [
      "^C\n",
      "Note: you may need to restart the kernel to use updated packages.\n"
     ]
    }
   ],
   "execution_count": 4
  },
  {
   "metadata": {},
   "cell_type": "code",
   "outputs": [],
   "execution_count": null,
   "source": "pip install torch torchvision torchaudio --index-url https://download.pytorch.org/whl/cpu",
   "id": "d2096391c3aaabc8"
  }
 ],
 "metadata": {
  "kernelspec": {
   "display_name": "Python 3",
   "language": "python",
   "name": "python3"
  },
  "language_info": {
   "codemirror_mode": {
    "name": "ipython",
    "version": 2
   },
   "file_extension": ".py",
   "mimetype": "text/x-python",
   "name": "python",
   "nbconvert_exporter": "python",
   "pygments_lexer": "ipython2",
   "version": "2.7.6"
  }
 },
 "nbformat": 4,
 "nbformat_minor": 5
}
