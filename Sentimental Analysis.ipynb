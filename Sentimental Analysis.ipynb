{
 "cells": [
  {
   "metadata": {},
   "cell_type": "markdown",
   "source": [
    "# Sentimental Analysis\n",
    "\n",
    "Goal: Scrape data from a website like bloomberg, separate the news into categories, then assign a sentimental value\n",
    "\n",
    "spaCY was used to do preprocessing\n",
    "\n",
    "The following library are to be explored:\n",
    "\n",
    "1. VADER\n",
    "2. TextBlob\n",
    "3. Flair\n",
    "4. Models - RoBERTA (HuggingFace), DistilliBERT (HuggingFace)\n",
    "5. LLM\n",
    "6. Self Built (self-sourced Dataset)\n"
   ],
   "id": "2193c22260401624"
  },
  {
   "metadata": {},
   "cell_type": "markdown",
   "source": "## Exploring the Py libraries",
   "id": "f0bd2e9beb7fc1ff"
  },
  {
   "metadata": {
    "ExecuteTime": {
     "end_time": "2025-06-17T08:09:33.814507Z",
     "start_time": "2025-06-17T08:09:30.739462Z"
    }
   },
   "cell_type": "code",
   "source": [
    "import nltk\n",
    "nltk.download('wordnet')\n",
    "nltk.download('stopwords')\n",
    "nltk.download('punkt_tab')"
   ],
   "id": "49b31de351000735",
   "outputs": [
    {
     "name": "stderr",
     "output_type": "stream",
     "text": [
      "[nltk_data] Downloading package wordnet to C:\\Users\\Jay\n",
      "[nltk_data]     Tai\\AppData\\Roaming\\nltk_data...\n",
      "[nltk_data] Downloading package stopwords to C:\\Users\\Jay\n",
      "[nltk_data]     Tai\\AppData\\Roaming\\nltk_data...\n",
      "[nltk_data]   Unzipping corpora\\stopwords.zip.\n",
      "[nltk_data] Downloading package punkt_tab to C:\\Users\\Jay\n",
      "[nltk_data]     Tai\\AppData\\Roaming\\nltk_data...\n",
      "[nltk_data]   Unzipping tokenizers\\punkt_tab.zip.\n"
     ]
    },
    {
     "data": {
      "text/plain": [
       "True"
      ]
     },
     "execution_count": 6,
     "metadata": {},
     "output_type": "execute_result"
    }
   ],
   "execution_count": 6
  },
  {
   "metadata": {
    "ExecuteTime": {
     "end_time": "2025-06-17T08:09:37.093743Z",
     "start_time": "2025-06-17T08:09:35.378868Z"
    }
   },
   "cell_type": "code",
   "source": [
    "# setup\n",
    "\n",
    "sentence = \"Trump to Leave G-7 Tonight Due to Middle East Crisis\"\n",
    "\n",
    "# Preprocessing\n",
    "\n",
    "from nltk.tokenize import word_tokenize\n",
    "from nltk.corpus import stopwords\n",
    "from nltk.stem import WordNetLemmatizer\n",
    "\n",
    "# Initialize NLTK tools\n",
    "stop_words = set(stopwords.words('english'))\n",
    "lemmatizer = WordNetLemmatizer()\n",
    "\n",
    "# Preprocess text\n",
    "tokens = word_tokenize(sentence.lower())  # Tokenize and lowercase\n",
    "cleaned_tokens = [lemmatizer.lemmatize(token) for token in tokens if token.isalpha() and token not in stop_words]\n",
    "test_sentence = \" \".join(cleaned_tokens)\n",
    "print(test_sentence)"
   ],
   "id": "9fac6435f5ff0170",
   "outputs": [
    {
     "name": "stdout",
     "output_type": "stream",
     "text": [
      "trump leave tonight due middle east crisis\n"
     ]
    }
   ],
   "execution_count": 7
  },
  {
   "metadata": {},
   "cell_type": "markdown",
   "source": "### 1. VADER",
   "id": "7a7d37fc0c0f14fc"
  },
  {
   "cell_type": "code",
   "id": "initial_id",
   "metadata": {
    "collapsed": true,
    "ExecuteTime": {
     "end_time": "2025-06-17T08:03:09.252593Z",
     "start_time": "2025-06-17T08:03:09.197012Z"
    }
   },
   "source": [
    "# Prebuilt Vader sentiment package\n",
    "\n",
    "from vaderSentiment.vaderSentiment import SentimentIntensityAnalyzer\n",
    "analyzer = SentimentIntensityAnalyzer()\n",
    "scores = analyzer.polarity_scores(test_sentence)\n",
    "print(scores)"
   ],
   "outputs": [
    {
     "name": "stdout",
     "output_type": "stream",
     "text": [
      "{'neg': 0.515, 'neu': 0.485, 'pos': 0.0, 'compound': -0.6486}\n"
     ]
    }
   ],
   "execution_count": 23
  },
  {
   "metadata": {},
   "cell_type": "markdown",
   "source": "### 2. TextBlob",
   "id": "119bdd34da09b06a"
  },
  {
   "metadata": {
    "ExecuteTime": {
     "end_time": "2025-06-17T08:03:13.815477Z",
     "start_time": "2025-06-17T08:03:13.586474Z"
    }
   },
   "cell_type": "code",
   "source": [
    "# Prebuilt Textblob sentiment package\n",
    "\n",
    "from textblob import TextBlob\n",
    "text = TextBlob(test_sentence)\n",
    "score = text.sentiment\n",
    "print(score)"
   ],
   "id": "91d3e6559d45db91",
   "outputs": [
    {
     "name": "stdout",
     "output_type": "stream",
     "text": [
      "Sentiment(polarity=-0.0625, subjectivity=0.1875)\n"
     ]
    }
   ],
   "execution_count": 24
  },
  {
   "metadata": {},
   "cell_type": "markdown",
   "source": [
    "### 3. Flair\n",
    "\n",
    "Is optimized for sequence labeling but also has prebuild sentiment classification"
   ],
   "id": "5c513bc60f546da9"
  },
  {
   "metadata": {},
   "cell_type": "code",
   "source": [
    "# Prebuilt Flair sentiment package/Model\n",
    "\n",
    "from flair.data import Sentence\n",
    "from flair.nn import Classifier\n",
    "\n",
    "sentence = Sentence(test_sentence)\n",
    "tagger = Classifier.load('sentiment')\n",
    "tagger.predict(sentence)\n",
    "print(sentence)"
   ],
   "id": "3a17b17ba7907748",
   "outputs": [],
   "execution_count": null
  },
  {
   "metadata": {},
   "cell_type": "markdown",
   "source": "### 4. HuggingFace Transformers",
   "id": "17218a63e9f9044c"
  },
  {
   "metadata": {},
   "cell_type": "code",
   "source": "from transformers import pipeline",
   "id": "87c16e128c2783db",
   "outputs": [],
   "execution_count": null
  },
  {
   "metadata": {},
   "cell_type": "markdown",
   "source": "#### - RoBERTa",
   "id": "cb40705550143cc0"
  },
  {
   "metadata": {},
   "cell_type": "code",
   "source": [
    "classifier = pipeline('sentiment-analysis', model='cardiffnlp/twitter-roberta-base-sentiment')\n",
    "result = classifier(test_sentence)\n",
    "print(result)"
   ],
   "id": "abcf26e6644caaef",
   "outputs": [],
   "execution_count": null
  },
  {
   "metadata": {},
   "cell_type": "markdown",
   "source": "#### - DistilBERT",
   "id": "4acdd1f0a2de7930"
  },
  {
   "metadata": {},
   "cell_type": "code",
   "source": [
    "classifier = pipeline('sentiment-analysis', model='distilbert-base-uncased-finetuned-sst-2-english')\n",
    "result = classifier(test_sentence)\n",
    "print(result)"
   ],
   "id": "68f02a1362c85665",
   "outputs": [],
   "execution_count": null
  },
  {
   "metadata": {},
   "cell_type": "markdown",
   "source": "#### - Google Flan t5 base LLM model (Open source via HuggingFace)",
   "id": "b1be917b6a3da9b6"
  },
  {
   "metadata": {},
   "cell_type": "code",
   "source": [
    "classifier = pipeline(\"text2text-generation\", model=\"google/flan-t5-base\")\n",
    "prompt = f\"Classify the sentiment of '{test_sentence}' as positive, negative, or neutral, and give a sentimental score of -1 to 1.\"\n",
    "result = classifier(prompt)\n",
    "print(result)"
   ],
   "id": "d8fe64f25bbd57c8",
   "outputs": [],
   "execution_count": null
  },
  {
   "metadata": {},
   "cell_type": "markdown",
   "source": "### 5. OpenRouter to send api request to LLM",
   "id": "ad5d025246605ac"
  },
  {
   "metadata": {
    "ExecuteTime": {
     "end_time": "2025-06-17T08:09:58.679106Z",
     "start_time": "2025-06-17T08:09:42.469777Z"
    }
   },
   "cell_type": "code",
   "source": [
    "# LLM Qwen\n",
    "\n",
    "from openai import OpenAI\n",
    "\n",
    "client = OpenAI(\n",
    "  base_url=\"https://openrouter.ai/api/v1\",\n",
    "  api_key=\"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\",\n",
    ")\n",
    "\n",
    "completion = client.chat.completions.create(\n",
    "  extra_body={},\n",
    "  model=\"deepseek/deepseek-r1-0528-qwen3-8b:free\",\n",
    "  messages=[\n",
    "    {\n",
    "      \"role\": \"user\",\n",
    "      \"content\": f\"Conduct Sentimental Analysis on the following statement(s) and give me a polarity and score. {test_sentence}\"\n",
    "    }\n",
    "  ]\n",
    ")\n",
    "print(completion.choices[0].message.content)"
   ],
   "id": "c7a8d51013f358ac",
   "outputs": [
    {
     "name": "stdout",
     "output_type": "stream",
     "text": [
      "Okay, let's break down the statement: \"trump leave tonight due middle east crisis\".\n",
      "\n",
      "1.  **Understanding the Statement:** This statement is saying that someone named Trump will leave tonight because there is a \"middle east crisis\". Assuming \"leave\" means departing from the Middle East, the context implies leadership withdrawal during a time of instability.\n",
      "\n",
      "2.  **Sentiment Analysis:**\n",
      "    *   **Polarity:** The inherent relationship described (领导人因危机离开) generally carries negative connotations. Crises are disruptive, stressful, and often seen negatively. His departure *during* a crisis, especially if he holds a position of authority often considered stabilizing in such situations (like Commander-in-Chief), creates uncertainty. Sentiment analysis tools often interpret this as having a **slightly negative or negative polarity.**\n",
      "    *   **Score:** Standard sentiment analysis gives scores (e.g., from -1 to +1). Most tools would lean towards the negative side.\n",
      "        *   A simple analysis might give a score like **-0.3** or **-0.5** (negative but perhaps not extremely so, as it depends heavily on the specific context and desired outcome).\n",
      "        *   A sentiment score of **-0.2** could represent a very slight negative tendency due *only* to the crisis context.\n",
      "\n",
      "**Conclusion:**\n",
      "\n",
      "Based on the information provided:\n",
      "\n",
      "*   **Polarity:** Negative\n",
      "*   **Score:** Around -0.3 or -0.2 (indicating a negative or very slightly negative sentiment)\n",
      "\n",
      "**Important Caveats:**\n",
      "\n",
      "*   This analysis is based *solely* on the given text and common associations.\n",
      "*   The analysis focuses on the *act* (leaving *during* a crisis and the *cause* being a crisis) rather than evaluating the broader situation or consequences.\n",
      "*   The sentiment is derived from the *potential negative implications* the statement evokes (uncertainty, potential instability).\n"
     ]
    }
   ],
   "execution_count": 8
  },
  {
   "metadata": {},
   "cell_type": "markdown",
   "source": [
    "### 6. Building own model from data taken from Kraggle\n",
    "\n",
    "cnbc: (3080, 3) --> used for tesing\n",
    "\n",
    "guardian: (17800, 2)\n",
    "\n",
    "retuers: (32770, 3)"
   ],
   "id": "ded858992243b6d5"
  },
  {
   "metadata": {},
   "cell_type": "code",
   "source": [
    "import pandas as pd\n",
    "cnbc = pd.read_csv(\"data/cnbc_headlines.csv\") # used as a testing data across the board\n",
    "guardian = pd.read_csv(\"data/guardian_headlines.csv\")\n",
    "reuters = pd.read_csv(\"data/reuters_headlines.csv\")"
   ],
   "id": "1bf7f406b267cde8",
   "outputs": [],
   "execution_count": null
  },
  {
   "metadata": {},
   "cell_type": "code",
   "source": [
    "# preparing training data --> combining guardian and reuters together\n",
    "\n",
    "train_set = pd.DataFrame({\n",
    "    'Headlines': list(guardian['Headlines']) + list(reuters['Headlines']),\n",
    "    'Time': list(guardian['Time']) + list(reuters['Time'])\n",
    "})\n",
    "\n",
    "train_set.shape"
   ],
   "id": "ec2b33bf8fc924eb",
   "outputs": [],
   "execution_count": null
  },
  {
   "metadata": {},
   "cell_type": "code",
   "source": [
    "# preparing testing data\n",
    "\n",
    "test_set = pd.DataFrame({\n",
    "    'Headlines': list(cnbc['Headlines']),\n",
    "    'Time': list(cnbc['Time'])\n",
    "})"
   ],
   "id": "dcc4ad0fc36126b8",
   "outputs": [],
   "execution_count": null
  },
  {
   "metadata": {},
   "cell_type": "code",
   "source": "",
   "id": "eb0f4f96ace7ff39",
   "outputs": [],
   "execution_count": null
  }
 ],
 "metadata": {
  "kernelspec": {
   "display_name": "Python 3",
   "language": "python",
   "name": "python3"
  },
  "language_info": {
   "codemirror_mode": {
    "name": "ipython",
    "version": 2
   },
   "file_extension": ".py",
   "mimetype": "text/x-python",
   "name": "python",
   "nbconvert_exporter": "python",
   "pygments_lexer": "ipython2",
   "version": "2.7.6"
  }
 },
 "nbformat": 4,
 "nbformat_minor": 5
}
