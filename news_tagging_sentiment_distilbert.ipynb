{
 "cells": [
  {
   "cell_type": "code",
   "id": "initial_id",
   "metadata": {
    "collapsed": true,
    "ExecuteTime": {
     "end_time": "2025-06-23T03:20:46.923876Z",
     "start_time": "2025-06-23T03:18:34.679300Z"
    }
   },
   "source": [
    "# Import libraries\n",
    "import pandas as pd\n",
    "import numpy as np\n",
    "from transformers import pipeline, DistilBertTokenizer, DistilBertModel\n",
    "import torch\n",
    "from sklearn.metrics.pairwise import cosine_similarity\n",
    "import re\n",
    "from datetime import datetime\n",
    "\n",
    "# Initialize DistilBERT sentiment analysis pipeline\n",
    "sentiment_analyzer = pipeline(\"sentiment-analysis\", model=\"distilbert-base-uncased-finetuned-sst-2-english\")\n",
    "\n",
    "# Initialize DistilBERT tokenizer and model for embeddings\n",
    "tokenizer = DistilBertTokenizer.from_pretrained('distilbert-base-uncased')\n",
    "model = DistilBertModel.from_pretrained('distilbert-base-uncased')\n",
    "\n",
    "# S&P 500 tickers and company names (partial list, extend as needed)\n",
    "sp500_tickers = {\n",
    "    'AAPL': 'Apple Inc.',\n",
    "    'MSFT': 'Microsoft Corporation',\n",
    "    'AMZN': 'Amazon.com Inc.',\n",
    "    'NVDA': 'Nvidia Corporation',\n",
    "    'GOOGL': 'Alphabet Inc. Class A',\n",
    "    'GOOG': 'Alphabet Inc. Class C',\n",
    "    'TSLA': 'Tesla Inc.',\n",
    "    'META': 'Meta Platforms Inc.',\n",
    "    'BRK-B': 'Berkshire Hathaway Inc. Class B',\n",
    "    'JPM': 'JPMorgan Chase & Co.',\n",
    "    'WMT': 'Walmart Inc.',\n",
    "    'V': 'Visa Inc.',\n",
    "    'MA': 'Mastercard Incorporated',\n",
    "    'UNH': 'UnitedHealth Group Incorporated',\n",
    "    'XOM': 'Exxon Mobil Corporation',\n",
    "    'PG': 'Procter & Gamble Co.',\n",
    "    'COST': 'Costco Wholesale Corp.',\n",
    "    'JNJ': 'Johnson & Johnson',\n",
    "    'HD': 'Home Depot Inc.',\n",
    "    'MRK': 'Merck & Co. Inc.',\n",
    "    'LLY': 'Eli Lilly and Company',\n",
    "    'AVGO': 'Broadcom Inc.',\n",
    "    'BAC': 'Bank of America Corporation',\n",
    "    'CVX': 'Chevron Corporation',\n",
    "    'NFLX': 'Netflix Inc.',\n",
    "    'ADBE': 'Adobe Inc.',\n",
    "    'KO': 'Coca-Cola Company',\n",
    "    'PEP': 'PepsiCo Inc.',\n",
    "    'CRM': 'Salesforce Inc.',\n",
    "    'AMD': 'Advanced Micro Devices',\n",
    "    'INTC': 'Intel Corporation',\n",
    "    'CSCO': 'Cisco Systems Inc.',\n",
    "    'ORCL': 'Oracle Corporation',\n",
    "    'IBM': 'International Business Machines',\n",
    "    'PFE': 'Pfizer Inc.',\n",
    "    'DIS': 'Walt Disney Company',\n",
    "    'CMCSA': 'Comcast Corporation',\n",
    "    'VZ': 'Verizon Communications Inc.',\n",
    "    'T': 'AT&T Inc.',\n",
    "    'WFC': 'Wells Fargo & Company',\n",
    "    'GS': 'Goldman Sachs Group Inc.',\n",
    "    'C': 'Citigroup Inc.',\n",
    "    'CAT': 'Caterpillar Inc.',\n",
    "    'BA': 'Boeing Company',\n",
    "    'GE': 'General Electric Company',\n",
    "    'HON': 'Honeywell International Inc.',\n",
    "    'SBUX': 'Starbucks Corporation',\n",
    "    'NKE': 'NIKE Inc.',\n",
    "    'MCD': 'McDonald’s Corporation',\n",
    "    'LOW': 'Lowe’s Companies Inc.'\n",
    "}\n",
    "\n",
    "# Define categories\n",
    "categories = [\n",
    "    'News - Positive Sentiment', 'News - Negative Sentiment', 'News - New Products',\n",
    "    'News - Layoffs', 'News - Analyst Comments', 'News - Stocks', 'News - Dividends',\n",
    "    'News - Corporate Earnings', 'News - Mergers & Acquisitions', 'News - Store Openings',\n",
    "    'News - Product Recalls', 'News - Adverse Events', 'News - Personnel Changes',\n",
    "    'News - Stock Rumors'\n",
    "]\n",
    "\n",
    "# Category descriptions for embedding-based tagging (simulating fine-tuned model)\n",
    "category_descriptions = {\n",
    "    'News - Positive Sentiment': 'Stock price increases, optimistic outlook, strong performance',\n",
    "    'News - Negative Sentiment': 'Stock price declines, negative outlook, poor performance',\n",
    "    'News - New Products': 'Launch or announcement of new products or services',\n",
    "    'News - Layoffs': 'Company announces job cuts or downsizing',\n",
    "    'News - Analyst Comments': 'Analyst reports, forecasts, or concerns about the company',\n",
    "    'News - Stocks': 'General news about stock price or equity movements',\n",
    "    'News - Dividends': 'Announcements about dividend payouts or changes',\n",
    "    'News - Corporate Earnings': 'Reports on company earnings, revenue, or EPS',\n",
    "    'News - Mergers & Acquisitions': 'Mergers, acquisitions, or buyouts involving the company',\n",
    "    'News - Store Openings': 'New store openings or business expansion',\n",
    "    'News - Product Recalls': 'Product defects, recalls, or safety issues',\n",
    "    'News - Adverse Events': 'Lawsuits, regulatory scrutiny, or negative events',\n",
    "    'News - Personnel Changes': 'Changes in executives, CEO, or key personnel',\n",
    "    'News - Stock Rumors': 'Speculation or rumors about stock or company actions'\n",
    "}\n",
    "\n",
    "# Function to get DistilBERT embeddings\n",
    "def get_embeddings(text):\n",
    "    inputs = tokenizer(text, return_tensors='pt', truncation=True, padding=True, max_length=128)\n",
    "    with torch.no_grad():\n",
    "        outputs = model(**inputs)\n",
    "    return outputs.last_hidden_state[:, 0, :].numpy()  # CLS token embedding\n",
    "\n",
    "# Function to map headlines to tickers\n",
    "def map_to_ticker(text):\n",
    "    text_lower = text.lower()\n",
    "    for ticker, name in sp500_tickers.items():\n",
    "        if ticker.lower() in text_lower or name.lower() in text_lower:\n",
    "            return ticker\n",
    "    return 'Unknown'\n",
    "\n",
    "# Function for multi-label tagging using embeddings\n",
    "def tag_categories(text):\n",
    "    text_embedding = get_embeddings(text)\n",
    "    tags = []\n",
    "    for category, desc in category_descriptions.items():\n",
    "        desc_embedding = get_embeddings(desc)\n",
    "        similarity = cosine_similarity(text_embedding, desc_embedding)[0][0]\n",
    "        if similarity > 0.85:  # Threshold (adjust based on testing)\n",
    "            tags.append(category)\n",
    "    return tags if tags else ['None']\n",
    "\n",
    "# Apply sentiment analysis\n",
    "def get_sentiment(text):\n",
    "    result = sentiment_analyzer(text)[0]\n",
    "    label = result['label']\n",
    "    score = result['score']\n",
    "    return label, score"
   ],
   "outputs": [
    {
     "name": "stderr",
     "output_type": "stream",
     "text": [
      "Device set to use cpu\n"
     ]
    }
   ],
   "execution_count": 1
  },
  {
   "metadata": {
    "ExecuteTime": {
     "end_time": "2025-06-23T03:31:12.919089Z",
     "start_time": "2025-06-23T03:31:12.902867Z"
    }
   },
   "cell_type": "code",
   "source": [
    "import pandas as pd\n",
    "df = pd.read_csv('data/BloombergNews100.csv')"
   ],
   "id": "986273ea1938c57c",
   "outputs": [],
   "execution_count": 17
  },
  {
   "metadata": {
    "ExecuteTime": {
     "end_time": "2025-06-23T03:31:57.482773Z",
     "start_time": "2025-06-23T03:31:57.462970Z"
    }
   },
   "cell_type": "code",
   "source": "df['Ticker'] = df['Headline'].apply(map_to_ticker)",
   "id": "5cfc2161161a8c37",
   "outputs": [],
   "execution_count": 18
  },
  {
   "metadata": {
    "ExecuteTime": {
     "end_time": "2025-06-23T03:35:14.563413Z",
     "start_time": "2025-06-23T03:33:33.682228Z"
    }
   },
   "cell_type": "code",
   "source": "df['Categories'] = df['Headline'].apply(tag_categories)",
   "id": "f190d6ef115e5d50",
   "outputs": [],
   "execution_count": 20
  },
  {
   "metadata": {
    "ExecuteTime": {
     "end_time": "2025-06-23T03:37:26.196578Z",
     "start_time": "2025-06-23T03:37:21.811526Z"
    }
   },
   "cell_type": "code",
   "source": "df[['Sentiment', 'Sentiment_Score']] = df['Headline'].apply(get_sentiment).apply(pd.Series)",
   "id": "28ea6eea3ffc4f75",
   "outputs": [],
   "execution_count": 22
  },
  {
   "metadata": {
    "ExecuteTime": {
     "end_time": "2025-06-23T03:39:15.275557Z",
     "start_time": "2025-06-23T03:39:15.268667Z"
    }
   },
   "cell_type": "code",
   "source": "df.to_csv('data/News Tagging/news_tags_distilbert.csv')",
   "id": "7ada4e078ca3408b",
   "outputs": [],
   "execution_count": 23
  }
 ],
 "metadata": {
  "kernelspec": {
   "display_name": "Python 3",
   "language": "python",
   "name": "python3"
  },
  "language_info": {
   "codemirror_mode": {
    "name": "ipython",
    "version": 2
   },
   "file_extension": ".py",
   "mimetype": "text/x-python",
   "name": "python",
   "nbconvert_exporter": "python",
   "pygments_lexer": "ipython2",
   "version": "2.7.6"
  }
 },
 "nbformat": 4,
 "nbformat_minor": 5
}
