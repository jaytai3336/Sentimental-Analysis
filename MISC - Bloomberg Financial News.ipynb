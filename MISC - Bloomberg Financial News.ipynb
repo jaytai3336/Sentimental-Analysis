{
 "cells": [
  {
   "metadata": {},
   "cell_type": "markdown",
   "source": "# Downloading Bloomberg Financial News",
   "id": "e666ce75eabec9af"
  },
  {
   "metadata": {},
   "cell_type": "code",
   "source": [
    "import pandas as pd\n",
    "\n",
    "df = pd.read_parquet(\"hf://datasets/danidanou/Bloomberg_Financial_News/bloomberg_financial_data.parquet.gzip\")"
   ],
   "id": "4d1ac9393f0af131",
   "outputs": [],
   "execution_count": null
  },
  {
   "metadata": {},
   "cell_type": "code",
   "source": [
    "df1 = pd.DataFrame({\n",
    "    'Date' : df['Date'],\n",
    "    'Headline' : df['Headline']\n",
    "})"
   ],
   "id": "49841f62a637d34",
   "outputs": [],
   "execution_count": null
  },
  {
   "metadata": {},
   "cell_type": "code",
   "source": "df1.to_csv('data/BloombergNews1.csv')\n",
   "id": "3b3150b25ad8c75b",
   "outputs": [],
   "execution_count": null
  },
  {
   "metadata": {},
   "cell_type": "code",
   "source": "import pandas as pd",
   "id": "4aeeb650e845ea1f",
   "outputs": [],
   "execution_count": null
  },
  {
   "metadata": {
    "ExecuteTime": {
     "end_time": "2025-06-30T02:06:50.161681Z",
     "start_time": "2025-06-30T02:06:50.137491Z"
    }
   },
   "cell_type": "code",
   "source": [
    "df = pd.read_excel('data/News Articles/Amy/Test File.xlsx', header=None)\n",
    "df = list(df[0])"
   ],
   "id": "14bfadbecdf563bb",
   "outputs": [],
   "execution_count": 23
  },
  {
   "metadata": {
    "ExecuteTime": {
     "end_time": "2025-06-30T02:06:50.587131Z",
     "start_time": "2025-06-30T02:06:50.581696Z"
    }
   },
   "cell_type": "code",
   "source": [
    "Title_id = range(0,len(df), 4)\n",
    "Author_id = list(range(1,len(df), 4))\n",
    "Date_id = list(range(2,len(df), 4))\n",
    "Desc_id = list(range(3,len(df), 4))"
   ],
   "id": "97e191d68a9c8548",
   "outputs": [],
   "execution_count": 24
  },
  {
   "metadata": {
    "ExecuteTime": {
     "end_time": "2025-06-30T02:06:51.115465Z",
     "start_time": "2025-06-30T02:06:51.108217Z"
    }
   },
   "cell_type": "code",
   "source": [
    "data = pd.DataFrame({\n",
    "    'Title' : [df[i] for i in Title_id],\n",
    "    'Author' : [df[i] for i in Author_id],\n",
    "    'Date' : [df[i] for i in Date_id],\n",
    "    'Desc' : [df[i] for i in Desc_id]\n",
    "})"
   ],
   "id": "bf7c2e96fff6fa8c",
   "outputs": [],
   "execution_count": 25
  },
  {
   "metadata": {
    "ExecuteTime": {
     "end_time": "2025-06-30T02:07:42.922406Z",
     "start_time": "2025-06-30T02:07:42.898039Z"
    }
   },
   "cell_type": "code",
   "source": "data.to_csv('data/News Articles/Amy/Testing.csv')",
   "id": "9d1ff4c0db88c3d4",
   "outputs": [],
   "execution_count": 26
  },
  {
   "metadata": {},
   "cell_type": "code",
   "outputs": [],
   "execution_count": null,
   "source": "",
   "id": "4c03398130ba2fa8"
  }
 ],
 "metadata": {
  "kernelspec": {
   "display_name": "Python 3",
   "language": "python",
   "name": "python3"
  },
  "language_info": {
   "codemirror_mode": {
    "name": "ipython",
    "version": 2
   },
   "file_extension": ".py",
   "mimetype": "text/x-python",
   "name": "python",
   "nbconvert_exporter": "python",
   "pygments_lexer": "ipython2",
   "version": "2.7.6"
  }
 },
 "nbformat": 4,
 "nbformat_minor": 5
}
