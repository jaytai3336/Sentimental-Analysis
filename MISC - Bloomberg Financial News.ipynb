{
 "cells": [
  {
   "metadata": {},
   "cell_type": "markdown",
   "source": "# Downloading Bloomberg Financial News",
   "id": "e666ce75eabec9af"
  },
  {
   "metadata": {
    "ExecuteTime": {
     "end_time": "2025-06-23T03:03:07.833948Z",
     "start_time": "2025-06-23T03:01:58.702434Z"
    }
   },
   "cell_type": "code",
   "source": [
    "import pandas as pd\n",
    "\n",
    "df = pd.read_parquet(\"hf://datasets/danidanou/Bloomberg_Financial_News/bloomberg_financial_data.parquet.gzip\")"
   ],
   "id": "4d1ac9393f0af131",
   "outputs": [],
   "execution_count": 1
  },
  {
   "metadata": {
    "ExecuteTime": {
     "end_time": "2025-06-23T03:12:42.224913Z",
     "start_time": "2025-06-23T03:12:41.816688Z"
    }
   },
   "cell_type": "code",
   "source": [
    "df1 = pd.DataFrame({\n",
    "    'Date' : df['Date'],\n",
    "    'Headline' : df['Headline']\n",
    "})"
   ],
   "id": "49841f62a637d34",
   "outputs": [],
   "execution_count": 5
  },
  {
   "metadata": {
    "ExecuteTime": {
     "end_time": "2025-06-23T03:13:03.356587Z",
     "start_time": "2025-06-23T03:12:59.822512Z"
    }
   },
   "cell_type": "code",
   "source": "df1.to_csv('data/BloombergNews1.csv')\n",
   "id": "3b3150b25ad8c75b",
   "outputs": [],
   "execution_count": 6
  },
  {
   "metadata": {},
   "cell_type": "code",
   "outputs": [],
   "execution_count": null,
   "source": "",
   "id": "4aeeb650e845ea1f"
  }
 ],
 "metadata": {
  "kernelspec": {
   "display_name": "Python 3",
   "language": "python",
   "name": "python3"
  },
  "language_info": {
   "codemirror_mode": {
    "name": "ipython",
    "version": 2
   },
   "file_extension": ".py",
   "mimetype": "text/x-python",
   "name": "python",
   "nbconvert_exporter": "python",
   "pygments_lexer": "ipython2",
   "version": "2.7.6"
  }
 },
 "nbformat": 4,
 "nbformat_minor": 5
}
