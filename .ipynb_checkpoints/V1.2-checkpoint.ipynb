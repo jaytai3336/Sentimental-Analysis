{
 "cells": [
  {
   "cell_type": "code",
   "id": "initial_id",
   "metadata": {
    "collapsed": true
   },
   "source": [
    "import pandas as pd\n",
    "grouped_data = pd.read_csv('data/grouped_data/V1 grp_df.csv', parse_dates=True, index_col=0)\n",
    "grouped_data.index = pd.to_datetime(grouped_data.index)\n",
    "snp_data = pd.read_csv('data/Training Data/SNP 08-11.csv', parse_dates=True, index_col=0)\n",
    "snp_data.index = pd.to_datetime(snp_data.index)"
   ],
   "outputs": [],
   "execution_count": null
  },
  {
   "metadata": {
    "ExecuteTime": {
     "end_time": "2025-06-24T05:51:40.710242Z",
     "start_time": "2025-06-24T05:51:40.516295Z"
    }
   },
   "cell_type": "code",
   "source": [
    "import backtrader as bt\n",
    "\n",
    "cerebro = bt.Cerebro()\n",
    "\n",
    "cerebro.addstrategy(bt.Strategy)\n",
    "\n",
    "cerebro.adddata(bt.feeds.PandasData(dataname=snp_data))\n",
    "# cerebro.adddata(bt.feeds.PandasData(dataname=grouped_data))\n",
    "\n",
    "\n",
    "\n",
    "cerebro.run()\n",
    "\n",
    "cerebro.plot()"
   ],
   "id": "a94bf9f2c85484c",
   "outputs": [
    {
     "data": {
      "text/plain": [
       "[[<Figure size 640x480 with 34 Axes>]]"
      ]
     },
     "execution_count": 24,
     "metadata": {},
     "output_type": "execute_result"
    }
   ],
   "execution_count": 24
  },
  {
   "metadata": {},
   "cell_type": "code",
   "source": "",
   "id": "cdd173f563a7f784",
   "outputs": [],
   "execution_count": null
  }
 ],
 "metadata": {
  "kernelspec": {
   "display_name": "Python 3",
   "language": "python",
   "name": "python3"
  },
  "language_info": {
   "codemirror_mode": {
    "name": "ipython",
    "version": 2
   },
   "file_extension": ".py",
   "mimetype": "text/x-python",
   "name": "python",
   "nbconvert_exporter": "python",
   "pygments_lexer": "ipython2",
   "version": "2.7.6"
  }
 },
 "nbformat": 4,
 "nbformat_minor": 5
}
