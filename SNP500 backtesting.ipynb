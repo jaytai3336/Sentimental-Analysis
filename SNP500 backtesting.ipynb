{
 "cells": [
  {
   "cell_type": "code",
   "id": "initial_id",
   "metadata": {
    "collapsed": true,
    "ExecuteTime": {
     "end_time": "2025-06-25T09:51:12.127249Z",
     "start_time": "2025-06-25T09:51:12.056713Z"
    }
   },
   "source": [
    "import pandas as pd\n",
    "from sklearn.model_selection import train_test_split\n",
    "from sklearn.linear_model import LinearRegression\n",
    "from sklearn.metrics import mean_squared_error\n",
    "\n",
    "# Load the data\n",
    "data = pd.read_csv('data/SNP500 Historical data.csv')\n",
    "\n",
    "# Prepare data (cleaning, feature engineering)\n",
    "data['Date'] = pd.to_datetime(data['Date'])\n",
    "data.set_index('Date', inplace=True)\n",
    "\n",
    "# Select features and target variable\n",
    "X = data[['Open', 'High', 'Low']]  # Example features\n",
    "y = data['Close']  # Target variable\n",
    "\n",
    "# Split the data\n",
    "X_train, X_test, y_train, y_test = train_test_split(X, y, test_size=0.2, random_state=42)\n",
    "\n",
    "# Train the model\n",
    "model = LinearRegression()\n",
    "model.fit(X_train, y_train)\n",
    "\n",
    "# Make predictions\n",
    "predictions = model.predict(X_test)\n",
    "\n",
    "# Evaluate the model\n",
    "mse = mean_squared_error(y_test, predictions)\n",
    "print(f'Mean Squared Error: {mse}')\n",
    "print(model.coef_)\n"
   ],
   "outputs": [
    {
     "name": "stdout",
     "output_type": "stream",
     "text": [
      "Mean Squared Error: 8485.457280960542\n",
      "[-0.69639441  0.88293785  0.80831927]\n"
     ]
    }
   ],
   "execution_count": 14
  },
  {
   "metadata": {
    "ExecuteTime": {
     "end_time": "2025-06-25T09:36:19.384261Z",
     "start_time": "2025-06-25T09:36:19.238321Z"
    }
   },
   "cell_type": "code",
   "source": [
    "from sklearn.tree import DecisionTreeRegressor\n",
    "import pandas as pd\n",
    "import numpy as np\n",
    "\n",
    "# Load the data\n",
    "data = pd.read_csv('data/SNP500 Historical data.csv', na_values=['#NUM!', '#DIV/0!', 'N/A'])\n",
    "\n",
    "# Convert 'Date' to datetime and set as index\n",
    "data['Date'] = pd.to_datetime(data['Date'])\n",
    "data.set_index('Date', inplace=True)\n",
    "\n",
    "# Prepare features and target\n",
    "X = data[['Open', 'Low', 'High','Close Lag-1', 'Open Lag-1', 'High Lag-1', 'Low Lag-1',\n",
    "            'SMA-5d', 'SMA-8d', 'SMA-13d', 'SMA-21d', 'EMA-5d',\n",
    "          'EMA-8d', 'EMA-12d', 'EMA-26d', 'RSI-14d', 'RSI-21d', 'UpperBollingerBand',\n",
    "          'LowerBollingerBand', 'MACD', 'Stoc%K', 'TR', 'ATR',\n",
    "          'Return Lag-1', 'Return% Lag-1', 'Log Return Lag-1', 'Log Return-3d Lag-1',\n",
    "          'Log Return-5d Lag-1', 'SMA-5d Lag-1', 'SMA-8d Lag-1', 'SMA-13d Lag-1', 'SMA-21d Lag-1', 'EMA-5d Lag-1',\n",
    "          'EMA-8d Lag-1', 'EMA-12d Lag-1', 'EMA-26d Lag-1', 'RSI-14d Lag-1', 'RSI-21d Lag-1', 'UpperBollingerBand Lag-1',\n",
    "          'LowerBollingerBand Lag-1', 'MACD Lag-1', 'Stoc%K Lag-1', 'TR Lag-1', 'ATR Lag-1']]\n",
    "y = data['Log Return']\n",
    "\n",
    "# Replace any remaining non-numeric values with NaN\n",
    "X = X.replace(['#NUM!', '#DIV/0!', 'N/A'], np.nan)\n",
    "y = y.replace(['#NUM!', '#DIV/0!', 'N/A'], np.nan)\n",
    "\n",
    "# Remove rows with NaN values from X and y\n",
    "data_clean = pd.concat([X, y], axis=1).dropna()\n",
    "X_clean = data_clean[X.columns]\n",
    "y_clean = data_clean['Log Return']\n",
    "\n",
    "# Convert all features to float to ensure numeric data\n",
    "X_clean = X_clean.astype(float)\n",
    "y_clean = y_clean.astype(float)\n",
    "\n",
    "# Train the decision tree regressor\n",
    "dt = DecisionTreeRegressor(random_state=42)\n",
    "dt.fit(X_clean, y_clean)\n",
    "\n",
    "# Get feature importance\n",
    "importance = dt.feature_importances_\n",
    "\n",
    "# Create a DataFrame for better visualization\n",
    "feature_importance_df = pd.DataFrame({\n",
    "    'Feature': X_clean.columns,\n",
    "    'Importance': importance\n",
    "}).sort_values(by='Importance', ascending=False)\n",
    "\n",
    "print(\"Feature Importance:\")\n",
    "print(feature_importance_df)\n",
    "\n",
    "# Print the cleaned DataFrame shape to verify\n",
    "print(\"\\nCleaned DataFrame Shape:\", data_clean.shape)"
   ],
   "id": "e399dd0845285269",
   "outputs": [
    {
     "name": "stdout",
     "output_type": "stream",
     "text": [
      "Feature Importance:\n",
      "                     Feature  Importance\n",
      "20                    Stoc%K    0.387256\n",
      "41              Stoc%K Lag-1    0.340110\n",
      "21                        TR    0.091194\n",
      "42                  TR Lag-1    0.038234\n",
      "26       Log Return-3d Lag-1    0.030521\n",
      "25          Log Return Lag-1    0.016153\n",
      "27       Log Return-5d Lag-1    0.013623\n",
      "24             Return% Lag-1    0.013585\n",
      "43                 ATR Lag-1    0.011154\n",
      "22                       ATR    0.010285\n",
      "40                MACD Lag-1    0.007725\n",
      "23              Return Lag-1    0.005608\n",
      "15                   RSI-14d    0.004374\n",
      "16                   RSI-21d    0.004244\n",
      "33              EMA-8d Lag-1    0.003057\n",
      "29              SMA-8d Lag-1    0.002891\n",
      "1                        Low    0.002177\n",
      "6                  Low Lag-1    0.001767\n",
      "37             RSI-21d Lag-1    0.001754\n",
      "35             EMA-26d Lag-1    0.001536\n",
      "19                      MACD    0.001212\n",
      "9                    SMA-13d    0.001179\n",
      "11                    EMA-5d    0.001047\n",
      "36             RSI-14d Lag-1    0.000917\n",
      "5                 High Lag-1    0.000879\n",
      "30             SMA-13d Lag-1    0.000867\n",
      "18        LowerBollingerBand    0.000863\n",
      "31             SMA-21d Lag-1    0.000663\n",
      "38  UpperBollingerBand Lag-1    0.000640\n",
      "39  LowerBollingerBand Lag-1    0.000594\n",
      "10                   SMA-21d    0.000469\n",
      "3                Close Lag-1    0.000433\n",
      "4                 Open Lag-1    0.000412\n",
      "8                     SMA-8d    0.000394\n",
      "32              EMA-5d Lag-1    0.000378\n",
      "13                   EMA-12d    0.000369\n",
      "0                       Open    0.000319\n",
      "7                     SMA-5d    0.000289\n",
      "34             EMA-12d Lag-1    0.000230\n",
      "14                   EMA-26d    0.000168\n",
      "12                    EMA-8d    0.000166\n",
      "17        UpperBollingerBand    0.000109\n",
      "2                       High    0.000102\n",
      "28              SMA-5d Lag-1    0.000051\n",
      "\n",
      "Cleaned DataFrame Shape: (2482, 45)\n"
     ]
    }
   ],
   "execution_count": 9
  },
  {
   "metadata": {},
   "cell_type": "code",
   "source": [
    "# Feature Importance:\n",
    "#                      Feature  Importance\n",
    "# 20                    Stoc%K    0.387256\n",
    "# 41              Stoc%K Lag-1    0.340110\n",
    "# 21                        TR    0.091194\n",
    "# 42                  TR Lag-1    0.038234\n",
    "# 26       Log Return-3d Lag-1    0.030521\n",
    "# 25          Log Return Lag-1    0.016153\n",
    "# 27       Log Return-5d Lag-1    0.013623\n",
    "# 24             Return% Lag-1    0.013585\n",
    "# 43                 ATR Lag-1    0.011154"
   ],
   "id": "42ac193ec881287",
   "outputs": [],
   "execution_count": null
  }
 ],
 "metadata": {
  "kernelspec": {
   "display_name": "Python 3",
   "language": "python",
   "name": "python3"
  },
  "language_info": {
   "codemirror_mode": {
    "name": "ipython",
    "version": 2
   },
   "file_extension": ".py",
   "mimetype": "text/x-python",
   "name": "python",
   "nbconvert_exporter": "python",
   "pygments_lexer": "ipython2",
   "version": "2.7.6"
  }
 },
 "nbformat": 4,
 "nbformat_minor": 5
}
