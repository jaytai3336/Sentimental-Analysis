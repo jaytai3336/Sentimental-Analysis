{
 "cells": [
  {
   "cell_type": "code",
   "id": "initial_id",
   "metadata": {
    "collapsed": true
   },
   "source": [
    "import pandas as pd\n",
    "from sklearn.model_selection import train_test_split\n",
    "from sklearn.linear_model import LinearRegression\n",
    "from sklearn.metrics import mean_squared_error\n",
    "\n",
    "# Load the data\n",
    "data = pd.read_csv('data/SNP500 Historical data.csv')\n",
    "\n",
    "# Prepare data (cleaning, feature engineering)\n",
    "data['Date'] = pd.to_datetime(data['Date'])\n",
    "data.set_index('Date', inplace=True)\n",
    "\n",
    "# Select features and target variable\n",
    "X = data[['Open', 'High', 'Low']]  # Example features\n",
    "y = data['Close']  # Target variable\n",
    "\n",
    "# Split the data\n",
    "X_train, X_test, y_train, y_test = train_test_split(X, y, test_size=0.2, random_state=42)\n",
    "\n",
    "# Train the model\n",
    "model = LinearRegression()\n",
    "model.fit(X_train, y_train)\n",
    "\n",
    "# Make predictions\n",
    "predictions = model.predict(X_test)\n",
    "\n",
    "# Evaluate the model\n",
    "mse = mean_squared_error(y_test, predictions)\n",
    "print(f'Mean Squared Error: {mse}')"
   ],
   "outputs": [],
   "execution_count": null
  },
  {
   "metadata": {
    "ExecuteTime": {
     "end_time": "2025-06-24T17:34:24.236411Z",
     "start_time": "2025-06-24T17:34:24.159396Z"
    }
   },
   "cell_type": "code",
   "source": [
    "from sklearn.tree import DecisionTreeRegressor\n",
    "import pandas as pd\n",
    "import numpy as np\n",
    "\n",
    "# Load the data\n",
    "data = pd.read_csv('data/SNP500 Historical data.csv', na_values=['#NUM!', '#DIV/0!', 'N/A'])\n",
    "\n",
    "# Convert 'Date' to datetime and set as index\n",
    "data['Date'] = pd.to_datetime(data['Date'])\n",
    "data.set_index('Date', inplace=True)\n",
    "\n",
    "# Prepare features and target\n",
    "X = data[['Open', 'High', 'Low', 'Return', 'Return%', 'Log Return', 'Log Return-3d',\n",
    "          'Log Return-5d', 'SMA-5d', 'SMA-8d', 'SMA-13d', 'SMA-21d', 'EMA-5d',\n",
    "          'EMA-8d', 'EMA-12d', 'EMA-26d', 'RSI-14d', 'RSI-21d', 'UpperBollingerBand',\n",
    "          'LowerBollingerBand', 'MACD', 'Stoc%K', 'TR', 'ATR']]\n",
    "y = data['Close']\n",
    "\n",
    "# Replace any remaining non-numeric values with NaN\n",
    "X = X.replace(['#NUM!', '#DIV/0!', 'N/A'], np.nan)\n",
    "y = y.replace(['#NUM!', '#DIV/0!', 'N/A'], np.nan)\n",
    "\n",
    "# Remove rows with NaN values from X and y\n",
    "data_clean = pd.concat([X, y], axis=1).dropna()\n",
    "X_clean = data_clean[X.columns]\n",
    "y_clean = data_clean['Close']\n",
    "\n",
    "# Convert all features to float to ensure numeric data\n",
    "X_clean = X_clean.astype(float)\n",
    "y_clean = y_clean.astype(float)\n",
    "\n",
    "# Train the decision tree regressor\n",
    "dt = DecisionTreeRegressor(random_state=42)\n",
    "dt.fit(X_clean, y_clean)\n",
    "\n",
    "# Get feature importance\n",
    "importance = dt.feature_importances_\n",
    "\n",
    "# Create a DataFrame for better visualization\n",
    "feature_importance_df = pd.DataFrame({\n",
    "    'Feature': X_clean.columns,\n",
    "    'Importance': importance\n",
    "}).sort_values(by='Importance', ascending=False)\n",
    "\n",
    "print(\"Feature Importance:\")\n",
    "print(feature_importance_df)\n",
    "\n",
    "# Print the cleaned DataFrame shape to verify\n",
    "print(\"\\nCleaned DataFrame Shape:\", data_clean.shape)"
   ],
   "id": "e399dd0845285269",
   "outputs": [
    {
     "name": "stdout",
     "output_type": "stream",
     "text": [
      "Feature Importance:\n",
      "               Feature  Importance\n",
      "2                  Low    0.798190\n",
      "12              EMA-5d    0.127845\n",
      "1                 High    0.068552\n",
      "11             SMA-21d    0.005163\n",
      "0                 Open    0.000098\n",
      "21              Stoc%K    0.000024\n",
      "22                  TR    0.000022\n",
      "18  UpperBollingerBand    0.000016\n",
      "19  LowerBollingerBand    0.000010\n",
      "14             EMA-12d    0.000009\n",
      "16             RSI-14d    0.000008\n",
      "4              Return%    0.000008\n",
      "23                 ATR    0.000008\n",
      "17             RSI-21d    0.000007\n",
      "6        Log Return-3d    0.000007\n",
      "15             EMA-26d    0.000005\n",
      "8               SMA-5d    0.000005\n",
      "7        Log Return-5d    0.000005\n",
      "5           Log Return    0.000005\n",
      "20                MACD    0.000004\n",
      "13              EMA-8d    0.000004\n",
      "10             SMA-13d    0.000002\n",
      "3               Return    0.000002\n",
      "9               SMA-8d    0.000001\n",
      "\n",
      "Cleaned DataFrame Shape: (2487, 25)\n"
     ]
    }
   ],
   "execution_count": 30
  },
  {
   "metadata": {},
   "cell_type": "code",
   "source": "",
   "id": "42ac193ec881287",
   "outputs": [],
   "execution_count": null
  }
 ],
 "metadata": {
  "kernelspec": {
   "display_name": "Python 3",
   "language": "python",
   "name": "python3"
  },
  "language_info": {
   "codemirror_mode": {
    "name": "ipython",
    "version": 2
   },
   "file_extension": ".py",
   "mimetype": "text/x-python",
   "name": "python",
   "nbconvert_exporter": "python",
   "pygments_lexer": "ipython2",
   "version": "2.7.6"
  }
 },
 "nbformat": 4,
 "nbformat_minor": 5
}
