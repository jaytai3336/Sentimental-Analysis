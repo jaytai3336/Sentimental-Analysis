{
 "cells": [
  {
   "metadata": {},
   "cell_type": "markdown",
   "source": "# Explore Sentimental Lib",
   "id": "4311c2442637ce05"
  },
  {
   "metadata": {
    "ExecuteTime": {
     "end_time": "2025-06-16T07:54:09.749377Z",
     "start_time": "2025-06-16T07:54:07.219244Z"
    }
   },
   "cell_type": "code",
   "source": "",
   "id": "c8f44972b1bfc4bf",
   "outputs": [
    {
     "name": "stdout",
     "output_type": "stream",
     "text": [
      "Collecting sentimental\r\n",
      "  Using cached sentimental-2.2.3.tar.gz (35 kB)\r\n",
      "  Preparing metadata (setup.py) ... \u001B[?25lerror\r\n",
      "  \u001B[1;31merror\u001B[0m: \u001B[1msubprocess-exited-with-error\u001B[0m\r\n",
      "  \r\n",
      "  \u001B[31m×\u001B[0m \u001B[32mpython setup.py egg_info\u001B[0m did not run successfully.\r\n",
      "  \u001B[31m│\u001B[0m exit code: \u001B[1;36m1\u001B[0m\r\n",
      "  \u001B[31m╰─>\u001B[0m \u001B[31m[6 lines of output]\u001B[0m\r\n",
      "  \u001B[31m   \u001B[0m Traceback (most recent call last):\r\n",
      "  \u001B[31m   \u001B[0m   File \"<string>\", line 2, in <module>\r\n",
      "  \u001B[31m   \u001B[0m   File \"<pip-setuptools-caller>\", line 34, in <module>\r\n",
      "  \u001B[31m   \u001B[0m   File \"/private/var/folders/fb/jy_jt7nj1xj16d7j33smgbrw0000gn/T/pip-install-m_0g_cos/sentimental_8523f5897c69455a99650084fc459289/setup.py\", line 12, in <module>\r\n",
      "  \u001B[31m   \u001B[0m     from version import __version__\r\n",
      "  \u001B[31m   \u001B[0m ModuleNotFoundError: No module named 'version'\r\n",
      "  \u001B[31m   \u001B[0m \u001B[31m[end of output]\u001B[0m\r\n",
      "  \r\n",
      "  \u001B[1;35mnote\u001B[0m: This error originates from a subprocess, and is likely not a problem with pip.\r\n",
      "\u001B[1;31merror\u001B[0m: \u001B[1mmetadata-generation-failed\u001B[0m\r\n",
      "\r\n",
      "\u001B[31m×\u001B[0m Encountered error while generating package metadata.\r\n",
      "\u001B[31m╰─>\u001B[0m See above for output.\r\n",
      "\r\n",
      "\u001B[1;35mnote\u001B[0m: This is an issue with the package mentioned above, not pip.\r\n",
      "\u001B[1;36mhint\u001B[0m: See above for details.\r\n",
      "\u001B[?25hNote: you may need to restart the kernel to use updated packages.\n"
     ]
    }
   ],
   "execution_count": 3
  },
  {
   "metadata": {},
   "cell_type": "code",
   "outputs": [],
   "execution_count": null,
   "source": "",
   "id": "9161a4b547c998fc"
  }
 ],
 "metadata": {
  "kernelspec": {
   "display_name": "Python 3",
   "language": "python",
   "name": "python3"
  },
  "language_info": {
   "codemirror_mode": {
    "name": "ipython",
    "version": 2
   },
   "file_extension": ".py",
   "mimetype": "text/x-python",
   "name": "python",
   "nbconvert_exporter": "python",
   "pygments_lexer": "ipython2",
   "version": "2.7.6"
  }
 },
 "nbformat": 4,
 "nbformat_minor": 5
}
